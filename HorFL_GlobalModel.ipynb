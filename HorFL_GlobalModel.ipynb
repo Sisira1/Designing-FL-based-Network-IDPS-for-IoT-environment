{
 "cells": [
  {
   "cell_type": "code",
   "execution_count": 1,
   "id": "9d6b9910-ef51-4a12-939e-cdbe4e461fc4",
   "metadata": {},
   "outputs": [],
   "source": [
    "import numpy as np\n",
    "import pandas as pd\n",
    "import seaborn as sns\n",
    "import missingno as msno\n",
    "\n",
    "sns.set(style='darkgrid')\n",
    "import matplotlib.pyplot as plt\n",
    "\n",
    "import joblib\n",
    "import os\n",
    "\n",
    "import pandas as pd\n",
    "from sklearn.ensemble import RandomForestClassifier"
   ]
  },
  {
   "cell_type": "markdown",
   "id": "923aae6c-4faa-41ff-9e93-227bf0182b2f",
   "metadata": {
    "tags": []
   },
   "source": [
    "## Loading models"
   ]
  },
  {
   "cell_type": "code",
   "execution_count": 42,
   "id": "35877577-6866-4c3d-b105-5b2af9be42e9",
   "metadata": {},
   "outputs": [],
   "source": [
    "# Paths for client models\n",
    "client_model_paths = [\n",
    "    \"Sisira Horizontal/trial new/Fresh_models/client_1_model.pkl\",\n",
    "    \"Sisira Horizontal/trial new/Fresh_models/client_2_model.pkl\",\n",
    "    \"Sisira Horizontal/trial new/Fresh_models/client_3_model.pkl\",\n",
    "    \"Sisira Horizontal/trial new/Fresh_models/client_4_model.pkl\",\n",
    "    \"Sisira Horizontal/trial new/Fresh_models/client_5_model.pkl\"\n",
    "]"
   ]
  },
  {
   "cell_type": "code",
   "execution_count": 43,
   "id": "4205512a-8ccf-4fbf-ba31-20d4f4490d08",
   "metadata": {},
   "outputs": [
    {
     "data": {
      "text/plain": [
       "5"
      ]
     },
     "execution_count": 43,
     "metadata": {},
     "output_type": "execute_result"
    }
   ],
   "source": [
    "# Iterate through each client model file, load the model, and aggregate its trees\n",
    "client_models = []\n",
    "for client_model_path in client_model_paths:\n",
    "    # Load the client's local model\n",
    "    client_models.append(joblib.load(client_model_path))\n",
    "\n",
    "len(client_models)"
   ]
  },
  {
   "cell_type": "markdown",
   "id": "d87f9fff-586c-423b-b5e1-66a70cdc7a15",
   "metadata": {},
   "source": [
    "---"
   ]
  },
  {
   "cell_type": "code",
   "execution_count": 55,
   "id": "2db14fe0-03e0-4729-b441-ccfe0dfb5de0",
   "metadata": {},
   "outputs": [
    {
     "data": {
      "text/plain": [
       "array(['PC1', 'PC2', 'PC3', 'PC4', 'PC5', 'PC6', 'PC7', 'PC8', 'PC9',\n",
       "       'PC10', 'PC11', 'PC12', 'PC13', 'PC14', 'PC15', 'PC16', 'PC17',\n",
       "       'PC18', 'PC19', 'PC20', 'PC21', 'PC22', 'PC23', 'PC24', 'PC25',\n",
       "       'PC26', 'PC27', 'PC28', 'PC29', 'PC30', 'PC31', 'PC32', 'PC33',\n",
       "       'PC34', 'PC35'], dtype=object)"
      ]
     },
     "execution_count": 55,
     "metadata": {},
     "output_type": "execute_result"
    }
   ],
   "source": [
    "third = client_models[2]\n",
    "third.feature_names_in_,global_model.feature_names_in_# = np.sort(global_model.feature_names_in_)\n",
    "global_model.feature_names_in_ = third.feature_names_in_\n",
    "global_model.feature_names_in_\n",
    "# ?np.sort"
   ]
  },
  {
   "cell_type": "markdown",
   "id": "54991346-f851-4e77-87ad-122bb4972de6",
   "metadata": {},
   "source": [
    "---"
   ]
  },
  {
   "cell_type": "markdown",
   "id": "8f2579b2-2a68-438f-ba6f-567502ad8519",
   "metadata": {
    "tags": []
   },
   "source": [
    "## Collect Model Parameters"
   ]
  },
  {
   "cell_type": "markdown",
   "id": "d72a1de8-bbb4-4f74-8c41-b0de109aac80",
   "metadata": {},
   "source": [
    "### Label/Classes Collection"
   ]
  },
  {
   "cell_type": "code",
   "execution_count": 6,
   "id": "3a569d52-9afc-4a0a-9744-03032a443d16",
   "metadata": {},
   "outputs": [
    {
     "data": {
      "text/plain": [
       "9"
      ]
     },
     "execution_count": 6,
     "metadata": {},
     "output_type": "execute_result"
    }
   ],
   "source": [
    "attkLbl=[]\n",
    "for model in client_models:\n",
    "    thisModList = model.classes_.tolist()\n",
    "    attkLbl.extend(thisModList)\n",
    "    \n",
    "attkLbl = list(set(attkLbl))\n",
    "len(attkLbl)"
   ]
  },
  {
   "cell_type": "code",
   "execution_count": 14,
   "id": "b331d380-8202-4269-a8b3-78dbc2355d1e",
   "metadata": {
    "tags": []
   },
   "outputs": [
    {
     "name": "stdout",
     "output_type": "stream",
     "text": [
      "['PC12', 'PC4', 'PC20', 'PC9', 'PC32', 'PC31', 'PC19', 'PC2', 'PC33', 'PC18', 'PC27', 'PC21', 'PC1', 'PC24', 'PC34', 'PC8', 'PC16', 'PC30', 'PC17', 'PC29', 'PC5', 'PC23', 'PC15', 'PC3', 'PC25', 'PC28', 'PC22', 'PC7', 'PC6', 'PC11', 'PC13', 'PC26', 'PC14', 'PC10', 'PC35']\n"
     ]
    }
   ],
   "source": [
    "features = []\n",
    "for model in client_models:\n",
    "    l = model.feature_names_in_.tolist()\n",
    "    # print(l)\n",
    "    features.extend(l)\n",
    "\n",
    "features=list(set(temp))\n",
    "print(features)"
   ]
  },
  {
   "cell_type": "code",
   "execution_count": 20,
   "id": "25f1de99-89cb-46d7-bc86-1d3b4878e189",
   "metadata": {
    "scrolled": true,
    "tags": []
   },
   "outputs": [
    {
     "name": "stdout",
     "output_type": "stream",
     "text": [
      "Estimators: [DecisionTreeClassifier(max_features='sqrt', random_state=1324556529), DecisionTreeClassifier(max_features='sqrt', random_state=1324556529), DecisionTreeClassifier(max_features='sqrt', random_state=423734972), DecisionTreeClassifier(max_features='sqrt', random_state=782698033), DecisionTreeClassifier(max_features='sqrt', random_state=2126768636), DecisionTreeClassifier(max_features='sqrt', random_state=249467210), DecisionTreeClassifier(max_features='sqrt', random_state=1972458954), DecisionTreeClassifier(max_features='sqrt', random_state=1111451555), DecisionTreeClassifier(max_features='sqrt', random_state=1572714583), DecisionTreeClassifier(max_features='sqrt', random_state=698027879), DecisionTreeClassifier(max_features='sqrt', random_state=1972458954), DecisionTreeClassifier(max_features='sqrt', random_state=249467210), DecisionTreeClassifier(max_features='sqrt', random_state=472432043), DecisionTreeClassifier(max_features='sqrt', random_state=1201263687), DecisionTreeClassifier(max_features='sqrt', random_state=996406378), DecisionTreeClassifier(max_features='sqrt', random_state=1096768899), DecisionTreeClassifier(max_features='sqrt', random_state=782698033), DecisionTreeClassifier(max_features='sqrt', random_state=524150214), DecisionTreeClassifier(max_features='sqrt', random_state=1338788865), DecisionTreeClassifier(max_features='sqrt', random_state=1655351289), DecisionTreeClassifier(max_features='sqrt', random_state=1433267572), DecisionTreeClassifier(max_features='sqrt', random_state=698027879), DecisionTreeClassifier(max_features='sqrt', random_state=787110843), DecisionTreeClassifier(max_features='sqrt', random_state=1655351289), DecisionTreeClassifier(max_features='sqrt', random_state=1890440558), DecisionTreeClassifier(max_features='sqrt', random_state=1308306184), DecisionTreeClassifier(max_features='sqrt', random_state=1826030589), DecisionTreeClassifier(max_features='sqrt', random_state=434285667), DecisionTreeClassifier(max_features='sqrt', random_state=429389014), DecisionTreeClassifier(max_features='sqrt', random_state=86191493), DecisionTreeClassifier(max_features='sqrt', random_state=1096768899), DecisionTreeClassifier(max_features='sqrt', random_state=787846414), DecisionTreeClassifier(max_features='sqrt', random_state=68574553), DecisionTreeClassifier(max_features='sqrt', random_state=893102645), DecisionTreeClassifier(max_features='sqrt', random_state=1035196507), DecisionTreeClassifier(max_features='sqrt', random_state=1338788865), DecisionTreeClassifier(max_features='sqrt', random_state=1935803228), DecisionTreeClassifier(max_features='sqrt', random_state=200619113), DecisionTreeClassifier(max_features='sqrt', random_state=791274835), DecisionTreeClassifier(max_features='sqrt', random_state=613608295), DecisionTreeClassifier(max_features='sqrt', random_state=893664919), DecisionTreeClassifier(max_features='sqrt', random_state=1308306184), DecisionTreeClassifier(max_features='sqrt', random_state=290770691), DecisionTreeClassifier(max_features='sqrt', random_state=1826030589), DecisionTreeClassifier(max_features='sqrt', random_state=419498548), DecisionTreeClassifier(max_features='sqrt', random_state=991681409), DecisionTreeClassifier(max_features='sqrt', random_state=1273642419), DecisionTreeClassifier(max_features='sqrt', random_state=793943861), DecisionTreeClassifier(max_features='sqrt', random_state=669991378), DecisionTreeClassifier(max_features='sqrt', random_state=648061058), DecisionTreeClassifier(max_features='sqrt', random_state=86191493), DecisionTreeClassifier(max_features='sqrt', random_state=419498548), DecisionTreeClassifier(max_features='sqrt', random_state=68574553), DecisionTreeClassifier(max_features='sqrt', random_state=134489564), DecisionTreeClassifier(max_features='sqrt', random_state=1608637542), DecisionTreeClassifier(max_features='sqrt', random_state=88409749), DecisionTreeClassifier(max_features='sqrt', random_state=1572714583), DecisionTreeClassifier(max_features='sqrt', random_state=1431061255), DecisionTreeClassifier(max_features='sqrt', random_state=893102645), DecisionTreeClassifier(max_features='sqrt', random_state=991681409), DecisionTreeClassifier(max_features='sqrt', random_state=147697582), DecisionTreeClassifier(max_features='sqrt', random_state=429389014), DecisionTreeClassifier(max_features='sqrt', random_state=200619113), DecisionTreeClassifier(max_features='sqrt', random_state=744595490), DecisionTreeClassifier(max_features='sqrt', random_state=1431061255), DecisionTreeClassifier(max_features='sqrt', random_state=147697582), DecisionTreeClassifier(max_features='sqrt', random_state=744595490), DecisionTreeClassifier(max_features='sqrt', random_state=1758017741), DecisionTreeClassifier(max_features='sqrt', random_state=1679592528), DecisionTreeClassifier(max_features='sqrt', random_state=1111451555), DecisionTreeClassifier(max_features='sqrt', random_state=782698033), DecisionTreeClassifier(max_features='sqrt', random_state=698027879), DecisionTreeClassifier(max_features='sqrt', random_state=1096768899), DecisionTreeClassifier(max_features='sqrt', random_state=1338788865), DecisionTreeClassifier(max_features='sqrt', random_state=1826030589), DecisionTreeClassifier(max_features='sqrt', random_state=86191493), DecisionTreeClassifier(max_features='sqrt', random_state=893102645), DecisionTreeClassifier(max_features='sqrt', random_state=200619113), DecisionTreeClassifier(max_features='sqrt', random_state=249467210), DecisionTreeClassifier(max_features='sqrt', random_state=648061058), DecisionTreeClassifier(max_features='sqrt', random_state=2018247425), DecisionTreeClassifier(max_features='sqrt', random_state=2034764475), DecisionTreeClassifier(max_features='sqrt', random_state=996406378), DecisionTreeClassifier(max_features='sqrt', random_state=1890440558), DecisionTreeClassifier(max_features='sqrt', random_state=1427830251), DecisionTreeClassifier(max_features='sqrt', random_state=1572714583), DecisionTreeClassifier(max_features='sqrt', random_state=1254751707), DecisionTreeClassifier(max_features='sqrt', random_state=857592370), DecisionTreeClassifier(max_features='sqrt', random_state=1934879560), DecisionTreeClassifier(max_features='sqrt', random_state=480404538), DecisionTreeClassifier(max_features='sqrt', random_state=1717389822), DecisionTreeClassifier(max_features='sqrt', random_state=1250819632), DecisionTreeClassifier(max_features='sqrt', random_state=461901618), DecisionTreeClassifier(max_features='sqrt', random_state=991681409), DecisionTreeClassifier(max_features='sqrt', random_state=1717389822), DecisionTreeClassifier(max_features='sqrt', random_state=56972561), DecisionTreeClassifier(max_features='sqrt', random_state=911989541), DecisionTreeClassifier(max_features='sqrt', random_state=732395540), DecisionTreeClassifier(max_features='sqrt', random_state=953477463), DecisionTreeClassifier(max_features='sqrt', random_state=787110843), DecisionTreeClassifier(max_features='sqrt', random_state=1201263687), DecisionTreeClassifier(max_features='sqrt', random_state=1972458954), DecisionTreeClassifier(max_features='sqrt', random_state=999745294), DecisionTreeClassifier(max_features='sqrt', random_state=599121577), DecisionTreeClassifier(max_features='sqrt', random_state=1883569565), DecisionTreeClassifier(max_features='sqrt', random_state=99052376), DecisionTreeClassifier(max_features='sqrt', random_state=1250819632), DecisionTreeClassifier(max_features='sqrt', random_state=279394470), DecisionTreeClassifier(max_features='sqrt', random_state=787716372), DecisionTreeClassifier(max_features='sqrt', random_state=419498548), DecisionTreeClassifier(max_features='sqrt', random_state=508464061), DecisionTreeClassifier(max_features='sqrt', random_state=1545932260), DecisionTreeClassifier(max_features='sqrt', random_state=613608295), DecisionTreeClassifier(max_features='sqrt', random_state=68574553), DecisionTreeClassifier(max_features='sqrt', random_state=480404538), DecisionTreeClassifier(max_features='sqrt', random_state=1427830251), DecisionTreeClassifier(max_features='sqrt', random_state=524150214), DecisionTreeClassifier(max_features='sqrt', random_state=423734972), DecisionTreeClassifier(max_features='sqrt', random_state=249467210), DecisionTreeClassifier(max_features='sqrt', random_state=1972458954), DecisionTreeClassifier(max_features='sqrt', random_state=200427519), DecisionTreeClassifier(max_features='sqrt', random_state=774414982), DecisionTreeClassifier(max_features='sqrt', random_state=200427519), DecisionTreeClassifier(max_features='sqrt', random_state=106406362), DecisionTreeClassifier(max_features='sqrt', random_state=893664919), DecisionTreeClassifier(max_features='sqrt', random_state=106406362), DecisionTreeClassifier(max_features='sqrt', random_state=461901618), DecisionTreeClassifier(max_features='sqrt', random_state=1883569565), DecisionTreeClassifier(max_features='sqrt', random_state=472432043), DecisionTreeClassifier(max_features='sqrt', random_state=415968276), DecisionTreeClassifier(max_features='sqrt', random_state=199502978), DecisionTreeClassifier(max_features='sqrt', random_state=56972561), DecisionTreeClassifier(max_features='sqrt', random_state=1254751707), DecisionTreeClassifier(max_features='sqrt', random_state=429389014), DecisionTreeClassifier(max_features='sqrt', random_state=1224821422), DecisionTreeClassifier(max_features='sqrt', random_state=599121577), DecisionTreeClassifier(max_features='sqrt', random_state=1572714583), DecisionTreeClassifier(max_features='sqrt', random_state=1934879560), DecisionTreeClassifier(max_features='sqrt', random_state=504579232), DecisionTreeClassifier(max_features='sqrt', random_state=1927948675), DecisionTreeClassifier(max_features='sqrt', random_state=1958805693), DecisionTreeClassifier(max_features='sqrt', random_state=1433267572), DecisionTreeClassifier(max_features='sqrt', random_state=911989541), DecisionTreeClassifier(max_features='sqrt', random_state=2126768636), DecisionTreeClassifier(max_features='sqrt', random_state=670094950), DecisionTreeClassifier(max_features='sqrt', random_state=2004731384), DecisionTreeClassifier(max_features='sqrt', random_state=1308306184), DecisionTreeClassifier(max_features='sqrt', random_state=2034764475), DecisionTreeClassifier(max_features='sqrt', random_state=480404538), DecisionTreeClassifier(max_features='sqrt', random_state=1927948675), DecisionTreeClassifier(max_features='sqrt', random_state=669991378), DecisionTreeClassifier(max_features='sqrt', random_state=480404538), DecisionTreeClassifier(max_features='sqrt', random_state=389151677), DecisionTreeClassifier(max_features='sqrt', random_state=1914837113), DecisionTreeClassifier(max_features='sqrt', random_state=1717389822), DecisionTreeClassifier(max_features='sqrt', random_state=780932287), DecisionTreeClassifier(max_features='sqrt', random_state=106406362), DecisionTreeClassifier(max_features='sqrt', random_state=3344769), DecisionTreeClassifier(max_features='sqrt', random_state=1431061255), DecisionTreeClassifier(max_features='sqrt', random_state=1914837113), DecisionTreeClassifier(max_features='sqrt', random_state=389151677), DecisionTreeClassifier(max_features='sqrt', random_state=1573512143), DecisionTreeClassifier(max_features='sqrt', random_state=1655351289), DecisionTreeClassifier(max_features='sqrt', random_state=396917567), DecisionTreeClassifier(max_features='sqrt', random_state=1250819632), DecisionTreeClassifier(max_features='sqrt', random_state=3344769), DecisionTreeClassifier(max_features='sqrt', random_state=99052376), DecisionTreeClassifier(max_features='sqrt', random_state=1545932260), DecisionTreeClassifier(max_features='sqrt', random_state=1717389822), DecisionTreeClassifier(max_features='sqrt', random_state=480404538), DecisionTreeClassifier(max_features='sqrt', random_state=780932287), DecisionTreeClassifier(max_features='sqrt', random_state=147697582), DecisionTreeClassifier(max_features='sqrt', random_state=134489564), DecisionTreeClassifier(max_features='sqrt', random_state=669991378), DecisionTreeClassifier(max_features='sqrt', random_state=106406362), DecisionTreeClassifier(max_features='sqrt', random_state=434285667), DecisionTreeClassifier(max_features='sqrt', random_state=1306710475), DecisionTreeClassifier(max_features='sqrt', random_state=999745294), DecisionTreeClassifier(max_features='sqrt', random_state=434285667), DecisionTreeClassifier(max_features='sqrt', random_state=1717389822), DecisionTreeClassifier(max_features='sqrt', random_state=1899242072), DecisionTreeClassifier(max_features='sqrt', random_state=2075460851), DecisionTreeClassifier(max_features='sqrt', random_state=1324556529), DecisionTreeClassifier(max_features='sqrt', random_state=1224821422), DecisionTreeClassifier(max_features='sqrt', random_state=1999874363), DecisionTreeClassifier(max_features='sqrt', random_state=61136438), DecisionTreeClassifier(max_features='sqrt', random_state=1433267572), DecisionTreeClassifier(max_features='sqrt', random_state=508464061), DecisionTreeClassifier(max_features='sqrt', random_state=2114032571), DecisionTreeClassifier(max_features='sqrt', random_state=744595490), DecisionTreeClassifier(max_features='sqrt', random_state=670094950), DecisionTreeClassifier(max_features='sqrt', random_state=999745294), DecisionTreeClassifier(max_features='sqrt', random_state=429389014), DecisionTreeClassifier(max_features='sqrt', random_state=2114032571), DecisionTreeClassifier(max_features='sqrt', random_state=1899242072), DecisionTreeClassifier(max_features='sqrt', random_state=1958805693), DecisionTreeClassifier(max_features='sqrt', random_state=1999874363), DecisionTreeClassifier(max_features='sqrt', random_state=199502978), DecisionTreeClassifier(max_features='sqrt', random_state=271820813), DecisionTreeClassifier(max_features='sqrt', random_state=271820813), DecisionTreeClassifier(max_features='sqrt', random_state=787716372), DecisionTreeClassifier(max_features='sqrt', random_state=1758017741), DecisionTreeClassifier(max_features='sqrt', random_state=613608295), DecisionTreeClassifier(max_features='sqrt', random_state=1958805693), DecisionTreeClassifier(max_features='sqrt', random_state=249467210), DecisionTreeClassifier(max_features='sqrt', random_state=415968276), DecisionTreeClassifier(max_features='sqrt', random_state=599121577), DecisionTreeClassifier(max_features='sqrt', random_state=389151677), DecisionTreeClassifier(max_features='sqrt', random_state=479546681), DecisionTreeClassifier(max_features='sqrt', random_state=1250819632), DecisionTreeClassifier(max_features='sqrt', random_state=787716372), DecisionTreeClassifier(max_features='sqrt', random_state=599121577), DecisionTreeClassifier(max_features='sqrt', random_state=271820813), DecisionTreeClassifier(max_features='sqrt', random_state=1679592528), DecisionTreeClassifier(max_features='sqrt', random_state=200427519), DecisionTreeClassifier(max_features='sqrt', random_state=504579232), DecisionTreeClassifier(max_features='sqrt', random_state=1855189739), DecisionTreeClassifier(max_features='sqrt', random_state=2114032571), DecisionTreeClassifier(max_features='sqrt', random_state=787110843), DecisionTreeClassifier(max_features='sqrt', random_state=1338788865), DecisionTreeClassifier(max_features='sqrt', random_state=1224821422), DecisionTreeClassifier(max_features='sqrt', random_state=2126768636), DecisionTreeClassifier(max_features='sqrt', random_state=396917567), DecisionTreeClassifier(max_features='sqrt', random_state=290770691), DecisionTreeClassifier(max_features='sqrt', random_state=508464061), DecisionTreeClassifier(max_features='sqrt', random_state=996406378), DecisionTreeClassifier(max_features='sqrt', random_state=461901618), DecisionTreeClassifier(max_features='sqrt', random_state=1826030589), DecisionTreeClassifier(max_features='sqrt', random_state=793943861), DecisionTreeClassifier(max_features='sqrt', random_state=472432043), DecisionTreeClassifier(max_features='sqrt', random_state=86191493), DecisionTreeClassifier(max_features='sqrt', random_state=1201263687), DecisionTreeClassifier(max_features='sqrt', random_state=134489564), DecisionTreeClassifier(max_features='sqrt', random_state=774414982), DecisionTreeClassifier(max_features='sqrt', random_state=780932287), DecisionTreeClassifier(max_features='sqrt', random_state=524150214), DecisionTreeClassifier(max_features='sqrt', random_state=787716372), DecisionTreeClassifier(max_features='sqrt', random_state=1890440558), DecisionTreeClassifier(max_features='sqrt', random_state=893102645), DecisionTreeClassifier(max_features='sqrt', random_state=2114032571), DecisionTreeClassifier(max_features='sqrt', random_state=1035196507), DecisionTreeClassifier(max_features='sqrt', random_state=791274835), DecisionTreeClassifier(max_features='sqrt', random_state=423734972), DecisionTreeClassifier(max_features='sqrt', random_state=787110843), DecisionTreeClassifier(max_features='sqrt', random_state=732395540), DecisionTreeClassifier(max_features='sqrt', random_state=1890440558), DecisionTreeClassifier(max_features='sqrt', random_state=200619113), DecisionTreeClassifier(max_features='sqrt', random_state=2004731384), DecisionTreeClassifier(max_features='sqrt', random_state=3344769), DecisionTreeClassifier(max_features='sqrt', random_state=290770691), DecisionTreeClassifier(max_features='sqrt', random_state=1642661739), DecisionTreeClassifier(max_features='sqrt', random_state=1934879560), DecisionTreeClassifier(max_features='sqrt', random_state=780932287), DecisionTreeClassifier(max_features='sqrt', random_state=911989541), DecisionTreeClassifier(max_features='sqrt', random_state=793943861), DecisionTreeClassifier(max_features='sqrt', random_state=857592370), DecisionTreeClassifier(max_features='sqrt', random_state=1035196507), DecisionTreeClassifier(max_features='sqrt', random_state=415968276), DecisionTreeClassifier(max_features='sqrt', random_state=670094950), DecisionTreeClassifier(max_features='sqrt', random_state=3344769), DecisionTreeClassifier(max_features='sqrt', random_state=991681409), DecisionTreeClassifier(max_features='sqrt', random_state=279394470), DecisionTreeClassifier(max_features='sqrt', random_state=134489564), DecisionTreeClassifier(max_features='sqrt', random_state=199502978), DecisionTreeClassifier(max_features='sqrt', random_state=791274835), DecisionTreeClassifier(max_features='sqrt', random_state=1883569565), DecisionTreeClassifier(max_features='sqrt', random_state=1914837113), DecisionTreeClassifier(max_features='sqrt', random_state=1431061255), DecisionTreeClassifier(max_features='sqrt', random_state=1427830251), DecisionTreeClassifier(max_features='sqrt', random_state=1935803228), DecisionTreeClassifier(max_features='sqrt', random_state=787846414), DecisionTreeClassifier(max_features='sqrt', random_state=56972561), DecisionTreeClassifier(max_features='sqrt', random_state=61136438), DecisionTreeClassifier(max_features='sqrt', random_state=524150214), DecisionTreeClassifier(max_features='sqrt', random_state=147697582), DecisionTreeClassifier(max_features='sqrt', random_state=911989541), DecisionTreeClassifier(max_features='sqrt', random_state=1927948675), DecisionTreeClassifier(max_features='sqrt', random_state=744595490), DecisionTreeClassifier(max_features='sqrt', random_state=1273642419), DecisionTreeClassifier(max_features='sqrt', random_state=461901618), DecisionTreeClassifier(max_features='sqrt', random_state=472432043), DecisionTreeClassifier(max_features='sqrt', random_state=2075460851), DecisionTreeClassifier(max_features='sqrt', random_state=1758017741), DecisionTreeClassifier(max_features='sqrt', random_state=1899242072), DecisionTreeClassifier(max_features='sqrt', random_state=953477463), DecisionTreeClassifier(max_features='sqrt', random_state=1608637542), DecisionTreeClassifier(max_features='sqrt', random_state=1545932260), DecisionTreeClassifier(max_features='sqrt', random_state=2126768636), DecisionTreeClassifier(max_features='sqrt', random_state=1679592528), DecisionTreeClassifier(max_features='sqrt', random_state=1999874363), DecisionTreeClassifier(max_features='sqrt', random_state=419498548), DecisionTreeClassifier(max_features='sqrt', random_state=396917567), DecisionTreeClassifier(max_features='sqrt', random_state=2018247425), DecisionTreeClassifier(max_features='sqrt', random_state=1111451555), DecisionTreeClassifier(max_features='sqrt', random_state=290770691), DecisionTreeClassifier(max_features='sqrt', random_state=423734972), DecisionTreeClassifier(max_features='sqrt', random_state=2126768636), DecisionTreeClassifier(max_features='sqrt', random_state=1883569565), DecisionTreeClassifier(max_features='sqrt', random_state=793943861), DecisionTreeClassifier(max_features='sqrt', random_state=1899242072), DecisionTreeClassifier(max_features='sqrt', random_state=1927948675), DecisionTreeClassifier(max_features='sqrt', random_state=472432043), DecisionTreeClassifier(max_features='sqrt', random_state=415968276), DecisionTreeClassifier(max_features='sqrt', random_state=134489564), DecisionTreeClassifier(max_features='sqrt', random_state=669991378), DecisionTreeClassifier(max_features='sqrt', random_state=911989541), DecisionTreeClassifier(max_features='sqrt', random_state=524150214), DecisionTreeClassifier(max_features='sqrt', random_state=1431061255), DecisionTreeClassifier(max_features='sqrt', random_state=1999874363), DecisionTreeClassifier(max_features='sqrt', random_state=1201263687), DecisionTreeClassifier(max_features='sqrt', random_state=147697582), DecisionTreeClassifier(max_features='sqrt', random_state=271820813), DecisionTreeClassifier(max_features='sqrt', random_state=996406378), DecisionTreeClassifier(max_features='sqrt', random_state=1427830251), DecisionTreeClassifier(max_features='sqrt', random_state=744595490), DecisionTreeClassifier(max_features='sqrt', random_state=953477463), DecisionTreeClassifier(max_features='sqrt', random_state=2018247425), DecisionTreeClassifier(max_features='sqrt', random_state=1324556529), DecisionTreeClassifier(max_features='sqrt', random_state=787846414), DecisionTreeClassifier(max_features='sqrt', random_state=1935803228), DecisionTreeClassifier(max_features='sqrt', random_state=1758017741), DecisionTreeClassifier(max_features='sqrt', random_state=1679592528), DecisionTreeClassifier(max_features='sqrt', random_state=1655351289), DecisionTreeClassifier(max_features='sqrt', random_state=242285876), DecisionTreeClassifier(max_features='sqrt', random_state=1111451555), DecisionTreeClassifier(max_features='sqrt', random_state=1273642419), DecisionTreeClassifier(max_features='sqrt', random_state=2114032571), DecisionTreeClassifier(max_features='sqrt', random_state=1308306184), DecisionTreeClassifier(max_features='sqrt', random_state=68574553), DecisionTreeClassifier(max_features='sqrt', random_state=782698033), DecisionTreeClassifier(max_features='sqrt', random_state=1608637542), DecisionTreeClassifier(max_features='sqrt', random_state=698027879), DecisionTreeClassifier(max_features='sqrt', random_state=1096768899), DecisionTreeClassifier(max_features='sqrt', random_state=1254751707), DecisionTreeClassifier(max_features='sqrt', random_state=1224821422), DecisionTreeClassifier(max_features='sqrt', random_state=99052376), DecisionTreeClassifier(max_features='sqrt', random_state=508464061), DecisionTreeClassifier(max_features='sqrt', random_state=30349564), DecisionTreeClassifier(max_features='sqrt', random_state=1855189739), DecisionTreeClassifier(max_features='sqrt', random_state=857592370), DecisionTreeClassifier(max_features='sqrt', random_state=1642661739), DecisionTreeClassifier(max_features='sqrt', random_state=2034764475), DecisionTreeClassifier(max_features='sqrt', random_state=30349564), DecisionTreeClassifier(max_features='sqrt', random_state=106328085), DecisionTreeClassifier(max_features='sqrt', random_state=1642661739), DecisionTreeClassifier(max_features='sqrt', random_state=106328085), DecisionTreeClassifier(max_features='sqrt', random_state=857592370), DecisionTreeClassifier(max_features='sqrt', random_state=1573512143), DecisionTreeClassifier(max_features='sqrt', random_state=1306710475), DecisionTreeClassifier(max_features='sqrt', random_state=61136438), DecisionTreeClassifier(max_features='sqrt', random_state=479546681), DecisionTreeClassifier(max_features='sqrt', random_state=2075460851), DecisionTreeClassifier(max_features='sqrt', random_state=479546681), DecisionTreeClassifier(max_features='sqrt', random_state=61136438), DecisionTreeClassifier(max_features='sqrt', random_state=1273642419), DecisionTreeClassifier(max_features='sqrt', random_state=396917567), DecisionTreeClassifier(max_features='sqrt', random_state=1306710475), DecisionTreeClassifier(max_features='sqrt', random_state=791274835), DecisionTreeClassifier(max_features='sqrt', random_state=999745294), DecisionTreeClassifier(max_features='sqrt', random_state=1958805693), DecisionTreeClassifier(max_features='sqrt', random_state=2004731384), DecisionTreeClassifier(max_features='sqrt', random_state=429389014), DecisionTreeClassifier(max_features='sqrt', random_state=504579232), DecisionTreeClassifier(max_features='sqrt', random_state=2075460851), DecisionTreeClassifier(max_features='sqrt', random_state=199502978), DecisionTreeClassifier(max_features='sqrt', random_state=389151677), DecisionTreeClassifier(max_features='sqrt', random_state=504579232), DecisionTreeClassifier(max_features='sqrt', random_state=787716372), DecisionTreeClassifier(max_features='sqrt', random_state=1545932260), DecisionTreeClassifier(max_features='sqrt', random_state=1642661739), DecisionTreeClassifier(max_features='sqrt', random_state=669991378), DecisionTreeClassifier(max_features='sqrt', random_state=1972458954), DecisionTreeClassifier(max_features='sqrt', random_state=1883569565), DecisionTreeClassifier(max_features='sqrt', random_state=1999874363), DecisionTreeClassifier(max_features='sqrt', random_state=1758017741), DecisionTreeClassifier(max_features='sqrt', random_state=271820813), DecisionTreeClassifier(max_features='sqrt', random_state=893664919), DecisionTreeClassifier(max_features='sqrt', random_state=200427519), DecisionTreeClassifier(max_features='sqrt', random_state=2004731384), DecisionTreeClassifier(max_features='sqrt', random_state=1914837113), DecisionTreeClassifier(max_features='sqrt', random_state=1306710475), DecisionTreeClassifier(max_features='sqrt', random_state=242285876), DecisionTreeClassifier(max_features='sqrt', random_state=648061058), DecisionTreeClassifier(max_features='sqrt', random_state=504579232), DecisionTreeClassifier(max_features='sqrt', random_state=857592370), DecisionTreeClassifier(max_features='sqrt', random_state=1679592528), DecisionTreeClassifier(max_features='sqrt', random_state=1572714583), DecisionTreeClassifier(max_features='sqrt', random_state=2004731384), DecisionTreeClassifier(max_features='sqrt', random_state=106328085), DecisionTreeClassifier(max_features='sqrt', random_state=1899242072), DecisionTreeClassifier(max_features='sqrt', random_state=1324556529), DecisionTreeClassifier(max_features='sqrt', random_state=670094950), DecisionTreeClassifier(max_features='sqrt', random_state=415968276), DecisionTreeClassifier(max_features='sqrt', random_state=774414982), DecisionTreeClassifier(max_features='sqrt', random_state=1427830251), DecisionTreeClassifier(max_features='sqrt', random_state=1111451555), DecisionTreeClassifier(max_features='sqrt', random_state=30349564), DecisionTreeClassifier(max_features='sqrt', random_state=479546681), DecisionTreeClassifier(max_features='sqrt', random_state=88409749), DecisionTreeClassifier(max_features='sqrt', random_state=1254751707), DecisionTreeClassifier(max_features='sqrt', random_state=1433267572), DecisionTreeClassifier(max_features='sqrt', random_state=648061058), DecisionTreeClassifier(max_features='sqrt', random_state=508464061), DecisionTreeClassifier(max_features='sqrt', random_state=396917567), DecisionTreeClassifier(max_features='sqrt', random_state=1573512143), DecisionTreeClassifier(max_features='sqrt', random_state=782698033), DecisionTreeClassifier(max_features='sqrt', random_state=1655351289), DecisionTreeClassifier(max_features='sqrt', random_state=1927948675), DecisionTreeClassifier(max_features='sqrt', random_state=1306710475), DecisionTreeClassifier(max_features='sqrt', random_state=199502978), DecisionTreeClassifier(max_features='sqrt', random_state=106328085), DecisionTreeClassifier(max_features='sqrt', random_state=2034764475), DecisionTreeClassifier(max_features='sqrt', random_state=698027879), DecisionTreeClassifier(max_features='sqrt', random_state=423734972), DecisionTreeClassifier(max_features='sqrt', random_state=434285667), DecisionTreeClassifier(max_features='sqrt', random_state=1224821422), DecisionTreeClassifier(max_features='sqrt', random_state=1308306184), DecisionTreeClassifier(max_features='sqrt', random_state=88409749), DecisionTreeClassifier(max_features='sqrt', random_state=389151677), DecisionTreeClassifier(max_features='sqrt', random_state=2018247425), DecisionTreeClassifier(max_features='sqrt', random_state=1096768899), DecisionTreeClassifier(max_features='sqrt', random_state=30349564), DecisionTreeClassifier(max_features='sqrt', random_state=56972561), DecisionTreeClassifier(max_features='sqrt', random_state=479546681), DecisionTreeClassifier(max_features='sqrt', random_state=1545932260), DecisionTreeClassifier(max_features='sqrt', random_state=1201263687), DecisionTreeClassifier(max_features='sqrt', random_state=279394470), DecisionTreeClassifier(max_features='sqrt', random_state=613608295), DecisionTreeClassifier(max_features='sqrt', random_state=461901618), DecisionTreeClassifier(max_features='sqrt', random_state=1254751707), DecisionTreeClassifier(max_features='sqrt', random_state=1338788865), DecisionTreeClassifier(max_features='sqrt', random_state=68574553), DecisionTreeClassifier(max_features='sqrt', random_state=893664919), DecisionTreeClassifier(max_features='sqrt', random_state=670094950), DecisionTreeClassifier(max_features='sqrt', random_state=2034764475), DecisionTreeClassifier(max_features='sqrt', random_state=953477463), DecisionTreeClassifier(max_features='sqrt', random_state=996406378), DecisionTreeClassifier(max_features='sqrt', random_state=1855189739), DecisionTreeClassifier(max_features='sqrt', random_state=242285876), DecisionTreeClassifier(max_features='sqrt', random_state=1826030589), DecisionTreeClassifier(max_features='sqrt', random_state=893664919), DecisionTreeClassifier(max_features='sqrt', random_state=106328085), DecisionTreeClassifier(max_features='sqrt', random_state=2075460851), DecisionTreeClassifier(max_features='sqrt', random_state=419498548), DecisionTreeClassifier(max_features='sqrt', random_state=787846414), DecisionTreeClassifier(max_features='sqrt', random_state=1855189739), DecisionTreeClassifier(max_features='sqrt', random_state=30349564), DecisionTreeClassifier(max_features='sqrt', random_state=1935803228), DecisionTreeClassifier(max_features='sqrt', random_state=732395540), DecisionTreeClassifier(max_features='sqrt', random_state=613608295), DecisionTreeClassifier(max_features='sqrt', random_state=61136438), DecisionTreeClassifier(max_features='sqrt', random_state=86191493), DecisionTreeClassifier(max_features='sqrt', random_state=99052376), DecisionTreeClassifier(max_features='sqrt', random_state=1608637542), DecisionTreeClassifier(max_features='sqrt', random_state=1958805693), DecisionTreeClassifier(max_features='sqrt', random_state=56972561), DecisionTreeClassifier(max_features='sqrt', random_state=648061058), DecisionTreeClassifier(max_features='sqrt', random_state=200427519), DecisionTreeClassifier(max_features='sqrt', random_state=1934879560), DecisionTreeClassifier(max_features='sqrt', random_state=599121577), DecisionTreeClassifier(max_features='sqrt', random_state=893102645), DecisionTreeClassifier(max_features='sqrt', random_state=991681409), DecisionTreeClassifier(max_features='sqrt', random_state=787110843), DecisionTreeClassifier(max_features='sqrt', random_state=1573512143), DecisionTreeClassifier(max_features='sqrt', random_state=774414982), DecisionTreeClassifier(max_features='sqrt', random_state=1250819632), DecisionTreeClassifier(max_features='sqrt', random_state=434285667), DecisionTreeClassifier(max_features='sqrt', random_state=999745294), DecisionTreeClassifier(max_features='sqrt', random_state=200619113), DecisionTreeClassifier(max_features='sqrt', random_state=1934879560), DecisionTreeClassifier(max_features='sqrt', random_state=1273642419), DecisionTreeClassifier(max_features='sqrt', random_state=88409749), DecisionTreeClassifier(max_features='sqrt', random_state=242285876), DecisionTreeClassifier(max_features='sqrt', random_state=1642661739), DecisionTreeClassifier(max_features='sqrt', random_state=780932287), DecisionTreeClassifier(max_features='sqrt', random_state=791274835), DecisionTreeClassifier(max_features='sqrt', random_state=732395540), DecisionTreeClassifier(max_features='sqrt', random_state=1914837113), DecisionTreeClassifier(max_features='sqrt', random_state=2018247425), DecisionTreeClassifier(max_features='sqrt', random_state=290770691), DecisionTreeClassifier(max_features='sqrt', random_state=1935803228), DecisionTreeClassifier(max_features='sqrt', random_state=106406362), DecisionTreeClassifier(max_features='sqrt', random_state=279394470), DecisionTreeClassifier(max_features='sqrt', random_state=1608637542), DecisionTreeClassifier(max_features='sqrt', random_state=1433267572), DecisionTreeClassifier(max_features='sqrt', random_state=953477463), DecisionTreeClassifier(max_features='sqrt', random_state=1855189739), DecisionTreeClassifier(max_features='sqrt', random_state=3344769), DecisionTreeClassifier(max_features='sqrt', random_state=1573512143), DecisionTreeClassifier(max_features='sqrt', random_state=1890440558), DecisionTreeClassifier(max_features='sqrt', random_state=732395540), DecisionTreeClassifier(max_features='sqrt', random_state=242285876), DecisionTreeClassifier(max_features='sqrt', random_state=793943861), DecisionTreeClassifier(max_features='sqrt', random_state=1035196507), DecisionTreeClassifier(max_features='sqrt', random_state=279394470), DecisionTreeClassifier(max_features='sqrt', random_state=787846414), DecisionTreeClassifier(max_features='sqrt', random_state=88409749), DecisionTreeClassifier(max_features='sqrt', random_state=774414982), DecisionTreeClassifier(max_features='sqrt', random_state=99052376), DecisionTreeClassifier(max_features='sqrt', random_state=1035196507)]\n"
     ]
    }
   ],
   "source": [
    "estimators = []\n",
    "\n",
    "for model in client_models:\n",
    "    estimators.extend(model.estimators_)\n",
    "\n",
    "estimators = list(set(estimators))\n",
    "print(\"Estimators:\", estimators)\n"
   ]
  },
  {
   "cell_type": "markdown",
   "id": "7bd0aa33-da41-45b5-a3f1-6e1d7b4afa0e",
   "metadata": {},
   "source": [
    "## Weighted Parameter Aggregation "
   ]
  },
  {
   "cell_type": "code",
   "execution_count": 16,
   "id": "32960a39-79b6-4b57-8e4b-4ef7197a74b2",
   "metadata": {},
   "outputs": [],
   "source": [
    "global_model = RandomForestClassifier(random_state=42)"
   ]
  },
  {
   "cell_type": "code",
   "execution_count": 17,
   "id": "2d0d5c7b-7e81-4bbc-8e4e-a35713894924",
   "metadata": {},
   "outputs": [
    {
     "name": "stdout",
     "output_type": "stream",
     "text": [
      "['DoS' 'Infiltration' 'Port Scan' 'DDoS' 'Web Attack' 'BENIGN'\n",
      " 'Heartbleed' 'Brute Force' 'Bot']\n"
     ]
    }
   ],
   "source": [
    "global_model.classes_ = np.array(attkLbl)\n",
    "print(global_model.classes_)\n"
   ]
  },
  {
   "cell_type": "code",
   "execution_count": 19,
   "id": "17ecb5db-5bfa-4c70-a9cb-010d66cadb45",
   "metadata": {},
   "outputs": [
    {
     "name": "stdout",
     "output_type": "stream",
     "text": [
      "['PC12' 'PC4' 'PC20' 'PC9' 'PC32' 'PC31' 'PC19' 'PC2' 'PC33' 'PC18' 'PC27'\n",
      " 'PC21' 'PC1' 'PC24' 'PC34' 'PC8' 'PC16' 'PC30' 'PC17' 'PC29' 'PC5' 'PC23'\n",
      " 'PC15' 'PC3' 'PC25' 'PC28' 'PC22' 'PC7' 'PC6' 'PC11' 'PC13' 'PC26' 'PC14'\n",
      " 'PC10' 'PC35']\n"
     ]
    }
   ],
   "source": [
    "global_model.feature_names_in_ = np.array(features)\n",
    "print(global_model.feature_names_in_)\n"
   ]
  },
  {
   "cell_type": "code",
   "execution_count": 21,
   "id": "20c22b16-7054-4959-b616-6299d4aa4023",
   "metadata": {
    "scrolled": true,
    "tags": []
   },
   "outputs": [
    {
     "name": "stdout",
     "output_type": "stream",
     "text": [
      "[DecisionTreeClassifier(max_features='sqrt', random_state=1324556529)\n",
      " DecisionTreeClassifier(max_features='sqrt', random_state=1324556529)\n",
      " DecisionTreeClassifier(max_features='sqrt', random_state=423734972)\n",
      " DecisionTreeClassifier(max_features='sqrt', random_state=782698033)\n",
      " DecisionTreeClassifier(max_features='sqrt', random_state=2126768636)\n",
      " DecisionTreeClassifier(max_features='sqrt', random_state=249467210)\n",
      " DecisionTreeClassifier(max_features='sqrt', random_state=1972458954)\n",
      " DecisionTreeClassifier(max_features='sqrt', random_state=1111451555)\n",
      " DecisionTreeClassifier(max_features='sqrt', random_state=1572714583)\n",
      " DecisionTreeClassifier(max_features='sqrt', random_state=698027879)\n",
      " DecisionTreeClassifier(max_features='sqrt', random_state=1972458954)\n",
      " DecisionTreeClassifier(max_features='sqrt', random_state=249467210)\n",
      " DecisionTreeClassifier(max_features='sqrt', random_state=472432043)\n",
      " DecisionTreeClassifier(max_features='sqrt', random_state=1201263687)\n",
      " DecisionTreeClassifier(max_features='sqrt', random_state=996406378)\n",
      " DecisionTreeClassifier(max_features='sqrt', random_state=1096768899)\n",
      " DecisionTreeClassifier(max_features='sqrt', random_state=782698033)\n",
      " DecisionTreeClassifier(max_features='sqrt', random_state=524150214)\n",
      " DecisionTreeClassifier(max_features='sqrt', random_state=1338788865)\n",
      " DecisionTreeClassifier(max_features='sqrt', random_state=1655351289)\n",
      " DecisionTreeClassifier(max_features='sqrt', random_state=1433267572)\n",
      " DecisionTreeClassifier(max_features='sqrt', random_state=698027879)\n",
      " DecisionTreeClassifier(max_features='sqrt', random_state=787110843)\n",
      " DecisionTreeClassifier(max_features='sqrt', random_state=1655351289)\n",
      " DecisionTreeClassifier(max_features='sqrt', random_state=1890440558)\n",
      " DecisionTreeClassifier(max_features='sqrt', random_state=1308306184)\n",
      " DecisionTreeClassifier(max_features='sqrt', random_state=1826030589)\n",
      " DecisionTreeClassifier(max_features='sqrt', random_state=434285667)\n",
      " DecisionTreeClassifier(max_features='sqrt', random_state=429389014)\n",
      " DecisionTreeClassifier(max_features='sqrt', random_state=86191493)\n",
      " DecisionTreeClassifier(max_features='sqrt', random_state=1096768899)\n",
      " DecisionTreeClassifier(max_features='sqrt', random_state=787846414)\n",
      " DecisionTreeClassifier(max_features='sqrt', random_state=68574553)\n",
      " DecisionTreeClassifier(max_features='sqrt', random_state=893102645)\n",
      " DecisionTreeClassifier(max_features='sqrt', random_state=1035196507)\n",
      " DecisionTreeClassifier(max_features='sqrt', random_state=1338788865)\n",
      " DecisionTreeClassifier(max_features='sqrt', random_state=1935803228)\n",
      " DecisionTreeClassifier(max_features='sqrt', random_state=200619113)\n",
      " DecisionTreeClassifier(max_features='sqrt', random_state=791274835)\n",
      " DecisionTreeClassifier(max_features='sqrt', random_state=613608295)\n",
      " DecisionTreeClassifier(max_features='sqrt', random_state=893664919)\n",
      " DecisionTreeClassifier(max_features='sqrt', random_state=1308306184)\n",
      " DecisionTreeClassifier(max_features='sqrt', random_state=290770691)\n",
      " DecisionTreeClassifier(max_features='sqrt', random_state=1826030589)\n",
      " DecisionTreeClassifier(max_features='sqrt', random_state=419498548)\n",
      " DecisionTreeClassifier(max_features='sqrt', random_state=991681409)\n",
      " DecisionTreeClassifier(max_features='sqrt', random_state=1273642419)\n",
      " DecisionTreeClassifier(max_features='sqrt', random_state=793943861)\n",
      " DecisionTreeClassifier(max_features='sqrt', random_state=669991378)\n",
      " DecisionTreeClassifier(max_features='sqrt', random_state=648061058)\n",
      " DecisionTreeClassifier(max_features='sqrt', random_state=86191493)\n",
      " DecisionTreeClassifier(max_features='sqrt', random_state=419498548)\n",
      " DecisionTreeClassifier(max_features='sqrt', random_state=68574553)\n",
      " DecisionTreeClassifier(max_features='sqrt', random_state=134489564)\n",
      " DecisionTreeClassifier(max_features='sqrt', random_state=1608637542)\n",
      " DecisionTreeClassifier(max_features='sqrt', random_state=88409749)\n",
      " DecisionTreeClassifier(max_features='sqrt', random_state=1572714583)\n",
      " DecisionTreeClassifier(max_features='sqrt', random_state=1431061255)\n",
      " DecisionTreeClassifier(max_features='sqrt', random_state=893102645)\n",
      " DecisionTreeClassifier(max_features='sqrt', random_state=991681409)\n",
      " DecisionTreeClassifier(max_features='sqrt', random_state=147697582)\n",
      " DecisionTreeClassifier(max_features='sqrt', random_state=429389014)\n",
      " DecisionTreeClassifier(max_features='sqrt', random_state=200619113)\n",
      " DecisionTreeClassifier(max_features='sqrt', random_state=744595490)\n",
      " DecisionTreeClassifier(max_features='sqrt', random_state=1431061255)\n",
      " DecisionTreeClassifier(max_features='sqrt', random_state=147697582)\n",
      " DecisionTreeClassifier(max_features='sqrt', random_state=744595490)\n",
      " DecisionTreeClassifier(max_features='sqrt', random_state=1758017741)\n",
      " DecisionTreeClassifier(max_features='sqrt', random_state=1679592528)\n",
      " DecisionTreeClassifier(max_features='sqrt', random_state=1111451555)\n",
      " DecisionTreeClassifier(max_features='sqrt', random_state=782698033)\n",
      " DecisionTreeClassifier(max_features='sqrt', random_state=698027879)\n",
      " DecisionTreeClassifier(max_features='sqrt', random_state=1096768899)\n",
      " DecisionTreeClassifier(max_features='sqrt', random_state=1338788865)\n",
      " DecisionTreeClassifier(max_features='sqrt', random_state=1826030589)\n",
      " DecisionTreeClassifier(max_features='sqrt', random_state=86191493)\n",
      " DecisionTreeClassifier(max_features='sqrt', random_state=893102645)\n",
      " DecisionTreeClassifier(max_features='sqrt', random_state=200619113)\n",
      " DecisionTreeClassifier(max_features='sqrt', random_state=249467210)\n",
      " DecisionTreeClassifier(max_features='sqrt', random_state=648061058)\n",
      " DecisionTreeClassifier(max_features='sqrt', random_state=2018247425)\n",
      " DecisionTreeClassifier(max_features='sqrt', random_state=2034764475)\n",
      " DecisionTreeClassifier(max_features='sqrt', random_state=996406378)\n",
      " DecisionTreeClassifier(max_features='sqrt', random_state=1890440558)\n",
      " DecisionTreeClassifier(max_features='sqrt', random_state=1427830251)\n",
      " DecisionTreeClassifier(max_features='sqrt', random_state=1572714583)\n",
      " DecisionTreeClassifier(max_features='sqrt', random_state=1254751707)\n",
      " DecisionTreeClassifier(max_features='sqrt', random_state=857592370)\n",
      " DecisionTreeClassifier(max_features='sqrt', random_state=1934879560)\n",
      " DecisionTreeClassifier(max_features='sqrt', random_state=480404538)\n",
      " DecisionTreeClassifier(max_features='sqrt', random_state=1717389822)\n",
      " DecisionTreeClassifier(max_features='sqrt', random_state=1250819632)\n",
      " DecisionTreeClassifier(max_features='sqrt', random_state=461901618)\n",
      " DecisionTreeClassifier(max_features='sqrt', random_state=991681409)\n",
      " DecisionTreeClassifier(max_features='sqrt', random_state=1717389822)\n",
      " DecisionTreeClassifier(max_features='sqrt', random_state=56972561)\n",
      " DecisionTreeClassifier(max_features='sqrt', random_state=911989541)\n",
      " DecisionTreeClassifier(max_features='sqrt', random_state=732395540)\n",
      " DecisionTreeClassifier(max_features='sqrt', random_state=953477463)\n",
      " DecisionTreeClassifier(max_features='sqrt', random_state=787110843)\n",
      " DecisionTreeClassifier(max_features='sqrt', random_state=1201263687)\n",
      " DecisionTreeClassifier(max_features='sqrt', random_state=1972458954)\n",
      " DecisionTreeClassifier(max_features='sqrt', random_state=999745294)\n",
      " DecisionTreeClassifier(max_features='sqrt', random_state=599121577)\n",
      " DecisionTreeClassifier(max_features='sqrt', random_state=1883569565)\n",
      " DecisionTreeClassifier(max_features='sqrt', random_state=99052376)\n",
      " DecisionTreeClassifier(max_features='sqrt', random_state=1250819632)\n",
      " DecisionTreeClassifier(max_features='sqrt', random_state=279394470)\n",
      " DecisionTreeClassifier(max_features='sqrt', random_state=787716372)\n",
      " DecisionTreeClassifier(max_features='sqrt', random_state=419498548)\n",
      " DecisionTreeClassifier(max_features='sqrt', random_state=508464061)\n",
      " DecisionTreeClassifier(max_features='sqrt', random_state=1545932260)\n",
      " DecisionTreeClassifier(max_features='sqrt', random_state=613608295)\n",
      " DecisionTreeClassifier(max_features='sqrt', random_state=68574553)\n",
      " DecisionTreeClassifier(max_features='sqrt', random_state=480404538)\n",
      " DecisionTreeClassifier(max_features='sqrt', random_state=1427830251)\n",
      " DecisionTreeClassifier(max_features='sqrt', random_state=524150214)\n",
      " DecisionTreeClassifier(max_features='sqrt', random_state=423734972)\n",
      " DecisionTreeClassifier(max_features='sqrt', random_state=249467210)\n",
      " DecisionTreeClassifier(max_features='sqrt', random_state=1972458954)\n",
      " DecisionTreeClassifier(max_features='sqrt', random_state=200427519)\n",
      " DecisionTreeClassifier(max_features='sqrt', random_state=774414982)\n",
      " DecisionTreeClassifier(max_features='sqrt', random_state=200427519)\n",
      " DecisionTreeClassifier(max_features='sqrt', random_state=106406362)\n",
      " DecisionTreeClassifier(max_features='sqrt', random_state=893664919)\n",
      " DecisionTreeClassifier(max_features='sqrt', random_state=106406362)\n",
      " DecisionTreeClassifier(max_features='sqrt', random_state=461901618)\n",
      " DecisionTreeClassifier(max_features='sqrt', random_state=1883569565)\n",
      " DecisionTreeClassifier(max_features='sqrt', random_state=472432043)\n",
      " DecisionTreeClassifier(max_features='sqrt', random_state=415968276)\n",
      " DecisionTreeClassifier(max_features='sqrt', random_state=199502978)\n",
      " DecisionTreeClassifier(max_features='sqrt', random_state=56972561)\n",
      " DecisionTreeClassifier(max_features='sqrt', random_state=1254751707)\n",
      " DecisionTreeClassifier(max_features='sqrt', random_state=429389014)\n",
      " DecisionTreeClassifier(max_features='sqrt', random_state=1224821422)\n",
      " DecisionTreeClassifier(max_features='sqrt', random_state=599121577)\n",
      " DecisionTreeClassifier(max_features='sqrt', random_state=1572714583)\n",
      " DecisionTreeClassifier(max_features='sqrt', random_state=1934879560)\n",
      " DecisionTreeClassifier(max_features='sqrt', random_state=504579232)\n",
      " DecisionTreeClassifier(max_features='sqrt', random_state=1927948675)\n",
      " DecisionTreeClassifier(max_features='sqrt', random_state=1958805693)\n",
      " DecisionTreeClassifier(max_features='sqrt', random_state=1433267572)\n",
      " DecisionTreeClassifier(max_features='sqrt', random_state=911989541)\n",
      " DecisionTreeClassifier(max_features='sqrt', random_state=2126768636)\n",
      " DecisionTreeClassifier(max_features='sqrt', random_state=670094950)\n",
      " DecisionTreeClassifier(max_features='sqrt', random_state=2004731384)\n",
      " DecisionTreeClassifier(max_features='sqrt', random_state=1308306184)\n",
      " DecisionTreeClassifier(max_features='sqrt', random_state=2034764475)\n",
      " DecisionTreeClassifier(max_features='sqrt', random_state=480404538)\n",
      " DecisionTreeClassifier(max_features='sqrt', random_state=1927948675)\n",
      " DecisionTreeClassifier(max_features='sqrt', random_state=669991378)\n",
      " DecisionTreeClassifier(max_features='sqrt', random_state=480404538)\n",
      " DecisionTreeClassifier(max_features='sqrt', random_state=389151677)\n",
      " DecisionTreeClassifier(max_features='sqrt', random_state=1914837113)\n",
      " DecisionTreeClassifier(max_features='sqrt', random_state=1717389822)\n",
      " DecisionTreeClassifier(max_features='sqrt', random_state=780932287)\n",
      " DecisionTreeClassifier(max_features='sqrt', random_state=106406362)\n",
      " DecisionTreeClassifier(max_features='sqrt', random_state=3344769)\n",
      " DecisionTreeClassifier(max_features='sqrt', random_state=1431061255)\n",
      " DecisionTreeClassifier(max_features='sqrt', random_state=1914837113)\n",
      " DecisionTreeClassifier(max_features='sqrt', random_state=389151677)\n",
      " DecisionTreeClassifier(max_features='sqrt', random_state=1573512143)\n",
      " DecisionTreeClassifier(max_features='sqrt', random_state=1655351289)\n",
      " DecisionTreeClassifier(max_features='sqrt', random_state=396917567)\n",
      " DecisionTreeClassifier(max_features='sqrt', random_state=1250819632)\n",
      " DecisionTreeClassifier(max_features='sqrt', random_state=3344769)\n",
      " DecisionTreeClassifier(max_features='sqrt', random_state=99052376)\n",
      " DecisionTreeClassifier(max_features='sqrt', random_state=1545932260)\n",
      " DecisionTreeClassifier(max_features='sqrt', random_state=1717389822)\n",
      " DecisionTreeClassifier(max_features='sqrt', random_state=480404538)\n",
      " DecisionTreeClassifier(max_features='sqrt', random_state=780932287)\n",
      " DecisionTreeClassifier(max_features='sqrt', random_state=147697582)\n",
      " DecisionTreeClassifier(max_features='sqrt', random_state=134489564)\n",
      " DecisionTreeClassifier(max_features='sqrt', random_state=669991378)\n",
      " DecisionTreeClassifier(max_features='sqrt', random_state=106406362)\n",
      " DecisionTreeClassifier(max_features='sqrt', random_state=434285667)\n",
      " DecisionTreeClassifier(max_features='sqrt', random_state=1306710475)\n",
      " DecisionTreeClassifier(max_features='sqrt', random_state=999745294)\n",
      " DecisionTreeClassifier(max_features='sqrt', random_state=434285667)\n",
      " DecisionTreeClassifier(max_features='sqrt', random_state=1717389822)\n",
      " DecisionTreeClassifier(max_features='sqrt', random_state=1899242072)\n",
      " DecisionTreeClassifier(max_features='sqrt', random_state=2075460851)\n",
      " DecisionTreeClassifier(max_features='sqrt', random_state=1324556529)\n",
      " DecisionTreeClassifier(max_features='sqrt', random_state=1224821422)\n",
      " DecisionTreeClassifier(max_features='sqrt', random_state=1999874363)\n",
      " DecisionTreeClassifier(max_features='sqrt', random_state=61136438)\n",
      " DecisionTreeClassifier(max_features='sqrt', random_state=1433267572)\n",
      " DecisionTreeClassifier(max_features='sqrt', random_state=508464061)\n",
      " DecisionTreeClassifier(max_features='sqrt', random_state=2114032571)\n",
      " DecisionTreeClassifier(max_features='sqrt', random_state=744595490)\n",
      " DecisionTreeClassifier(max_features='sqrt', random_state=670094950)\n",
      " DecisionTreeClassifier(max_features='sqrt', random_state=999745294)\n",
      " DecisionTreeClassifier(max_features='sqrt', random_state=429389014)\n",
      " DecisionTreeClassifier(max_features='sqrt', random_state=2114032571)\n",
      " DecisionTreeClassifier(max_features='sqrt', random_state=1899242072)\n",
      " DecisionTreeClassifier(max_features='sqrt', random_state=1958805693)\n",
      " DecisionTreeClassifier(max_features='sqrt', random_state=1999874363)\n",
      " DecisionTreeClassifier(max_features='sqrt', random_state=199502978)\n",
      " DecisionTreeClassifier(max_features='sqrt', random_state=271820813)\n",
      " DecisionTreeClassifier(max_features='sqrt', random_state=271820813)\n",
      " DecisionTreeClassifier(max_features='sqrt', random_state=787716372)\n",
      " DecisionTreeClassifier(max_features='sqrt', random_state=1758017741)\n",
      " DecisionTreeClassifier(max_features='sqrt', random_state=613608295)\n",
      " DecisionTreeClassifier(max_features='sqrt', random_state=1958805693)\n",
      " DecisionTreeClassifier(max_features='sqrt', random_state=249467210)\n",
      " DecisionTreeClassifier(max_features='sqrt', random_state=415968276)\n",
      " DecisionTreeClassifier(max_features='sqrt', random_state=599121577)\n",
      " DecisionTreeClassifier(max_features='sqrt', random_state=389151677)\n",
      " DecisionTreeClassifier(max_features='sqrt', random_state=479546681)\n",
      " DecisionTreeClassifier(max_features='sqrt', random_state=1250819632)\n",
      " DecisionTreeClassifier(max_features='sqrt', random_state=787716372)\n",
      " DecisionTreeClassifier(max_features='sqrt', random_state=599121577)\n",
      " DecisionTreeClassifier(max_features='sqrt', random_state=271820813)\n",
      " DecisionTreeClassifier(max_features='sqrt', random_state=1679592528)\n",
      " DecisionTreeClassifier(max_features='sqrt', random_state=200427519)\n",
      " DecisionTreeClassifier(max_features='sqrt', random_state=504579232)\n",
      " DecisionTreeClassifier(max_features='sqrt', random_state=1855189739)\n",
      " DecisionTreeClassifier(max_features='sqrt', random_state=2114032571)\n",
      " DecisionTreeClassifier(max_features='sqrt', random_state=787110843)\n",
      " DecisionTreeClassifier(max_features='sqrt', random_state=1338788865)\n",
      " DecisionTreeClassifier(max_features='sqrt', random_state=1224821422)\n",
      " DecisionTreeClassifier(max_features='sqrt', random_state=2126768636)\n",
      " DecisionTreeClassifier(max_features='sqrt', random_state=396917567)\n",
      " DecisionTreeClassifier(max_features='sqrt', random_state=290770691)\n",
      " DecisionTreeClassifier(max_features='sqrt', random_state=508464061)\n",
      " DecisionTreeClassifier(max_features='sqrt', random_state=996406378)\n",
      " DecisionTreeClassifier(max_features='sqrt', random_state=461901618)\n",
      " DecisionTreeClassifier(max_features='sqrt', random_state=1826030589)\n",
      " DecisionTreeClassifier(max_features='sqrt', random_state=793943861)\n",
      " DecisionTreeClassifier(max_features='sqrt', random_state=472432043)\n",
      " DecisionTreeClassifier(max_features='sqrt', random_state=86191493)\n",
      " DecisionTreeClassifier(max_features='sqrt', random_state=1201263687)\n",
      " DecisionTreeClassifier(max_features='sqrt', random_state=134489564)\n",
      " DecisionTreeClassifier(max_features='sqrt', random_state=774414982)\n",
      " DecisionTreeClassifier(max_features='sqrt', random_state=780932287)\n",
      " DecisionTreeClassifier(max_features='sqrt', random_state=524150214)\n",
      " DecisionTreeClassifier(max_features='sqrt', random_state=787716372)\n",
      " DecisionTreeClassifier(max_features='sqrt', random_state=1890440558)\n",
      " DecisionTreeClassifier(max_features='sqrt', random_state=893102645)\n",
      " DecisionTreeClassifier(max_features='sqrt', random_state=2114032571)\n",
      " DecisionTreeClassifier(max_features='sqrt', random_state=1035196507)\n",
      " DecisionTreeClassifier(max_features='sqrt', random_state=791274835)\n",
      " DecisionTreeClassifier(max_features='sqrt', random_state=423734972)\n",
      " DecisionTreeClassifier(max_features='sqrt', random_state=787110843)\n",
      " DecisionTreeClassifier(max_features='sqrt', random_state=732395540)\n",
      " DecisionTreeClassifier(max_features='sqrt', random_state=1890440558)\n",
      " DecisionTreeClassifier(max_features='sqrt', random_state=200619113)\n",
      " DecisionTreeClassifier(max_features='sqrt', random_state=2004731384)\n",
      " DecisionTreeClassifier(max_features='sqrt', random_state=3344769)\n",
      " DecisionTreeClassifier(max_features='sqrt', random_state=290770691)\n",
      " DecisionTreeClassifier(max_features='sqrt', random_state=1642661739)\n",
      " DecisionTreeClassifier(max_features='sqrt', random_state=1934879560)\n",
      " DecisionTreeClassifier(max_features='sqrt', random_state=780932287)\n",
      " DecisionTreeClassifier(max_features='sqrt', random_state=911989541)\n",
      " DecisionTreeClassifier(max_features='sqrt', random_state=793943861)\n",
      " DecisionTreeClassifier(max_features='sqrt', random_state=857592370)\n",
      " DecisionTreeClassifier(max_features='sqrt', random_state=1035196507)\n",
      " DecisionTreeClassifier(max_features='sqrt', random_state=415968276)\n",
      " DecisionTreeClassifier(max_features='sqrt', random_state=670094950)\n",
      " DecisionTreeClassifier(max_features='sqrt', random_state=3344769)\n",
      " DecisionTreeClassifier(max_features='sqrt', random_state=991681409)\n",
      " DecisionTreeClassifier(max_features='sqrt', random_state=279394470)\n",
      " DecisionTreeClassifier(max_features='sqrt', random_state=134489564)\n",
      " DecisionTreeClassifier(max_features='sqrt', random_state=199502978)\n",
      " DecisionTreeClassifier(max_features='sqrt', random_state=791274835)\n",
      " DecisionTreeClassifier(max_features='sqrt', random_state=1883569565)\n",
      " DecisionTreeClassifier(max_features='sqrt', random_state=1914837113)\n",
      " DecisionTreeClassifier(max_features='sqrt', random_state=1431061255)\n",
      " DecisionTreeClassifier(max_features='sqrt', random_state=1427830251)\n",
      " DecisionTreeClassifier(max_features='sqrt', random_state=1935803228)\n",
      " DecisionTreeClassifier(max_features='sqrt', random_state=787846414)\n",
      " DecisionTreeClassifier(max_features='sqrt', random_state=56972561)\n",
      " DecisionTreeClassifier(max_features='sqrt', random_state=61136438)\n",
      " DecisionTreeClassifier(max_features='sqrt', random_state=524150214)\n",
      " DecisionTreeClassifier(max_features='sqrt', random_state=147697582)\n",
      " DecisionTreeClassifier(max_features='sqrt', random_state=911989541)\n",
      " DecisionTreeClassifier(max_features='sqrt', random_state=1927948675)\n",
      " DecisionTreeClassifier(max_features='sqrt', random_state=744595490)\n",
      " DecisionTreeClassifier(max_features='sqrt', random_state=1273642419)\n",
      " DecisionTreeClassifier(max_features='sqrt', random_state=461901618)\n",
      " DecisionTreeClassifier(max_features='sqrt', random_state=472432043)\n",
      " DecisionTreeClassifier(max_features='sqrt', random_state=2075460851)\n",
      " DecisionTreeClassifier(max_features='sqrt', random_state=1758017741)\n",
      " DecisionTreeClassifier(max_features='sqrt', random_state=1899242072)\n",
      " DecisionTreeClassifier(max_features='sqrt', random_state=953477463)\n",
      " DecisionTreeClassifier(max_features='sqrt', random_state=1608637542)\n",
      " DecisionTreeClassifier(max_features='sqrt', random_state=1545932260)\n",
      " DecisionTreeClassifier(max_features='sqrt', random_state=2126768636)\n",
      " DecisionTreeClassifier(max_features='sqrt', random_state=1679592528)\n",
      " DecisionTreeClassifier(max_features='sqrt', random_state=1999874363)\n",
      " DecisionTreeClassifier(max_features='sqrt', random_state=419498548)\n",
      " DecisionTreeClassifier(max_features='sqrt', random_state=396917567)\n",
      " DecisionTreeClassifier(max_features='sqrt', random_state=2018247425)\n",
      " DecisionTreeClassifier(max_features='sqrt', random_state=1111451555)\n",
      " DecisionTreeClassifier(max_features='sqrt', random_state=290770691)\n",
      " DecisionTreeClassifier(max_features='sqrt', random_state=423734972)\n",
      " DecisionTreeClassifier(max_features='sqrt', random_state=2126768636)\n",
      " DecisionTreeClassifier(max_features='sqrt', random_state=1883569565)\n",
      " DecisionTreeClassifier(max_features='sqrt', random_state=793943861)\n",
      " DecisionTreeClassifier(max_features='sqrt', random_state=1899242072)\n",
      " DecisionTreeClassifier(max_features='sqrt', random_state=1927948675)\n",
      " DecisionTreeClassifier(max_features='sqrt', random_state=472432043)\n",
      " DecisionTreeClassifier(max_features='sqrt', random_state=415968276)\n",
      " DecisionTreeClassifier(max_features='sqrt', random_state=134489564)\n",
      " DecisionTreeClassifier(max_features='sqrt', random_state=669991378)\n",
      " DecisionTreeClassifier(max_features='sqrt', random_state=911989541)\n",
      " DecisionTreeClassifier(max_features='sqrt', random_state=524150214)\n",
      " DecisionTreeClassifier(max_features='sqrt', random_state=1431061255)\n",
      " DecisionTreeClassifier(max_features='sqrt', random_state=1999874363)\n",
      " DecisionTreeClassifier(max_features='sqrt', random_state=1201263687)\n",
      " DecisionTreeClassifier(max_features='sqrt', random_state=147697582)\n",
      " DecisionTreeClassifier(max_features='sqrt', random_state=271820813)\n",
      " DecisionTreeClassifier(max_features='sqrt', random_state=996406378)\n",
      " DecisionTreeClassifier(max_features='sqrt', random_state=1427830251)\n",
      " DecisionTreeClassifier(max_features='sqrt', random_state=744595490)\n",
      " DecisionTreeClassifier(max_features='sqrt', random_state=953477463)\n",
      " DecisionTreeClassifier(max_features='sqrt', random_state=2018247425)\n",
      " DecisionTreeClassifier(max_features='sqrt', random_state=1324556529)\n",
      " DecisionTreeClassifier(max_features='sqrt', random_state=787846414)\n",
      " DecisionTreeClassifier(max_features='sqrt', random_state=1935803228)\n",
      " DecisionTreeClassifier(max_features='sqrt', random_state=1758017741)\n",
      " DecisionTreeClassifier(max_features='sqrt', random_state=1679592528)\n",
      " DecisionTreeClassifier(max_features='sqrt', random_state=1655351289)\n",
      " DecisionTreeClassifier(max_features='sqrt', random_state=242285876)\n",
      " DecisionTreeClassifier(max_features='sqrt', random_state=1111451555)\n",
      " DecisionTreeClassifier(max_features='sqrt', random_state=1273642419)\n",
      " DecisionTreeClassifier(max_features='sqrt', random_state=2114032571)\n",
      " DecisionTreeClassifier(max_features='sqrt', random_state=1308306184)\n",
      " DecisionTreeClassifier(max_features='sqrt', random_state=68574553)\n",
      " DecisionTreeClassifier(max_features='sqrt', random_state=782698033)\n",
      " DecisionTreeClassifier(max_features='sqrt', random_state=1608637542)\n",
      " DecisionTreeClassifier(max_features='sqrt', random_state=698027879)\n",
      " DecisionTreeClassifier(max_features='sqrt', random_state=1096768899)\n",
      " DecisionTreeClassifier(max_features='sqrt', random_state=1254751707)\n",
      " DecisionTreeClassifier(max_features='sqrt', random_state=1224821422)\n",
      " DecisionTreeClassifier(max_features='sqrt', random_state=99052376)\n",
      " DecisionTreeClassifier(max_features='sqrt', random_state=508464061)\n",
      " DecisionTreeClassifier(max_features='sqrt', random_state=30349564)\n",
      " DecisionTreeClassifier(max_features='sqrt', random_state=1855189739)\n",
      " DecisionTreeClassifier(max_features='sqrt', random_state=857592370)\n",
      " DecisionTreeClassifier(max_features='sqrt', random_state=1642661739)\n",
      " DecisionTreeClassifier(max_features='sqrt', random_state=2034764475)\n",
      " DecisionTreeClassifier(max_features='sqrt', random_state=30349564)\n",
      " DecisionTreeClassifier(max_features='sqrt', random_state=106328085)\n",
      " DecisionTreeClassifier(max_features='sqrt', random_state=1642661739)\n",
      " DecisionTreeClassifier(max_features='sqrt', random_state=106328085)\n",
      " DecisionTreeClassifier(max_features='sqrt', random_state=857592370)\n",
      " DecisionTreeClassifier(max_features='sqrt', random_state=1573512143)\n",
      " DecisionTreeClassifier(max_features='sqrt', random_state=1306710475)\n",
      " DecisionTreeClassifier(max_features='sqrt', random_state=61136438)\n",
      " DecisionTreeClassifier(max_features='sqrt', random_state=479546681)\n",
      " DecisionTreeClassifier(max_features='sqrt', random_state=2075460851)\n",
      " DecisionTreeClassifier(max_features='sqrt', random_state=479546681)\n",
      " DecisionTreeClassifier(max_features='sqrt', random_state=61136438)\n",
      " DecisionTreeClassifier(max_features='sqrt', random_state=1273642419)\n",
      " DecisionTreeClassifier(max_features='sqrt', random_state=396917567)\n",
      " DecisionTreeClassifier(max_features='sqrt', random_state=1306710475)\n",
      " DecisionTreeClassifier(max_features='sqrt', random_state=791274835)\n",
      " DecisionTreeClassifier(max_features='sqrt', random_state=999745294)\n",
      " DecisionTreeClassifier(max_features='sqrt', random_state=1958805693)\n",
      " DecisionTreeClassifier(max_features='sqrt', random_state=2004731384)\n",
      " DecisionTreeClassifier(max_features='sqrt', random_state=429389014)\n",
      " DecisionTreeClassifier(max_features='sqrt', random_state=504579232)\n",
      " DecisionTreeClassifier(max_features='sqrt', random_state=2075460851)\n",
      " DecisionTreeClassifier(max_features='sqrt', random_state=199502978)\n",
      " DecisionTreeClassifier(max_features='sqrt', random_state=389151677)\n",
      " DecisionTreeClassifier(max_features='sqrt', random_state=504579232)\n",
      " DecisionTreeClassifier(max_features='sqrt', random_state=787716372)\n",
      " DecisionTreeClassifier(max_features='sqrt', random_state=1545932260)\n",
      " DecisionTreeClassifier(max_features='sqrt', random_state=1642661739)\n",
      " DecisionTreeClassifier(max_features='sqrt', random_state=669991378)\n",
      " DecisionTreeClassifier(max_features='sqrt', random_state=1972458954)\n",
      " DecisionTreeClassifier(max_features='sqrt', random_state=1883569565)\n",
      " DecisionTreeClassifier(max_features='sqrt', random_state=1999874363)\n",
      " DecisionTreeClassifier(max_features='sqrt', random_state=1758017741)\n",
      " DecisionTreeClassifier(max_features='sqrt', random_state=271820813)\n",
      " DecisionTreeClassifier(max_features='sqrt', random_state=893664919)\n",
      " DecisionTreeClassifier(max_features='sqrt', random_state=200427519)\n",
      " DecisionTreeClassifier(max_features='sqrt', random_state=2004731384)\n",
      " DecisionTreeClassifier(max_features='sqrt', random_state=1914837113)\n",
      " DecisionTreeClassifier(max_features='sqrt', random_state=1306710475)\n",
      " DecisionTreeClassifier(max_features='sqrt', random_state=242285876)\n",
      " DecisionTreeClassifier(max_features='sqrt', random_state=648061058)\n",
      " DecisionTreeClassifier(max_features='sqrt', random_state=504579232)\n",
      " DecisionTreeClassifier(max_features='sqrt', random_state=857592370)\n",
      " DecisionTreeClassifier(max_features='sqrt', random_state=1679592528)\n",
      " DecisionTreeClassifier(max_features='sqrt', random_state=1572714583)\n",
      " DecisionTreeClassifier(max_features='sqrt', random_state=2004731384)\n",
      " DecisionTreeClassifier(max_features='sqrt', random_state=106328085)\n",
      " DecisionTreeClassifier(max_features='sqrt', random_state=1899242072)\n",
      " DecisionTreeClassifier(max_features='sqrt', random_state=1324556529)\n",
      " DecisionTreeClassifier(max_features='sqrt', random_state=670094950)\n",
      " DecisionTreeClassifier(max_features='sqrt', random_state=415968276)\n",
      " DecisionTreeClassifier(max_features='sqrt', random_state=774414982)\n",
      " DecisionTreeClassifier(max_features='sqrt', random_state=1427830251)\n",
      " DecisionTreeClassifier(max_features='sqrt', random_state=1111451555)\n",
      " DecisionTreeClassifier(max_features='sqrt', random_state=30349564)\n",
      " DecisionTreeClassifier(max_features='sqrt', random_state=479546681)\n",
      " DecisionTreeClassifier(max_features='sqrt', random_state=88409749)\n",
      " DecisionTreeClassifier(max_features='sqrt', random_state=1254751707)\n",
      " DecisionTreeClassifier(max_features='sqrt', random_state=1433267572)\n",
      " DecisionTreeClassifier(max_features='sqrt', random_state=648061058)\n",
      " DecisionTreeClassifier(max_features='sqrt', random_state=508464061)\n",
      " DecisionTreeClassifier(max_features='sqrt', random_state=396917567)\n",
      " DecisionTreeClassifier(max_features='sqrt', random_state=1573512143)\n",
      " DecisionTreeClassifier(max_features='sqrt', random_state=782698033)\n",
      " DecisionTreeClassifier(max_features='sqrt', random_state=1655351289)\n",
      " DecisionTreeClassifier(max_features='sqrt', random_state=1927948675)\n",
      " DecisionTreeClassifier(max_features='sqrt', random_state=1306710475)\n",
      " DecisionTreeClassifier(max_features='sqrt', random_state=199502978)\n",
      " DecisionTreeClassifier(max_features='sqrt', random_state=106328085)\n",
      " DecisionTreeClassifier(max_features='sqrt', random_state=2034764475)\n",
      " DecisionTreeClassifier(max_features='sqrt', random_state=698027879)\n",
      " DecisionTreeClassifier(max_features='sqrt', random_state=423734972)\n",
      " DecisionTreeClassifier(max_features='sqrt', random_state=434285667)\n",
      " DecisionTreeClassifier(max_features='sqrt', random_state=1224821422)\n",
      " DecisionTreeClassifier(max_features='sqrt', random_state=1308306184)\n",
      " DecisionTreeClassifier(max_features='sqrt', random_state=88409749)\n",
      " DecisionTreeClassifier(max_features='sqrt', random_state=389151677)\n",
      " DecisionTreeClassifier(max_features='sqrt', random_state=2018247425)\n",
      " DecisionTreeClassifier(max_features='sqrt', random_state=1096768899)\n",
      " DecisionTreeClassifier(max_features='sqrt', random_state=30349564)\n",
      " DecisionTreeClassifier(max_features='sqrt', random_state=56972561)\n",
      " DecisionTreeClassifier(max_features='sqrt', random_state=479546681)\n",
      " DecisionTreeClassifier(max_features='sqrt', random_state=1545932260)\n",
      " DecisionTreeClassifier(max_features='sqrt', random_state=1201263687)\n",
      " DecisionTreeClassifier(max_features='sqrt', random_state=279394470)\n",
      " DecisionTreeClassifier(max_features='sqrt', random_state=613608295)\n",
      " DecisionTreeClassifier(max_features='sqrt', random_state=461901618)\n",
      " DecisionTreeClassifier(max_features='sqrt', random_state=1254751707)\n",
      " DecisionTreeClassifier(max_features='sqrt', random_state=1338788865)\n",
      " DecisionTreeClassifier(max_features='sqrt', random_state=68574553)\n",
      " DecisionTreeClassifier(max_features='sqrt', random_state=893664919)\n",
      " DecisionTreeClassifier(max_features='sqrt', random_state=670094950)\n",
      " DecisionTreeClassifier(max_features='sqrt', random_state=2034764475)\n",
      " DecisionTreeClassifier(max_features='sqrt', random_state=953477463)\n",
      " DecisionTreeClassifier(max_features='sqrt', random_state=996406378)\n",
      " DecisionTreeClassifier(max_features='sqrt', random_state=1855189739)\n",
      " DecisionTreeClassifier(max_features='sqrt', random_state=242285876)\n",
      " DecisionTreeClassifier(max_features='sqrt', random_state=1826030589)\n",
      " DecisionTreeClassifier(max_features='sqrt', random_state=893664919)\n",
      " DecisionTreeClassifier(max_features='sqrt', random_state=106328085)\n",
      " DecisionTreeClassifier(max_features='sqrt', random_state=2075460851)\n",
      " DecisionTreeClassifier(max_features='sqrt', random_state=419498548)\n",
      " DecisionTreeClassifier(max_features='sqrt', random_state=787846414)\n",
      " DecisionTreeClassifier(max_features='sqrt', random_state=1855189739)\n",
      " DecisionTreeClassifier(max_features='sqrt', random_state=30349564)\n",
      " DecisionTreeClassifier(max_features='sqrt', random_state=1935803228)\n",
      " DecisionTreeClassifier(max_features='sqrt', random_state=732395540)\n",
      " DecisionTreeClassifier(max_features='sqrt', random_state=613608295)\n",
      " DecisionTreeClassifier(max_features='sqrt', random_state=61136438)\n",
      " DecisionTreeClassifier(max_features='sqrt', random_state=86191493)\n",
      " DecisionTreeClassifier(max_features='sqrt', random_state=99052376)\n",
      " DecisionTreeClassifier(max_features='sqrt', random_state=1608637542)\n",
      " DecisionTreeClassifier(max_features='sqrt', random_state=1958805693)\n",
      " DecisionTreeClassifier(max_features='sqrt', random_state=56972561)\n",
      " DecisionTreeClassifier(max_features='sqrt', random_state=648061058)\n",
      " DecisionTreeClassifier(max_features='sqrt', random_state=200427519)\n",
      " DecisionTreeClassifier(max_features='sqrt', random_state=1934879560)\n",
      " DecisionTreeClassifier(max_features='sqrt', random_state=599121577)\n",
      " DecisionTreeClassifier(max_features='sqrt', random_state=893102645)\n",
      " DecisionTreeClassifier(max_features='sqrt', random_state=991681409)\n",
      " DecisionTreeClassifier(max_features='sqrt', random_state=787110843)\n",
      " DecisionTreeClassifier(max_features='sqrt', random_state=1573512143)\n",
      " DecisionTreeClassifier(max_features='sqrt', random_state=774414982)\n",
      " DecisionTreeClassifier(max_features='sqrt', random_state=1250819632)\n",
      " DecisionTreeClassifier(max_features='sqrt', random_state=434285667)\n",
      " DecisionTreeClassifier(max_features='sqrt', random_state=999745294)\n",
      " DecisionTreeClassifier(max_features='sqrt', random_state=200619113)\n",
      " DecisionTreeClassifier(max_features='sqrt', random_state=1934879560)\n",
      " DecisionTreeClassifier(max_features='sqrt', random_state=1273642419)\n",
      " DecisionTreeClassifier(max_features='sqrt', random_state=88409749)\n",
      " DecisionTreeClassifier(max_features='sqrt', random_state=242285876)\n",
      " DecisionTreeClassifier(max_features='sqrt', random_state=1642661739)\n",
      " DecisionTreeClassifier(max_features='sqrt', random_state=780932287)\n",
      " DecisionTreeClassifier(max_features='sqrt', random_state=791274835)\n",
      " DecisionTreeClassifier(max_features='sqrt', random_state=732395540)\n",
      " DecisionTreeClassifier(max_features='sqrt', random_state=1914837113)\n",
      " DecisionTreeClassifier(max_features='sqrt', random_state=2018247425)\n",
      " DecisionTreeClassifier(max_features='sqrt', random_state=290770691)\n",
      " DecisionTreeClassifier(max_features='sqrt', random_state=1935803228)\n",
      " DecisionTreeClassifier(max_features='sqrt', random_state=106406362)\n",
      " DecisionTreeClassifier(max_features='sqrt', random_state=279394470)\n",
      " DecisionTreeClassifier(max_features='sqrt', random_state=1608637542)\n",
      " DecisionTreeClassifier(max_features='sqrt', random_state=1433267572)\n",
      " DecisionTreeClassifier(max_features='sqrt', random_state=953477463)\n",
      " DecisionTreeClassifier(max_features='sqrt', random_state=1855189739)\n",
      " DecisionTreeClassifier(max_features='sqrt', random_state=3344769)\n",
      " DecisionTreeClassifier(max_features='sqrt', random_state=1573512143)\n",
      " DecisionTreeClassifier(max_features='sqrt', random_state=1890440558)\n",
      " DecisionTreeClassifier(max_features='sqrt', random_state=732395540)\n",
      " DecisionTreeClassifier(max_features='sqrt', random_state=242285876)\n",
      " DecisionTreeClassifier(max_features='sqrt', random_state=793943861)\n",
      " DecisionTreeClassifier(max_features='sqrt', random_state=1035196507)\n",
      " DecisionTreeClassifier(max_features='sqrt', random_state=279394470)\n",
      " DecisionTreeClassifier(max_features='sqrt', random_state=787846414)\n",
      " DecisionTreeClassifier(max_features='sqrt', random_state=88409749)\n",
      " DecisionTreeClassifier(max_features='sqrt', random_state=774414982)\n",
      " DecisionTreeClassifier(max_features='sqrt', random_state=99052376)\n",
      " DecisionTreeClassifier(max_features='sqrt', random_state=1035196507)]\n"
     ]
    }
   ],
   "source": [
    "global_model.estimators_ = np.array(estimators)\n",
    "print(global_model.estimators_)\n"
   ]
  },
  {
   "cell_type": "markdown",
   "id": "e263936d-c5a9-4ec4-9905-8ace99cd3a7b",
   "metadata": {
    "tags": []
   },
   "source": [
    "## Aggregation"
   ]
  },
  {
   "cell_type": "code",
   "execution_count": 24,
   "id": "ed5bdb70-481b-418f-82fc-2626a40f0468",
   "metadata": {
    "scrolled": true,
    "tags": []
   },
   "outputs": [
    {
     "name": "stdout",
     "output_type": "stream",
     "text": [
      "['DoS' 'Infiltration' 'Port Scan' 'DDoS' 'Web Attack' 'BENIGN'\n",
      " 'Heartbleed' 'Brute Force' 'Bot']\n",
      "['PC12' 'PC4' 'PC20' 'PC9' 'PC32' 'PC31' 'PC19' 'PC2' 'PC33' 'PC18' 'PC27'\n",
      " 'PC21' 'PC1' 'PC24' 'PC34' 'PC8' 'PC16' 'PC30' 'PC17' 'PC29' 'PC5' 'PC23'\n",
      " 'PC15' 'PC3' 'PC25' 'PC28' 'PC22' 'PC7' 'PC6' 'PC11' 'PC13' 'PC26' 'PC14'\n",
      " 'PC10' 'PC35']\n",
      "Aggregated Estimators (Decision Trees): [DecisionTreeClassifier(max_features='sqrt', random_state=1608637542)\n",
      " DecisionTreeClassifier(max_features='sqrt', random_state=1273642419)\n",
      " DecisionTreeClassifier(max_features='sqrt', random_state=1935803228)\n",
      " DecisionTreeClassifier(max_features='sqrt', random_state=787846414)\n",
      " DecisionTreeClassifier(max_features='sqrt', random_state=996406378)\n",
      " DecisionTreeClassifier(max_features='sqrt', random_state=1201263687)\n",
      " DecisionTreeClassifier(max_features='sqrt', random_state=423734972)\n",
      " DecisionTreeClassifier(max_features='sqrt', random_state=415968276)\n",
      " DecisionTreeClassifier(max_features='sqrt', random_state=670094950)\n",
      " DecisionTreeClassifier(max_features='sqrt', random_state=1914837113)\n",
      " DecisionTreeClassifier(max_features='sqrt', random_state=669991378)\n",
      " DecisionTreeClassifier(max_features='sqrt', random_state=429389014)\n",
      " DecisionTreeClassifier(max_features='sqrt', random_state=249467210)\n",
      " DecisionTreeClassifier(max_features='sqrt', random_state=1972458954)\n",
      " DecisionTreeClassifier(max_features='sqrt', random_state=1572714583)\n",
      " DecisionTreeClassifier(max_features='sqrt', random_state=1433267572)\n",
      " DecisionTreeClassifier(max_features='sqrt', random_state=434285667)\n",
      " DecisionTreeClassifier(max_features='sqrt', random_state=613608295)\n",
      " DecisionTreeClassifier(max_features='sqrt', random_state=893664919)\n",
      " DecisionTreeClassifier(max_features='sqrt', random_state=648061058)\n",
      " DecisionTreeClassifier(max_features='sqrt', random_state=88409749)\n",
      " DecisionTreeClassifier(max_features='sqrt', random_state=242285876)\n",
      " DecisionTreeClassifier(max_features='sqrt', random_state=2018247425)\n",
      " DecisionTreeClassifier(max_features='sqrt', random_state=953477463)\n",
      " DecisionTreeClassifier(max_features='sqrt', random_state=1427830251)\n",
      " DecisionTreeClassifier(max_features='sqrt', random_state=1883569565)\n",
      " DecisionTreeClassifier(max_features='sqrt', random_state=911989541)\n",
      " DecisionTreeClassifier(max_features='sqrt', random_state=3344769)\n",
      " DecisionTreeClassifier(max_features='sqrt', random_state=780932287)\n",
      " DecisionTreeClassifier(max_features='sqrt', random_state=2114032571)\n",
      " DecisionTreeClassifier(max_features='sqrt', random_state=787716372)\n",
      " DecisionTreeClassifier(max_features='sqrt', random_state=504579232)\n",
      " DecisionTreeClassifier(max_features='sqrt', random_state=1306710475)\n",
      " DecisionTreeClassifier(max_features='sqrt', random_state=479546681)\n",
      " DecisionTreeClassifier(max_features='sqrt', random_state=106328085)\n",
      " DecisionTreeClassifier(max_features='sqrt', random_state=30349564)\n",
      " DecisionTreeClassifier(max_features='sqrt', random_state=1855189739)\n",
      " DecisionTreeClassifier(max_features='sqrt', random_state=99052376)\n",
      " DecisionTreeClassifier(max_features='sqrt', random_state=1250819632)\n",
      " DecisionTreeClassifier(max_features='sqrt', random_state=106406362)\n",
      " DecisionTreeClassifier(max_features='sqrt', random_state=480404538)\n",
      " DecisionTreeClassifier(max_features='sqrt', random_state=1717389822)\n",
      " DecisionTreeClassifier(max_features='sqrt', random_state=599121577)\n",
      " DecisionTreeClassifier(max_features='sqrt', random_state=200427519)\n",
      " DecisionTreeClassifier(max_features='sqrt', random_state=1254751707)\n",
      " DecisionTreeClassifier(max_features='sqrt', random_state=2034764475)\n",
      " DecisionTreeClassifier(max_features='sqrt', random_state=1573512143)\n",
      " DecisionTreeClassifier(max_features='sqrt', random_state=999745294)\n",
      " DecisionTreeClassifier(max_features='sqrt', random_state=1958805693)\n",
      " DecisionTreeClassifier(max_features='sqrt', random_state=389151677)\n",
      " DecisionTreeClassifier(max_features='sqrt', random_state=1224821422)\n",
      " DecisionTreeClassifier(max_features='sqrt', random_state=508464061)\n",
      " DecisionTreeClassifier(max_features='sqrt', random_state=857592370)\n",
      " DecisionTreeClassifier(max_features='sqrt', random_state=1642661739)\n",
      " DecisionTreeClassifier(max_features='sqrt', random_state=61136438)\n",
      " DecisionTreeClassifier(max_features='sqrt', random_state=2075460851)\n",
      " DecisionTreeClassifier(max_features='sqrt', random_state=396917567)\n",
      " DecisionTreeClassifier(max_features='sqrt', random_state=2004731384)\n",
      " DecisionTreeClassifier(max_features='sqrt', random_state=199502978)\n",
      " DecisionTreeClassifier(max_features='sqrt', random_state=1545932260)\n",
      " DecisionTreeClassifier(max_features='sqrt', random_state=461901618)\n",
      " DecisionTreeClassifier(max_features='sqrt', random_state=774414982)\n",
      " DecisionTreeClassifier(max_features='sqrt', random_state=732395540)\n",
      " DecisionTreeClassifier(max_features='sqrt', random_state=1934879560)\n",
      " DecisionTreeClassifier(max_features='sqrt', random_state=279394470)\n",
      " DecisionTreeClassifier(max_features='sqrt', random_state=56972561)\n",
      " DecisionTreeClassifier(max_features='sqrt', random_state=1927948675)\n",
      " DecisionTreeClassifier(max_features='sqrt', random_state=1899242072)\n",
      " DecisionTreeClassifier(max_features='sqrt', random_state=1999874363)\n",
      " DecisionTreeClassifier(max_features='sqrt', random_state=271820813)\n",
      " DecisionTreeClassifier(max_features='sqrt', random_state=1324556529)\n",
      " DecisionTreeClassifier(max_features='sqrt', random_state=1655351289)\n",
      " DecisionTreeClassifier(max_features='sqrt', random_state=1308306184)\n",
      " DecisionTreeClassifier(max_features='sqrt', random_state=68574553)\n",
      " DecisionTreeClassifier(max_features='sqrt', random_state=419498548)\n",
      " DecisionTreeClassifier(max_features='sqrt', random_state=991681409)\n",
      " DecisionTreeClassifier(max_features='sqrt', random_state=791274835)\n",
      " DecisionTreeClassifier(max_features='sqrt', random_state=1035196507)\n",
      " DecisionTreeClassifier(max_features='sqrt', random_state=1890440558)\n",
      " DecisionTreeClassifier(max_features='sqrt', random_state=787110843)\n",
      " DecisionTreeClassifier(max_features='sqrt', random_state=524150214)\n",
      " DecisionTreeClassifier(max_features='sqrt', random_state=472432043)\n",
      " DecisionTreeClassifier(max_features='sqrt', random_state=2126768636)\n",
      " DecisionTreeClassifier(max_features='sqrt', random_state=1431061255)\n",
      " DecisionTreeClassifier(max_features='sqrt', random_state=147697582)\n",
      " DecisionTreeClassifier(max_features='sqrt', random_state=744595490)\n",
      " DecisionTreeClassifier(max_features='sqrt', random_state=1758017741)\n",
      " DecisionTreeClassifier(max_features='sqrt', random_state=1679592528)\n",
      " DecisionTreeClassifier(max_features='sqrt', random_state=1111451555)\n",
      " DecisionTreeClassifier(max_features='sqrt', random_state=782698033)\n",
      " DecisionTreeClassifier(max_features='sqrt', random_state=698027879)\n",
      " DecisionTreeClassifier(max_features='sqrt', random_state=1096768899)\n",
      " DecisionTreeClassifier(max_features='sqrt', random_state=1338788865)\n",
      " DecisionTreeClassifier(max_features='sqrt', random_state=1826030589)\n",
      " DecisionTreeClassifier(max_features='sqrt', random_state=86191493)\n",
      " DecisionTreeClassifier(max_features='sqrt', random_state=893102645)\n",
      " DecisionTreeClassifier(max_features='sqrt', random_state=200619113)\n",
      " DecisionTreeClassifier(max_features='sqrt', random_state=290770691)\n",
      " DecisionTreeClassifier(max_features='sqrt', random_state=793943861)\n",
      " DecisionTreeClassifier(max_features='sqrt', random_state=134489564)]\n",
      "Number of Aggregated Trees: 100\n"
     ]
    }
   ],
   "source": [
    "import numpy as np\n",
    "from sklearn.ensemble import RandomForestClassifier\n",
    "import joblib\n",
    "\n",
    "# Function to aggregate estimators using FedAvg\n",
    "def fed_avg_aggregation(client_estimators_list):\n",
    "    \"\"\"\n",
    "    Aggregates the estimators from multiple client models using FedAvg.\n",
    "    \"\"\"\n",
    "    # Initialize an empty list to collect all trees from clients\n",
    "    all_trees = []\n",
    "\n",
    "    # Collect estimators from each client's model\n",
    "    for estimators in client_estimators_list:\n",
    "        all_trees.extend(estimators)\n",
    "\n",
    "    # Compute average number of trees per model\n",
    "    avg_tree_count = int(np.mean([len(estimators) for estimators in client_estimators_list]))\n",
    "\n",
    "    # Select the first `avg_tree_count` estimators for the aggregated model\n",
    "    aggregated_estimators = all_trees[:avg_tree_count]\n",
    "\n",
    "    return aggregated_estimators\n",
    "\n",
    "# Load client models from saved files\n",
    "client_1_model = joblib.load('Sisira Horizontal/trial new/client_1_model.pkl')\n",
    "client_2_model = joblib.load('Sisira Horizontal/trial new/client_2_model.pkl')\n",
    "client_3_model = joblib.load('Sisira Horizontal/trial new/client_3_model.pkl')\n",
    "client_4_model = joblib.load('Sisira Horizontal/trial new/client_4_model.pkl')\n",
    "client_5_model = joblib.load('Sisira Horizontal/trial new/client_5_model.pkl')\n",
    "\n",
    "# Example: Collecting the estimators from each model\n",
    "client_models = [\n",
    "    client_1_model.estimators_, \n",
    "    client_2_model.estimators_, \n",
    "    client_3_model.estimators_, \n",
    "    client_4_model.estimators_, \n",
    "    client_5_model.estimators_, \n",
    "]\n",
    "\n",
    "# Perform aggregation of estimators using FedAvg\n",
    "aggregated_estimators = fed_avg_aggregation(client_models)\n",
    "\n",
    "# Initialize the global model\n",
    "global_model = RandomForestClassifier(random_state=42)\n",
    "\n",
    "# Assuming consistent feature names and classes across all clients\n",
    "global_model.classes_ = np.array(attkLbl)  # Replace with the actual class labels if needed\n",
    "print(global_model.classes_)\n",
    "global_model.feature_names_in_ = np.array(features)  # Replace with actual feature names if needed\n",
    "print(global_model.feature_names_in_)\n",
    "\n",
    "# Set the aggregated estimators in the global model (this is where the aggregated \"weights\" are assigned)\n",
    "global_model.estimators_ = np.array(aggregated_estimators)\n",
    "\n",
    "# Print the aggregated estimators (decision trees) for the global model\n",
    "print(\"Aggregated Estimators (Decision Trees):\", global_model.estimators_)\n",
    "print(\"Number of Aggregated Trees:\", len(global_model.estimators_))\n",
    "\n",
    "# The global model now contains the aggregated trees from all clients\n"
   ]
  },
  {
   "cell_type": "markdown",
   "id": "972ab9f8-223a-44dc-9521-921eb720e1f2",
   "metadata": {},
   "source": [
    "## Save Global Model"
   ]
  },
  {
   "cell_type": "code",
   "execution_count": 25,
   "id": "9e8efa30-f4e3-4603-aafb-5dc87fff0862",
   "metadata": {},
   "outputs": [
    {
     "name": "stdout",
     "output_type": "stream",
     "text": [
      "Global model saved as 'global_model.pkl'\n"
     ]
    }
   ],
   "source": [
    "import joblib\n",
    "\n",
    "# Save the global model as a .pkl file\n",
    "global_model_filename = \"global_model.pkl\"\n",
    "joblib.dump(global_model, global_model_filename)\n",
    "\n",
    "print(f\"Global model saved as '{global_model_filename}'\")\n"
   ]
  },
  {
   "cell_type": "code",
   "execution_count": 27,
   "id": "8a8f2d62-4441-4821-9e12-b484165e9838",
   "metadata": {},
   "outputs": [
    {
     "name": "stdout",
     "output_type": "stream",
     "text": [
      "Global model loaded successfully.\n"
     ]
    }
   ],
   "source": [
    "\n",
    "global_model_path = \"Sisira Horizontal/trial new/global_model.pkl\"\n",
    "loaded_global_model = joblib.load(global_model_path)\n",
    "print(\"Global model loaded successfully.\")\n"
   ]
  },
  {
   "cell_type": "markdown",
   "id": "58efa647-8694-4e3a-bf90-44e6c63b5e3f",
   "metadata": {},
   "source": [
    "## Performance Evaluation\n"
   ]
  },
  {
   "cell_type": "code",
   "execution_count": 3,
   "id": "df9f3b07-6218-43e8-bd26-5a9191a43bd6",
   "metadata": {},
   "outputs": [],
   "source": [
    "client3_data = pd.read_csv(\"Sisira Horizontal/trial new/Horizontally splitted data/client_3_data.csv\")\n",
    "\n"
   ]
  },
  {
   "cell_type": "code",
   "execution_count": 7,
   "id": "3facb245-45c4-4e4f-a5fc-e0628e6a7d0d",
   "metadata": {},
   "outputs": [],
   "source": [
    "from sklearn.model_selection import train_test_split\n",
    "\n",
    "X = client3_data.drop(columns=[\"Attack Type\"])\n",
    "y = client3_data[\"Attack Type\"]\n",
    "\n",
    "X_train, X_test, y_train, y_test = train_test_split(X, y, test_size=0.2, random_state=42)\n"
   ]
  },
  {
   "cell_type": "code",
   "execution_count": 87,
   "id": "7d8082c1-31ca-47aa-8e63-277e34c6f27b",
   "metadata": {},
   "outputs": [
    {
     "name": "stdout",
     "output_type": "stream",
     "text": [
      "Defaulting to user installation because normal site-packages is not writeable\n",
      "Requirement already satisfied: scikit-learn in ./.local/lib/python3.9/site-packages (1.4.2)\n",
      "Collecting scikit-learn\n",
      "  Downloading scikit_learn-1.6.1-cp39-cp39-manylinux_2_17_x86_64.manylinux2014_x86_64.whl (13.5 MB)\n",
      "     |████████████████████████████████| 13.5 MB 3.1 MB/s            \n",
      "\u001b[?25hRequirement already satisfied: threadpoolctl>=3.1.0 in ./.local/lib/python3.9/site-packages (from scikit-learn) (3.5.0)\n",
      "Requirement already satisfied: numpy>=1.19.5 in ./.local/lib/python3.9/site-packages (from scikit-learn) (1.26.4)\n",
      "Requirement already satisfied: scipy>=1.6.0 in ./.local/lib/python3.9/site-packages (from scikit-learn) (1.11.4)\n",
      "Requirement already satisfied: joblib>=1.2.0 in ./.local/lib/python3.9/site-packages (from scikit-learn) (1.3.2)\n",
      "Installing collected packages: scikit-learn\n",
      "  Attempting uninstall: scikit-learn\n",
      "    Found existing installation: scikit-learn 1.4.2\n",
      "    Uninstalling scikit-learn-1.4.2:\n",
      "      Successfully uninstalled scikit-learn-1.4.2\n",
      "\u001b[31mERROR: pip's dependency resolver does not currently take into account all the packages that are installed. This behaviour is the source of the following dependency conflicts.\n",
      "sktime 0.26.0 requires scikit-learn<1.5.0,>=0.24, but you have scikit-learn 1.6.1 which is incompatible.\u001b[0m\n",
      "Successfully installed scikit-learn-1.6.1\n",
      "\u001b[33mWARNING: You are using pip version 21.3.1; however, version 25.0.1 is available.\n",
      "You should consider upgrading via the '/cm/local/apps/python39/bin/python3.9 -m pip install --upgrade pip' command.\u001b[0m\n",
      "Note: you may need to restart the kernel to use updated packages.\n"
     ]
    }
   ],
   "source": [
    "pip install --upgrade scikit-learn\n"
   ]
  },
  {
   "cell_type": "code",
   "execution_count": 12,
   "id": "379111b7-cb7e-4829-a2cd-29e28670e6c7",
   "metadata": {},
   "outputs": [],
   "source": [
    "import joblib\n",
    "\n",
    "# Load the global model\n",
    "global_model = joblib.load('Sisira Horizontal/trial new/global_model.pkl')\n"
   ]
  },
  {
   "cell_type": "code",
   "execution_count": 13,
   "id": "cfa7a73e-e0a6-4d87-afa8-35ffaa7923bc",
   "metadata": {},
   "outputs": [
    {
     "name": "stdout",
     "output_type": "stream",
     "text": [
      "RandomForestClassifier(random_state=42)\n"
     ]
    }
   ],
   "source": [
    "print(global_model)\n"
   ]
  },
  {
   "cell_type": "code",
   "execution_count": 18,
   "id": "92f344a8-c1ad-4f3c-9fe0-6a89b4c06918",
   "metadata": {},
   "outputs": [],
   "source": [
    "# Paths for client models\n",
    "client_model_paths = [\n",
    "    \"Sisira Horizontal/trial new/Fresh_models/client_1_model.pkl\",\n",
    "    \"Sisira Horizontal/trial new/Fresh_models/client_2_model.pkl\",\n",
    "    \"Sisira Horizontal/trial new/Fresh_models/client_3_model.pkl\",\n",
    "    \"Sisira Horizontal/trial new/Fresh_models/client_4_model.pkl\",\n",
    "    \"Sisira Horizontal/trial new/Fresh_models/client_5_model.pkl\"\n",
    "]"
   ]
  },
  {
   "cell_type": "code",
   "execution_count": 20,
   "id": "0f209e44-5f8f-4885-9c6f-c3ba82071c2f",
   "metadata": {},
   "outputs": [
    {
     "name": "stderr",
     "output_type": "stream",
     "text": [
      "/jupyter/dtids.user01/.local/lib/python3.9/site-packages/sklearn/base.py:380: InconsistentVersionWarning: Trying to unpickle estimator DecisionTreeClassifier from version 1.5.2 when using version 1.6.1. This might lead to breaking code or invalid results. Use at your own risk. For more info please refer to:\n",
      "https://scikit-learn.org/stable/model_persistence.html#security-maintainability-limitations\n",
      "  warnings.warn(\n",
      "/jupyter/dtids.user01/.local/lib/python3.9/site-packages/sklearn/base.py:380: InconsistentVersionWarning: Trying to unpickle estimator RandomForestClassifier from version 1.5.2 when using version 1.6.1. This might lead to breaking code or invalid results. Use at your own risk. For more info please refer to:\n",
      "https://scikit-learn.org/stable/model_persistence.html#security-maintainability-limitations\n",
      "  warnings.warn(\n"
     ]
    },
    {
     "data": {
      "text/plain": [
       "5"
      ]
     },
     "execution_count": 20,
     "metadata": {},
     "output_type": "execute_result"
    }
   ],
   "source": [
    "# Iterate through each client model file, load the model, and aggregate its trees\n",
    "client_models = []\n",
    "for client_model_path in client_model_paths:\n",
    "    # Load the client's local model\n",
    "    client_models.append(joblib.load(client_model_path))\n",
    "\n",
    "len(client_models)"
   ]
  },
  {
   "cell_type": "code",
   "execution_count": 21,
   "id": "89653ebf-a5b4-402f-81ca-cf03f516acb7",
   "metadata": {},
   "outputs": [
    {
     "data": {
      "text/plain": [
       "9"
      ]
     },
     "execution_count": 21,
     "metadata": {},
     "output_type": "execute_result"
    }
   ],
   "source": [
    "attkLbl=[]\n",
    "for model in client_models:\n",
    "    thisModList = model.classes_.tolist()\n",
    "    attkLbl.extend(thisModList)\n",
    "    \n",
    "attkLbl = list(set(attkLbl))\n",
    "len(attkLbl)"
   ]
  },
  {
   "cell_type": "code",
   "execution_count": 69,
   "id": "6b927212-2736-4a75-a07c-a9dfd4783334",
   "metadata": {},
   "outputs": [
    {
     "name": "stdout",
     "output_type": "stream",
     "text": [
      "['PC24', 'PC20', 'PC12', 'PC1', 'PC25', 'PC18', 'PC34', 'PC35', 'PC23', 'PC29', 'PC30', 'PC13', 'PC15', 'PC11', 'PC5', 'PC33', 'PC27', 'PC28', 'PC31', 'PC14', 'PC22', 'PC21', 'PC17', 'PC9', 'PC2', 'PC3', 'PC7', 'PC4', 'PC8', 'PC19', 'PC32', 'PC6', 'PC16', 'PC26', 'PC10']\n"
     ]
    }
   ],
   "source": [
    "\n",
    "features = []\n",
    "for model in client_models:\n",
    "    l = model.feature_names_in_.tolist()\n",
    "    # print(l)\n",
    "    features.extend(l)\n",
    "\n",
    "features=list(set(features))\n",
    "print(features)"
   ]
  },
  {
   "cell_type": "code",
   "execution_count": 30,
   "id": "7ecdc2e1-ae78-4a1a-af3f-28c18b9bbd05",
   "metadata": {},
   "outputs": [
    {
     "name": "stdout",
     "output_type": "stream",
     "text": [
      "Estimators: [DecisionTreeClassifier(max_features='sqrt', random_state=106328085), DecisionTreeClassifier(max_features='sqrt', random_state=61136438), DecisionTreeClassifier(max_features='sqrt', random_state=479546681), DecisionTreeClassifier(max_features='sqrt', random_state=479546681), DecisionTreeClassifier(max_features='sqrt', random_state=106328085), DecisionTreeClassifier(max_features='sqrt', random_state=1958805693), DecisionTreeClassifier(max_features='sqrt', random_state=2075460851), DecisionTreeClassifier(max_features='sqrt', random_state=2075460851), DecisionTreeClassifier(max_features='sqrt', random_state=1306710475), DecisionTreeClassifier(max_features='sqrt', random_state=389151677), DecisionTreeClassifier(max_features='sqrt', random_state=396917567), DecisionTreeClassifier(max_features='sqrt', random_state=1306710475), DecisionTreeClassifier(max_features='sqrt', random_state=504579232), DecisionTreeClassifier(max_features='sqrt', random_state=787716372), DecisionTreeClassifier(max_features='sqrt', random_state=2004731384), DecisionTreeClassifier(max_features='sqrt', random_state=396917567), DecisionTreeClassifier(max_features='sqrt', random_state=1224821422), DecisionTreeClassifier(max_features='sqrt', random_state=508464061), DecisionTreeClassifier(max_features='sqrt', random_state=504579232), DecisionTreeClassifier(max_features='sqrt', random_state=199502978), DecisionTreeClassifier(max_features='sqrt', random_state=2114032571), DecisionTreeClassifier(max_features='sqrt', random_state=2114032571), DecisionTreeClassifier(max_features='sqrt', random_state=1545932260), DecisionTreeClassifier(max_features='sqrt', random_state=787716372), DecisionTreeClassifier(max_features='sqrt', random_state=461901618), DecisionTreeClassifier(max_features='sqrt', random_state=780932287), DecisionTreeClassifier(max_features='sqrt', random_state=857592370), DecisionTreeClassifier(max_features='sqrt', random_state=2004731384), DecisionTreeClassifier(max_features='sqrt', random_state=774414982), DecisionTreeClassifier(max_features='sqrt', random_state=3344769), DecisionTreeClassifier(max_features='sqrt', random_state=199502978), DecisionTreeClassifier(max_features='sqrt', random_state=732395540), DecisionTreeClassifier(max_features='sqrt', random_state=911989541), DecisionTreeClassifier(max_features='sqrt', random_state=1883569565), DecisionTreeClassifier(max_features='sqrt', random_state=1642661739), DecisionTreeClassifier(max_features='sqrt', random_state=1934879560), DecisionTreeClassifier(max_features='sqrt', random_state=61136438), DecisionTreeClassifier(max_features='sqrt', random_state=3344769), DecisionTreeClassifier(max_features='sqrt', random_state=279394470), DecisionTreeClassifier(max_features='sqrt', random_state=780932287), DecisionTreeClassifier(max_features='sqrt', random_state=2075460851), DecisionTreeClassifier(max_features='sqrt', random_state=1427830251), DecisionTreeClassifier(max_features='sqrt', random_state=56972561), DecisionTreeClassifier(max_features='sqrt', random_state=461901618), DecisionTreeClassifier(max_features='sqrt', random_state=396917567), DecisionTreeClassifier(max_features='sqrt', random_state=1927948675), DecisionTreeClassifier(max_features='sqrt', random_state=953477463), DecisionTreeClassifier(max_features='sqrt', random_state=1545932260), DecisionTreeClassifier(max_features='sqrt', random_state=1899242072), DecisionTreeClassifier(max_features='sqrt', random_state=911989541), DecisionTreeClassifier(max_features='sqrt', random_state=996406378), DecisionTreeClassifier(max_features='sqrt', random_state=279394470), DecisionTreeClassifier(max_features='sqrt', random_state=419498548), DecisionTreeClassifier(max_features='sqrt', random_state=2018247425), DecisionTreeClassifier(max_features='sqrt', random_state=2004731384), DecisionTreeClassifier(max_features='sqrt', random_state=2126768636), DecisionTreeClassifier(max_features='sqrt', random_state=1999874363), DecisionTreeClassifier(max_features='sqrt', random_state=1201263687), DecisionTreeClassifier(max_features='sqrt', random_state=1826030589), DecisionTreeClassifier(max_features='sqrt', random_state=1883569565), DecisionTreeClassifier(max_features='sqrt', random_state=774414982), DecisionTreeClassifier(max_features='sqrt', random_state=1427830251), DecisionTreeClassifier(max_features='sqrt', random_state=415968276), DecisionTreeClassifier(max_features='sqrt', random_state=242285876), DecisionTreeClassifier(max_features='sqrt', random_state=88409749), DecisionTreeClassifier(max_features='sqrt', random_state=472432043), DecisionTreeClassifier(max_features='sqrt', random_state=524150214), DecisionTreeClassifier(max_features='sqrt', random_state=732395540), DecisionTreeClassifier(max_features='sqrt', random_state=774414982), DecisionTreeClassifier(max_features='sqrt', random_state=271820813), DecisionTreeClassifier(max_features='sqrt', random_state=1890440558), DecisionTreeClassifier(max_features='sqrt', random_state=86191493), DecisionTreeClassifier(max_features='sqrt', random_state=1035196507), DecisionTreeClassifier(max_features='sqrt', random_state=423734972), DecisionTreeClassifier(max_features='sqrt', random_state=1934879560), DecisionTreeClassifier(max_features='sqrt', random_state=732395540), DecisionTreeClassifier(max_features='sqrt', random_state=1035196507), DecisionTreeClassifier(max_features='sqrt', random_state=1201263687), DecisionTreeClassifier(max_features='sqrt', random_state=415968276), DecisionTreeClassifier(max_features='sqrt', random_state=1324556529), DecisionTreeClassifier(max_features='sqrt', random_state=893102645), DecisionTreeClassifier(max_features='sqrt', random_state=88409749), DecisionTreeClassifier(max_features='sqrt', random_state=199502978), DecisionTreeClassifier(max_features='sqrt', random_state=1545932260), DecisionTreeClassifier(max_features='sqrt', random_state=479546681), DecisionTreeClassifier(max_features='sqrt', random_state=787846414), DecisionTreeClassifier(max_features='sqrt', random_state=461901618), DecisionTreeClassifier(max_features='sqrt', random_state=2004731384), DecisionTreeClassifier(max_features='sqrt', random_state=648061058), DecisionTreeClassifier(max_features='sqrt', random_state=1655351289), DecisionTreeClassifier(max_features='sqrt', random_state=787110843), DecisionTreeClassifier(max_features='sqrt', random_state=200619113), DecisionTreeClassifier(max_features='sqrt', random_state=1306710475), DecisionTreeClassifier(max_features='sqrt', random_state=953477463), DecisionTreeClassifier(max_features='sqrt', random_state=423734972), DecisionTreeClassifier(max_features='sqrt', random_state=1927948675), DecisionTreeClassifier(max_features='sqrt', random_state=1934879560), DecisionTreeClassifier(max_features='sqrt', random_state=1308306184), DecisionTreeClassifier(max_features='sqrt', random_state=893664919), DecisionTreeClassifier(max_features='sqrt', random_state=1308306184), DecisionTreeClassifier(max_features='sqrt', random_state=290770691), DecisionTreeClassifier(max_features='sqrt', random_state=1890440558), DecisionTreeClassifier(max_features='sqrt', random_state=461901618), DecisionTreeClassifier(max_features='sqrt', random_state=670094950), DecisionTreeClassifier(max_features='sqrt', random_state=791274835), DecisionTreeClassifier(max_features='sqrt', random_state=68574553), DecisionTreeClassifier(max_features='sqrt', random_state=791274835), DecisionTreeClassifier(max_features='sqrt', random_state=991681409), DecisionTreeClassifier(max_features='sqrt', random_state=793943861), DecisionTreeClassifier(max_features='sqrt', random_state=774414982), DecisionTreeClassifier(max_features='sqrt', random_state=613608295), DecisionTreeClassifier(max_features='sqrt', random_state=1999874363), DecisionTreeClassifier(max_features='sqrt', random_state=68574553), DecisionTreeClassifier(max_features='sqrt', random_state=1035196507), DecisionTreeClassifier(max_features='sqrt', random_state=2018247425), DecisionTreeClassifier(max_features='sqrt', random_state=732395540), DecisionTreeClassifier(max_features='sqrt', random_state=1972458954), DecisionTreeClassifier(max_features='sqrt', random_state=1914837113), DecisionTreeClassifier(max_features='sqrt', random_state=419498548), DecisionTreeClassifier(max_features='sqrt', random_state=134489564), DecisionTreeClassifier(max_features='sqrt', random_state=279394470), DecisionTreeClassifier(max_features='sqrt', random_state=434285667), DecisionTreeClassifier(max_features='sqrt', random_state=1572714583), DecisionTreeClassifier(max_features='sqrt', random_state=1433267572), DecisionTreeClassifier(max_features='sqrt', random_state=669991378), DecisionTreeClassifier(max_features='sqrt', random_state=991681409), DecisionTreeClassifier(max_features='sqrt', random_state=242285876), DecisionTreeClassifier(max_features='sqrt', random_state=1431061255), DecisionTreeClassifier(max_features='sqrt', random_state=434285667), DecisionTreeClassifier(max_features='sqrt', random_state=396917567), DecisionTreeClassifier(max_features='sqrt', random_state=88409749), DecisionTreeClassifier(max_features='sqrt', random_state=56972561), DecisionTreeClassifier(max_features='sqrt', random_state=996406378), DecisionTreeClassifier(max_features='sqrt', random_state=791274835), DecisionTreeClassifier(max_features='sqrt', random_state=787846414), DecisionTreeClassifier(max_features='sqrt', random_state=147697582), DecisionTreeClassifier(max_features='sqrt', random_state=1572714583), DecisionTreeClassifier(max_features='sqrt', random_state=669991378), DecisionTreeClassifier(max_features='sqrt', random_state=787110843), DecisionTreeClassifier(max_features='sqrt', random_state=1572714583), DecisionTreeClassifier(max_features='sqrt', random_state=199502978), DecisionTreeClassifier(max_features='sqrt', random_state=524150214), DecisionTreeClassifier(max_features='sqrt', random_state=1035196507), DecisionTreeClassifier(max_features='sqrt', random_state=648061058), DecisionTreeClassifier(max_features='sqrt', random_state=787716372), DecisionTreeClassifier(max_features='sqrt', random_state=1934879560), DecisionTreeClassifier(max_features='sqrt', random_state=744595490), DecisionTreeClassifier(max_features='sqrt', random_state=279394470), DecisionTreeClassifier(max_features='sqrt', random_state=1935803228), DecisionTreeClassifier(max_features='sqrt', random_state=504579232), DecisionTreeClassifier(max_features='sqrt', random_state=1899242072), DecisionTreeClassifier(max_features='sqrt', random_state=249467210), DecisionTreeClassifier(max_features='sqrt', random_state=1927948675), DecisionTreeClassifier(max_features='sqrt', random_state=1890440558), DecisionTreeClassifier(max_features='sqrt', random_state=1972458954), DecisionTreeClassifier(max_features='sqrt', random_state=56972561), DecisionTreeClassifier(max_features='sqrt', random_state=472432043), DecisionTreeClassifier(max_features='sqrt', random_state=1758017741), DecisionTreeClassifier(max_features='sqrt', random_state=1914837113), DecisionTreeClassifier(max_features='sqrt', random_state=1433267572), DecisionTreeClassifier(max_features='sqrt', random_state=1273642419), DecisionTreeClassifier(max_features='sqrt', random_state=648061058), DecisionTreeClassifier(max_features='sqrt', random_state=56972561), DecisionTreeClassifier(max_features='sqrt', random_state=1899242072), DecisionTreeClassifier(max_features='sqrt', random_state=787110843), DecisionTreeClassifier(max_features='sqrt', random_state=1433267572), DecisionTreeClassifier(max_features='sqrt', random_state=1608637542), DecisionTreeClassifier(max_features='sqrt', random_state=991681409), DecisionTreeClassifier(max_features='sqrt', random_state=249467210), DecisionTreeClassifier(max_features='sqrt', random_state=1679592528), DecisionTreeClassifier(max_features='sqrt', random_state=1855189739), DecisionTreeClassifier(max_features='sqrt', random_state=434285667), DecisionTreeClassifier(max_features='sqrt', random_state=1972458954), DecisionTreeClassifier(max_features='sqrt', random_state=2126768636), DecisionTreeClassifier(max_features='sqrt', random_state=249467210), DecisionTreeClassifier(max_features='sqrt', random_state=1655351289), DecisionTreeClassifier(max_features='sqrt', random_state=524150214), DecisionTreeClassifier(max_features='sqrt', random_state=670094950), DecisionTreeClassifier(max_features='sqrt', random_state=242285876), DecisionTreeClassifier(max_features='sqrt', random_state=893664919), DecisionTreeClassifier(max_features='sqrt', random_state=1927948675), DecisionTreeClassifier(max_features='sqrt', random_state=1111451555), DecisionTreeClassifier(max_features='sqrt', random_state=429389014), DecisionTreeClassifier(max_features='sqrt', random_state=472432043), DecisionTreeClassifier(max_features='sqrt', random_state=30349564), DecisionTreeClassifier(max_features='sqrt', random_state=2075460851), DecisionTreeClassifier(max_features='sqrt', random_state=1273642419), DecisionTreeClassifier(max_features='sqrt', random_state=396917567), DecisionTreeClassifier(max_features='sqrt', random_state=953477463), DecisionTreeClassifier(max_features='sqrt', random_state=2034764475), DecisionTreeClassifier(max_features='sqrt', random_state=911989541), DecisionTreeClassifier(max_features='sqrt', random_state=599121577), DecisionTreeClassifier(max_features='sqrt', random_state=1431061255), DecisionTreeClassifier(max_features='sqrt', random_state=106406362), DecisionTreeClassifier(max_features='sqrt', random_state=106328085), DecisionTreeClassifier(max_features='sqrt', random_state=1958805693), DecisionTreeClassifier(max_features='sqrt', random_state=480404538), DecisionTreeClassifier(max_features='sqrt', random_state=732395540), DecisionTreeClassifier(max_features='sqrt', random_state=648061058), DecisionTreeClassifier(max_features='sqrt', random_state=147697582), DecisionTreeClassifier(max_features='sqrt', random_state=774414982), DecisionTreeClassifier(max_features='sqrt', random_state=1717389822), DecisionTreeClassifier(max_features='sqrt', random_state=953477463), DecisionTreeClassifier(max_features='sqrt', random_state=1254751707), DecisionTreeClassifier(max_features='sqrt', random_state=242285876), DecisionTreeClassifier(max_features='sqrt', random_state=1717389822), DecisionTreeClassifier(max_features='sqrt', random_state=1427830251), DecisionTreeClassifier(max_features='sqrt', random_state=1250819632), DecisionTreeClassifier(max_features='sqrt', random_state=744595490), DecisionTreeClassifier(max_features='sqrt', random_state=106406362), DecisionTreeClassifier(max_features='sqrt', random_state=857592370), DecisionTreeClassifier(max_features='sqrt', random_state=599121577), DecisionTreeClassifier(max_features='sqrt', random_state=200427519), DecisionTreeClassifier(max_features='sqrt', random_state=480404538), DecisionTreeClassifier(max_features='sqrt', random_state=1758017741), DecisionTreeClassifier(max_features='sqrt', random_state=106406362), DecisionTreeClassifier(max_features='sqrt', random_state=480404538), DecisionTreeClassifier(max_features='sqrt', random_state=200427519), DecisionTreeClassifier(max_features='sqrt', random_state=599121577), DecisionTreeClassifier(max_features='sqrt', random_state=1679592528), DecisionTreeClassifier(max_features='sqrt', random_state=389151677), DecisionTreeClassifier(max_features='sqrt', random_state=1254751707), DecisionTreeClassifier(max_features='sqrt', random_state=1717389822), DecisionTreeClassifier(max_features='sqrt', random_state=1111451555), DecisionTreeClassifier(max_features='sqrt', random_state=1717389822), DecisionTreeClassifier(max_features='sqrt', random_state=1250819632), DecisionTreeClassifier(max_features='sqrt', random_state=480404538), DecisionTreeClassifier(max_features='sqrt', random_state=2034764475), DecisionTreeClassifier(max_features='sqrt', random_state=508464061), DecisionTreeClassifier(max_features='sqrt', random_state=782698033), DecisionTreeClassifier(max_features='sqrt', random_state=1250819632), DecisionTreeClassifier(max_features='sqrt', random_state=599121577), DecisionTreeClassifier(max_features='sqrt', random_state=1573512143), DecisionTreeClassifier(max_features='sqrt', random_state=61136438), DecisionTreeClassifier(max_features='sqrt', random_state=1224821422), DecisionTreeClassifier(max_features='sqrt', random_state=698027879), DecisionTreeClassifier(max_features='sqrt', random_state=106406362), DecisionTreeClassifier(max_features='sqrt', random_state=999745294), DecisionTreeClassifier(max_features='sqrt', random_state=1642661739), DecisionTreeClassifier(max_features='sqrt', random_state=1096768899), DecisionTreeClassifier(max_features='sqrt', random_state=1883569565), DecisionTreeClassifier(max_features='sqrt', random_state=99052376), DecisionTreeClassifier(max_features='sqrt', random_state=1254751707), DecisionTreeClassifier(max_features='sqrt', random_state=2018247425), DecisionTreeClassifier(max_features='sqrt', random_state=1958805693), DecisionTreeClassifier(max_features='sqrt', random_state=1250819632), DecisionTreeClassifier(max_features='sqrt', random_state=271820813), DecisionTreeClassifier(max_features='sqrt', random_state=1338788865), DecisionTreeClassifier(max_features='sqrt', random_state=88409749), DecisionTreeClassifier(max_features='sqrt', random_state=200427519), DecisionTreeClassifier(max_features='sqrt', random_state=461901618), DecisionTreeClassifier(max_features='sqrt', random_state=857592370), DecisionTreeClassifier(max_features='sqrt', random_state=389151677), DecisionTreeClassifier(max_features='sqrt', random_state=1934879560), DecisionTreeClassifier(max_features='sqrt', random_state=429389014), DecisionTreeClassifier(max_features='sqrt', random_state=1855189739), DecisionTreeClassifier(max_features='sqrt', random_state=99052376), DecisionTreeClassifier(max_features='sqrt', random_state=1826030589), DecisionTreeClassifier(max_features='sqrt', random_state=1224821422), DecisionTreeClassifier(max_features='sqrt', random_state=893664919), DecisionTreeClassifier(max_features='sqrt', random_state=2034764475), DecisionTreeClassifier(max_features='sqrt', random_state=86191493), DecisionTreeClassifier(max_features='sqrt', random_state=1855189739), DecisionTreeClassifier(max_features='sqrt', random_state=30349564), DecisionTreeClassifier(max_features='sqrt', random_state=1642661739), DecisionTreeClassifier(max_features='sqrt', random_state=508464061), DecisionTreeClassifier(max_features='sqrt', random_state=893102645), DecisionTreeClassifier(max_features='sqrt', random_state=1573512143), DecisionTreeClassifier(max_features='sqrt', random_state=857592370), DecisionTreeClassifier(max_features='sqrt', random_state=30349564), DecisionTreeClassifier(max_features='sqrt', random_state=61136438), DecisionTreeClassifier(max_features='sqrt', random_state=200619113), DecisionTreeClassifier(max_features='sqrt', random_state=999745294), DecisionTreeClassifier(max_features='sqrt', random_state=1642661739), DecisionTreeClassifier(max_features='sqrt', random_state=290770691), DecisionTreeClassifier(max_features='sqrt', random_state=793943861), DecisionTreeClassifier(max_features='sqrt', random_state=134489564), DecisionTreeClassifier(max_features='sqrt', random_state=1224821422), DecisionTreeClassifier(max_features='sqrt', random_state=911989541), DecisionTreeClassifier(max_features='sqrt', random_state=1883569565), DecisionTreeClassifier(max_features='sqrt', random_state=2004731384), DecisionTreeClassifier(max_features='sqrt', random_state=389151677), DecisionTreeClassifier(max_features='sqrt', random_state=2114032571), DecisionTreeClassifier(max_features='sqrt', random_state=780932287), DecisionTreeClassifier(max_features='sqrt', random_state=1717389822), DecisionTreeClassifier(max_features='sqrt', random_state=3344769), DecisionTreeClassifier(max_features='sqrt', random_state=1427830251), DecisionTreeClassifier(max_features='sqrt', random_state=480404538), DecisionTreeClassifier(max_features='sqrt', random_state=1545932260), DecisionTreeClassifier(max_features='sqrt', random_state=199502978), DecisionTreeClassifier(max_features='sqrt', random_state=3344769), DecisionTreeClassifier(max_features='sqrt', random_state=508464061), DecisionTreeClassifier(max_features='sqrt', random_state=1545932260), DecisionTreeClassifier(max_features='sqrt', random_state=1890440558), DecisionTreeClassifier(max_features='sqrt', random_state=1608637542), DecisionTreeClassifier(max_features='sqrt', random_state=56972561), DecisionTreeClassifier(max_features='sqrt', random_state=415968276), DecisionTreeClassifier(max_features='sqrt', random_state=429389014), DecisionTreeClassifier(max_features='sqrt', random_state=782698033), DecisionTreeClassifier(max_features='sqrt', random_state=1758017741), DecisionTreeClassifier(max_features='sqrt', random_state=99052376), DecisionTreeClassifier(max_features='sqrt', random_state=2126768636), DecisionTreeClassifier(max_features='sqrt', random_state=472432043), DecisionTreeClassifier(max_features='sqrt', random_state=2126768636), DecisionTreeClassifier(max_features='sqrt', random_state=669991378), DecisionTreeClassifier(max_features='sqrt', random_state=200619113), DecisionTreeClassifier(max_features='sqrt', random_state=1855189739), DecisionTreeClassifier(max_features='sqrt', random_state=472432043), DecisionTreeClassifier(max_features='sqrt', random_state=1914837113), DecisionTreeClassifier(max_features='sqrt', random_state=698027879), DecisionTreeClassifier(max_features='sqrt', random_state=1679592528), DecisionTreeClassifier(max_features='sqrt', random_state=1573512143), DecisionTreeClassifier(max_features='sqrt', random_state=200427519), DecisionTreeClassifier(max_features='sqrt', random_state=2114032571), DecisionTreeClassifier(max_features='sqrt', random_state=290770691), DecisionTreeClassifier(max_features='sqrt', random_state=1899242072), DecisionTreeClassifier(max_features='sqrt', random_state=1096768899), DecisionTreeClassifier(max_features='sqrt', random_state=1111451555), DecisionTreeClassifier(max_features='sqrt', random_state=1927948675), DecisionTreeClassifier(max_features='sqrt', random_state=1572714583), DecisionTreeClassifier(max_features='sqrt', random_state=1433267572), DecisionTreeClassifier(max_features='sqrt', random_state=524150214), DecisionTreeClassifier(max_features='sqrt', random_state=793943861), DecisionTreeClassifier(max_features='sqrt', random_state=434285667), DecisionTreeClassifier(max_features='sqrt', random_state=524150214), DecisionTreeClassifier(max_features='sqrt', random_state=670094950), DecisionTreeClassifier(max_features='sqrt', random_state=670094950), DecisionTreeClassifier(max_features='sqrt', random_state=787716372), DecisionTreeClassifier(max_features='sqrt', random_state=1338788865), DecisionTreeClassifier(max_features='sqrt', random_state=1914837113), DecisionTreeClassifier(max_features='sqrt', random_state=782698033), DecisionTreeClassifier(max_features='sqrt', random_state=669991378), DecisionTreeClassifier(max_features='sqrt', random_state=1306710475), DecisionTreeClassifier(max_features='sqrt', random_state=3344769), DecisionTreeClassifier(max_features='sqrt', random_state=134489564), DecisionTreeClassifier(max_features='sqrt', random_state=389151677), DecisionTreeClassifier(max_features='sqrt', random_state=787110843), DecisionTreeClassifier(max_features='sqrt', random_state=1826030589), DecisionTreeClassifier(max_features='sqrt', random_state=698027879), DecisionTreeClassifier(max_features='sqrt', random_state=106406362), DecisionTreeClassifier(max_features='sqrt', random_state=787110843), DecisionTreeClassifier(max_features='sqrt', random_state=415968276), DecisionTreeClassifier(max_features='sqrt', random_state=106328085), DecisionTreeClassifier(max_features='sqrt', random_state=780932287), DecisionTreeClassifier(max_features='sqrt', random_state=1431061255), DecisionTreeClassifier(max_features='sqrt', random_state=423734972), DecisionTreeClassifier(max_features='sqrt', random_state=86191493), DecisionTreeClassifier(max_features='sqrt', random_state=1096768899), DecisionTreeClassifier(max_features='sqrt', random_state=106328085), DecisionTreeClassifier(max_features='sqrt', random_state=1999874363), DecisionTreeClassifier(max_features='sqrt', random_state=613608295), DecisionTreeClassifier(max_features='sqrt', random_state=1250819632), DecisionTreeClassifier(max_features='sqrt', random_state=1890440558), DecisionTreeClassifier(max_features='sqrt', random_state=423734972), DecisionTreeClassifier(max_features='sqrt', random_state=999745294), DecisionTreeClassifier(max_features='sqrt', random_state=911989541), DecisionTreeClassifier(max_features='sqrt', random_state=893664919), DecisionTreeClassifier(max_features='sqrt', random_state=1883569565), DecisionTreeClassifier(max_features='sqrt', random_state=147697582), DecisionTreeClassifier(max_features='sqrt', random_state=1958805693), DecisionTreeClassifier(max_features='sqrt', random_state=1855189739), DecisionTreeClassifier(max_features='sqrt', random_state=893102645), DecisionTreeClassifier(max_features='sqrt', random_state=1338788865), DecisionTreeClassifier(max_features='sqrt', random_state=1224821422), DecisionTreeClassifier(max_features='sqrt', random_state=1201263687), DecisionTreeClassifier(max_features='sqrt', random_state=1427830251), DecisionTreeClassifier(max_features='sqrt', random_state=508464061), DecisionTreeClassifier(max_features='sqrt', random_state=30349564), DecisionTreeClassifier(max_features='sqrt', random_state=1035196507), DecisionTreeClassifier(max_features='sqrt', random_state=1201263687), DecisionTreeClassifier(max_features='sqrt', random_state=1306710475), DecisionTreeClassifier(max_features='sqrt', random_state=791274835), DecisionTreeClassifier(max_features='sqrt', random_state=996406378), DecisionTreeClassifier(max_features='sqrt', random_state=1958805693), DecisionTreeClassifier(max_features='sqrt', random_state=744595490), DecisionTreeClassifier(max_features='sqrt', random_state=200619113), DecisionTreeClassifier(max_features='sqrt', random_state=1826030589), DecisionTreeClassifier(max_features='sqrt', random_state=780932287), DecisionTreeClassifier(max_features='sqrt', random_state=279394470), DecisionTreeClassifier(max_features='sqrt', random_state=996406378), DecisionTreeClassifier(max_features='sqrt', random_state=787846414), DecisionTreeClassifier(max_features='sqrt', random_state=271820813), DecisionTreeClassifier(max_features='sqrt', random_state=857592370), DecisionTreeClassifier(max_features='sqrt', random_state=1758017741), DecisionTreeClassifier(max_features='sqrt', random_state=61136438), DecisionTreeClassifier(max_features='sqrt', random_state=290770691), DecisionTreeClassifier(max_features='sqrt', random_state=1324556529), DecisionTreeClassifier(max_features='sqrt', random_state=86191493), DecisionTreeClassifier(max_features='sqrt', random_state=200427519), DecisionTreeClassifier(max_features='sqrt', random_state=2034764475), DecisionTreeClassifier(max_features='sqrt', random_state=1679592528), DecisionTreeClassifier(max_features='sqrt', random_state=991681409), DecisionTreeClassifier(max_features='sqrt', random_state=787846414), DecisionTreeClassifier(max_features='sqrt', random_state=99052376), DecisionTreeClassifier(max_features='sqrt', random_state=793943861), DecisionTreeClassifier(max_features='sqrt', random_state=893102645), DecisionTreeClassifier(max_features='sqrt', random_state=1642661739), DecisionTreeClassifier(max_features='sqrt', random_state=953477463), DecisionTreeClassifier(max_features='sqrt', random_state=479546681), DecisionTreeClassifier(max_features='sqrt', random_state=1655351289), DecisionTreeClassifier(max_features='sqrt', random_state=648061058), DecisionTreeClassifier(max_features='sqrt', random_state=88409749), DecisionTreeClassifier(max_features='sqrt', random_state=599121577), DecisionTreeClassifier(max_features='sqrt', random_state=1935803228), DecisionTreeClassifier(max_features='sqrt', random_state=242285876), DecisionTreeClassifier(max_features='sqrt', random_state=1111451555), DecisionTreeClassifier(max_features='sqrt', random_state=1573512143), DecisionTreeClassifier(max_features='sqrt', random_state=504579232), DecisionTreeClassifier(max_features='sqrt', random_state=134489564), DecisionTreeClassifier(max_features='sqrt', random_state=200619113), DecisionTreeClassifier(max_features='sqrt', random_state=419498548), DecisionTreeClassifier(max_features='sqrt', random_state=1935803228), DecisionTreeClassifier(max_features='sqrt', random_state=1573512143), DecisionTreeClassifier(max_features='sqrt', random_state=999745294), DecisionTreeClassifier(max_features='sqrt', random_state=2075460851), DecisionTreeClassifier(max_features='sqrt', random_state=1431061255), DecisionTreeClassifier(max_features='sqrt', random_state=99052376), DecisionTreeClassifier(max_features='sqrt', random_state=782698033), DecisionTreeClassifier(max_features='sqrt', random_state=1972458954), DecisionTreeClassifier(max_features='sqrt', random_state=1308306184), DecisionTreeClassifier(max_features='sqrt', random_state=290770691), DecisionTreeClassifier(max_features='sqrt', random_state=1273642419), DecisionTreeClassifier(max_features='sqrt', random_state=30349564), DecisionTreeClassifier(max_features='sqrt', random_state=1273642419), DecisionTreeClassifier(max_features='sqrt', random_state=2018247425), DecisionTreeClassifier(max_features='sqrt', random_state=787716372), DecisionTreeClassifier(max_features='sqrt', random_state=1608637542), DecisionTreeClassifier(max_features='sqrt', random_state=1608637542), DecisionTreeClassifier(max_features='sqrt', random_state=999745294), DecisionTreeClassifier(max_features='sqrt', random_state=504579232), DecisionTreeClassifier(max_features='sqrt', random_state=698027879), DecisionTreeClassifier(max_features='sqrt', random_state=2018247425), DecisionTreeClassifier(max_features='sqrt', random_state=147697582), DecisionTreeClassifier(max_features='sqrt', random_state=793943861), DecisionTreeClassifier(max_features='sqrt', random_state=1254751707), DecisionTreeClassifier(max_features='sqrt', random_state=249467210), DecisionTreeClassifier(max_features='sqrt', random_state=613608295), DecisionTreeClassifier(max_features='sqrt', random_state=2114032571), DecisionTreeClassifier(max_features='sqrt', random_state=1096768899), DecisionTreeClassifier(max_features='sqrt', random_state=68574553), DecisionTreeClassifier(max_features='sqrt', random_state=744595490), DecisionTreeClassifier(max_features='sqrt', random_state=134489564), DecisionTreeClassifier(max_features='sqrt', random_state=893664919), DecisionTreeClassifier(max_features='sqrt', random_state=1254751707), DecisionTreeClassifier(max_features='sqrt', random_state=479546681), DecisionTreeClassifier(max_features='sqrt', random_state=429389014), DecisionTreeClassifier(max_features='sqrt', random_state=1338788865), DecisionTreeClassifier(max_features='sqrt', random_state=2034764475), DecisionTreeClassifier(max_features='sqrt', random_state=669991378), DecisionTreeClassifier(max_features='sqrt', random_state=1899242072), DecisionTreeClassifier(max_features='sqrt', random_state=2126768636), DecisionTreeClassifier(max_features='sqrt', random_state=1324556529), DecisionTreeClassifier(max_features='sqrt', random_state=1999874363), DecisionTreeClassifier(max_features='sqrt', random_state=434285667), DecisionTreeClassifier(max_features='sqrt', random_state=1914837113), DecisionTreeClassifier(max_features='sqrt', random_state=1431061255), DecisionTreeClassifier(max_features='sqrt', random_state=613608295), DecisionTreeClassifier(max_features='sqrt', random_state=271820813), DecisionTreeClassifier(max_features='sqrt', random_state=147697582), DecisionTreeClassifier(max_features='sqrt', random_state=670094950), DecisionTreeClassifier(max_features='sqrt', random_state=1935803228), DecisionTreeClassifier(max_features='sqrt', random_state=1999874363), DecisionTreeClassifier(max_features='sqrt', random_state=744595490), DecisionTreeClassifier(max_features='sqrt', random_state=415968276), DecisionTreeClassifier(max_features='sqrt', random_state=1433267572), DecisionTreeClassifier(max_features='sqrt', random_state=271820813), DecisionTreeClassifier(max_features='sqrt', random_state=1758017741), DecisionTreeClassifier(max_features='sqrt', random_state=1324556529), DecisionTreeClassifier(max_features='sqrt', random_state=1324556529), DecisionTreeClassifier(max_features='sqrt', random_state=423734972), DecisionTreeClassifier(max_features='sqrt', random_state=1201263687), DecisionTreeClassifier(max_features='sqrt', random_state=1572714583), DecisionTreeClassifier(max_features='sqrt', random_state=1679592528), DecisionTreeClassifier(max_features='sqrt', random_state=1655351289), DecisionTreeClassifier(max_features='sqrt', random_state=1972458954), DecisionTreeClassifier(max_features='sqrt', random_state=1111451555), DecisionTreeClassifier(max_features='sqrt', random_state=1655351289), DecisionTreeClassifier(max_features='sqrt', random_state=996406378), DecisionTreeClassifier(max_features='sqrt', random_state=782698033), DecisionTreeClassifier(max_features='sqrt', random_state=1308306184), DecisionTreeClassifier(max_features='sqrt', random_state=249467210), DecisionTreeClassifier(max_features='sqrt', random_state=698027879), DecisionTreeClassifier(max_features='sqrt', random_state=787846414), DecisionTreeClassifier(max_features='sqrt', random_state=1308306184), DecisionTreeClassifier(max_features='sqrt', random_state=613608295), DecisionTreeClassifier(max_features='sqrt', random_state=68574553), DecisionTreeClassifier(max_features='sqrt', random_state=1096768899), DecisionTreeClassifier(max_features='sqrt', random_state=1935803228), DecisionTreeClassifier(max_features='sqrt', random_state=68574553), DecisionTreeClassifier(max_features='sqrt', random_state=419498548), DecisionTreeClassifier(max_features='sqrt', random_state=1338788865), DecisionTreeClassifier(max_features='sqrt', random_state=429389014), DecisionTreeClassifier(max_features='sqrt', random_state=1273642419), DecisionTreeClassifier(max_features='sqrt', random_state=1826030589), DecisionTreeClassifier(max_features='sqrt', random_state=991681409), DecisionTreeClassifier(max_features='sqrt', random_state=1608637542), DecisionTreeClassifier(max_features='sqrt', random_state=86191493), DecisionTreeClassifier(max_features='sqrt', random_state=419498548), DecisionTreeClassifier(max_features='sqrt', random_state=791274835), DecisionTreeClassifier(max_features='sqrt', random_state=893102645)]\n"
     ]
    }
   ],
   "source": [
    "\n",
    "estimators = []\n",
    "\n",
    "for model in client_models:\n",
    "    estimators.extend(model.estimators_)\n",
    "\n",
    "estimators = list(set(estimators))\n",
    "print(\"Estimators:\", estimators)\n"
   ]
  },
  {
   "cell_type": "code",
   "execution_count": 55,
   "id": "2d6f3877-af9b-4eeb-b167-d78d86f9d0e3",
   "metadata": {},
   "outputs": [],
   "source": [
    "from sklearn.metrics import accuracy_score, precision_score, recall_score, f1_score, classification_report\n",
    "\n",
    "# Ensure that the test set features match the model's expected features in both order and number\n",
    "X_test_imputed = X_test_imputed[global_model.feature_names_in_]\n",
    "\n",
    "\n"
   ]
  },
  {
   "cell_type": "code",
   "execution_count": 56,
   "id": "282ec094-92d7-41b7-b192-6195378b3fc5",
   "metadata": {},
   "outputs": [],
   "source": [
    "# Check for missing or extra columns in the test data\n",
    "missing_columns = set(global_model.feature_names_in_) - set(X_test_imputed.columns)\n",
    "extra_columns = set(X_test_imputed.columns) - set(global_model.feature_names_in_)\n",
    "\n",
    "if missing_columns:\n",
    "    print(f\"Missing columns in test data: {missing_columns}\")\n",
    "if extra_columns:\n",
    "    print(f\"Extra columns in test data: {extra_columns}\")\n",
    "\n"
   ]
  },
  {
   "cell_type": "code",
   "execution_count": 57,
   "id": "777bd08d-3e5b-4c89-8328-c23d7de9b7c2",
   "metadata": {},
   "outputs": [],
   "source": [
    "# Ensure there are no NaN values in the test data\n",
    "nan_values = X_test_imputed.isna().sum()\n",
    "if nan_values.any():\n",
    "    print(f\"NaN values found in test data: {nan_values[nan_values > 0]}\")\n",
    "    \n"
   ]
  },
  {
   "cell_type": "code",
   "execution_count": 58,
   "id": "2b33dbba-4efb-441c-b99f-c5ba971b7724",
   "metadata": {},
   "outputs": [],
   "source": [
    "# Ensure the order of features in the test set matches the training set\n",
    "X_test_imputed = X_test_imputed[global_model.feature_names_in_]\n",
    "\n"
   ]
  },
  {
   "cell_type": "code",
   "execution_count": 60,
   "id": "942d0b15-b230-49e6-8798-b6fd2375b6c1",
   "metadata": {},
   "outputs": [
    {
     "name": "stdout",
     "output_type": "stream",
     "text": [
      "Test features shape: (100832, 35)\n",
      "Model expected features: ['PC24' 'PC20' 'PC12' 'PC1' 'PC25' 'PC18' 'PC34' 'PC35' 'PC23' 'PC29'\n",
      " 'PC30' 'PC13' 'PC15' 'PC11' 'PC5' 'PC33' 'PC27' 'PC28' 'PC31' 'PC14'\n",
      " 'PC22' 'PC21' 'PC17' 'PC9' 'PC2' 'PC3' 'PC7' 'PC4' 'PC8' 'PC19' 'PC32'\n",
      " 'PC6' 'PC16' 'PC26' 'PC10']\n"
     ]
    }
   ],
   "source": [
    "print(\"Test features shape:\", X_test_imputed.shape)\n",
    "print(\"Model expected features:\", global_model.feature_names_in_)\n"
   ]
  },
  {
   "cell_type": "code",
   "execution_count": 61,
   "id": "2e4b9f60-1d87-4586-8008-7cb05ceef311",
   "metadata": {},
   "outputs": [
    {
     "name": "stdout",
     "output_type": "stream",
     "text": [
      "Aligned test features shape: (100832, 35)\n"
     ]
    }
   ],
   "source": [
    "# Ensure X_test_imputed has the same columns as the model's expected feature names\n",
    "X_test_imputed_aligned = X_test_imputed[global_model.feature_names_in_]\n",
    "\n",
    "# Check the shape after alignment\n",
    "print(\"Aligned test features shape:\", X_test_imputed_aligned.shape)\n",
    "\n"
   ]
  },
  {
   "cell_type": "code",
   "execution_count": 67,
   "id": "7cb2c9b8-ef97-4a02-aafc-79b2348e5aa4",
   "metadata": {},
   "outputs": [
    {
     "ename": "ValueError",
     "evalue": "operands could not be broadcast together with shapes (100832,9) (100832,8) (100832,9) ",
     "output_type": "error",
     "traceback": [
      "\u001b[0;31m---------------------------------------------------------------------------\u001b[0m",
      "\u001b[0;31mValueError\u001b[0m                                Traceback (most recent call last)",
      "Cell \u001b[0;32mIn[67], line 2\u001b[0m\n\u001b[1;32m      1\u001b[0m \u001b[38;5;66;03m# Make predictions using the global model\u001b[39;00m\n\u001b[0;32m----> 2\u001b[0m y_pred_global \u001b[38;5;241m=\u001b[39m \u001b[43mglobal_model\u001b[49m\u001b[38;5;241;43m.\u001b[39;49m\u001b[43mpredict\u001b[49m\u001b[43m(\u001b[49m\u001b[43mX_test_imputed_aligned\u001b[49m\u001b[43m)\u001b[49m\n\u001b[1;32m      3\u001b[0m y_prob_global \u001b[38;5;241m=\u001b[39m global_model\u001b[38;5;241m.\u001b[39mpredict_proba(X_test_imputed_aligned)\n\u001b[1;32m      5\u001b[0m \u001b[38;5;66;03m# Evaluate the model's performance using standard metrics\u001b[39;00m\n",
      "File \u001b[0;32m~/.local/lib/python3.9/site-packages/sklearn/ensemble/_forest.py:904\u001b[0m, in \u001b[0;36mForestClassifier.predict\u001b[0;34m(self, X)\u001b[0m\n\u001b[1;32m    883\u001b[0m \u001b[38;5;28;01mdef\u001b[39;00m \u001b[38;5;21mpredict\u001b[39m(\u001b[38;5;28mself\u001b[39m, X):\n\u001b[1;32m    884\u001b[0m \u001b[38;5;250m    \u001b[39m\u001b[38;5;124;03m\"\"\"\u001b[39;00m\n\u001b[1;32m    885\u001b[0m \u001b[38;5;124;03m    Predict class for X.\u001b[39;00m\n\u001b[1;32m    886\u001b[0m \n\u001b[0;32m   (...)\u001b[0m\n\u001b[1;32m    902\u001b[0m \u001b[38;5;124;03m        The predicted classes.\u001b[39;00m\n\u001b[1;32m    903\u001b[0m \u001b[38;5;124;03m    \"\"\"\u001b[39;00m\n\u001b[0;32m--> 904\u001b[0m     proba \u001b[38;5;241m=\u001b[39m \u001b[38;5;28;43mself\u001b[39;49m\u001b[38;5;241;43m.\u001b[39;49m\u001b[43mpredict_proba\u001b[49m\u001b[43m(\u001b[49m\u001b[43mX\u001b[49m\u001b[43m)\u001b[49m\n\u001b[1;32m    906\u001b[0m     \u001b[38;5;28;01mif\u001b[39;00m \u001b[38;5;28mself\u001b[39m\u001b[38;5;241m.\u001b[39mn_outputs_ \u001b[38;5;241m==\u001b[39m \u001b[38;5;241m1\u001b[39m:\n\u001b[1;32m    907\u001b[0m         \u001b[38;5;28;01mreturn\u001b[39;00m \u001b[38;5;28mself\u001b[39m\u001b[38;5;241m.\u001b[39mclasses_\u001b[38;5;241m.\u001b[39mtake(np\u001b[38;5;241m.\u001b[39margmax(proba, axis\u001b[38;5;241m=\u001b[39m\u001b[38;5;241m1\u001b[39m), axis\u001b[38;5;241m=\u001b[39m\u001b[38;5;241m0\u001b[39m)\n",
      "File \u001b[0;32m~/.local/lib/python3.9/site-packages/sklearn/ensemble/_forest.py:957\u001b[0m, in \u001b[0;36mForestClassifier.predict_proba\u001b[0;34m(self, X)\u001b[0m\n\u001b[1;32m    952\u001b[0m all_proba \u001b[38;5;241m=\u001b[39m [\n\u001b[1;32m    953\u001b[0m     np\u001b[38;5;241m.\u001b[39mzeros((X\u001b[38;5;241m.\u001b[39mshape[\u001b[38;5;241m0\u001b[39m], j), dtype\u001b[38;5;241m=\u001b[39mnp\u001b[38;5;241m.\u001b[39mfloat64)\n\u001b[1;32m    954\u001b[0m     \u001b[38;5;28;01mfor\u001b[39;00m j \u001b[38;5;129;01min\u001b[39;00m np\u001b[38;5;241m.\u001b[39matleast_1d(\u001b[38;5;28mself\u001b[39m\u001b[38;5;241m.\u001b[39mn_classes_)\n\u001b[1;32m    955\u001b[0m ]\n\u001b[1;32m    956\u001b[0m lock \u001b[38;5;241m=\u001b[39m threading\u001b[38;5;241m.\u001b[39mLock()\n\u001b[0;32m--> 957\u001b[0m \u001b[43mParallel\u001b[49m\u001b[43m(\u001b[49m\u001b[43mn_jobs\u001b[49m\u001b[38;5;241;43m=\u001b[39;49m\u001b[43mn_jobs\u001b[49m\u001b[43m,\u001b[49m\u001b[43m \u001b[49m\u001b[43mverbose\u001b[49m\u001b[38;5;241;43m=\u001b[39;49m\u001b[38;5;28;43mself\u001b[39;49m\u001b[38;5;241;43m.\u001b[39;49m\u001b[43mverbose\u001b[49m\u001b[43m,\u001b[49m\u001b[43m \u001b[49m\u001b[43mrequire\u001b[49m\u001b[38;5;241;43m=\u001b[39;49m\u001b[38;5;124;43m\"\u001b[39;49m\u001b[38;5;124;43msharedmem\u001b[39;49m\u001b[38;5;124;43m\"\u001b[39;49m\u001b[43m)\u001b[49m\u001b[43m(\u001b[49m\n\u001b[1;32m    958\u001b[0m \u001b[43m    \u001b[49m\u001b[43mdelayed\u001b[49m\u001b[43m(\u001b[49m\u001b[43m_accumulate_prediction\u001b[49m\u001b[43m)\u001b[49m\u001b[43m(\u001b[49m\u001b[43me\u001b[49m\u001b[38;5;241;43m.\u001b[39;49m\u001b[43mpredict_proba\u001b[49m\u001b[43m,\u001b[49m\u001b[43m \u001b[49m\u001b[43mX\u001b[49m\u001b[43m,\u001b[49m\u001b[43m \u001b[49m\u001b[43mall_proba\u001b[49m\u001b[43m,\u001b[49m\u001b[43m \u001b[49m\u001b[43mlock\u001b[49m\u001b[43m)\u001b[49m\n\u001b[1;32m    959\u001b[0m \u001b[43m    \u001b[49m\u001b[38;5;28;43;01mfor\u001b[39;49;00m\u001b[43m \u001b[49m\u001b[43me\u001b[49m\u001b[43m \u001b[49m\u001b[38;5;129;43;01min\u001b[39;49;00m\u001b[43m \u001b[49m\u001b[38;5;28;43mself\u001b[39;49m\u001b[38;5;241;43m.\u001b[39;49m\u001b[43mestimators_\u001b[49m\n\u001b[1;32m    960\u001b[0m \u001b[43m\u001b[49m\u001b[43m)\u001b[49m\n\u001b[1;32m    962\u001b[0m \u001b[38;5;28;01mfor\u001b[39;00m proba \u001b[38;5;129;01min\u001b[39;00m all_proba:\n\u001b[1;32m    963\u001b[0m     proba \u001b[38;5;241m/\u001b[39m\u001b[38;5;241m=\u001b[39m \u001b[38;5;28mlen\u001b[39m(\u001b[38;5;28mself\u001b[39m\u001b[38;5;241m.\u001b[39mestimators_)\n",
      "File \u001b[0;32m~/.local/lib/python3.9/site-packages/sklearn/utils/parallel.py:77\u001b[0m, in \u001b[0;36mParallel.__call__\u001b[0;34m(self, iterable)\u001b[0m\n\u001b[1;32m     72\u001b[0m config \u001b[38;5;241m=\u001b[39m get_config()\n\u001b[1;32m     73\u001b[0m iterable_with_config \u001b[38;5;241m=\u001b[39m (\n\u001b[1;32m     74\u001b[0m     (_with_config(delayed_func, config), args, kwargs)\n\u001b[1;32m     75\u001b[0m     \u001b[38;5;28;01mfor\u001b[39;00m delayed_func, args, kwargs \u001b[38;5;129;01min\u001b[39;00m iterable\n\u001b[1;32m     76\u001b[0m )\n\u001b[0;32m---> 77\u001b[0m \u001b[38;5;28;01mreturn\u001b[39;00m \u001b[38;5;28;43msuper\u001b[39;49m\u001b[43m(\u001b[49m\u001b[43m)\u001b[49m\u001b[38;5;241;43m.\u001b[39;49m\u001b[38;5;21;43m__call__\u001b[39;49m\u001b[43m(\u001b[49m\u001b[43miterable_with_config\u001b[49m\u001b[43m)\u001b[49m\n",
      "File \u001b[0;32m~/.local/lib/python3.9/site-packages/joblib/parallel.py:1863\u001b[0m, in \u001b[0;36mParallel.__call__\u001b[0;34m(self, iterable)\u001b[0m\n\u001b[1;32m   1861\u001b[0m     output \u001b[38;5;241m=\u001b[39m \u001b[38;5;28mself\u001b[39m\u001b[38;5;241m.\u001b[39m_get_sequential_output(iterable)\n\u001b[1;32m   1862\u001b[0m     \u001b[38;5;28mnext\u001b[39m(output)\n\u001b[0;32m-> 1863\u001b[0m     \u001b[38;5;28;01mreturn\u001b[39;00m output \u001b[38;5;28;01mif\u001b[39;00m \u001b[38;5;28mself\u001b[39m\u001b[38;5;241m.\u001b[39mreturn_generator \u001b[38;5;28;01melse\u001b[39;00m \u001b[38;5;28;43mlist\u001b[39;49m\u001b[43m(\u001b[49m\u001b[43moutput\u001b[49m\u001b[43m)\u001b[49m\n\u001b[1;32m   1865\u001b[0m \u001b[38;5;66;03m# Let's create an ID that uniquely identifies the current call. If the\u001b[39;00m\n\u001b[1;32m   1866\u001b[0m \u001b[38;5;66;03m# call is interrupted early and that the same instance is immediately\u001b[39;00m\n\u001b[1;32m   1867\u001b[0m \u001b[38;5;66;03m# re-used, this id will be used to prevent workers that were\u001b[39;00m\n\u001b[1;32m   1868\u001b[0m \u001b[38;5;66;03m# concurrently finalizing a task from the previous call to run the\u001b[39;00m\n\u001b[1;32m   1869\u001b[0m \u001b[38;5;66;03m# callback.\u001b[39;00m\n\u001b[1;32m   1870\u001b[0m \u001b[38;5;28;01mwith\u001b[39;00m \u001b[38;5;28mself\u001b[39m\u001b[38;5;241m.\u001b[39m_lock:\n",
      "File \u001b[0;32m~/.local/lib/python3.9/site-packages/joblib/parallel.py:1792\u001b[0m, in \u001b[0;36mParallel._get_sequential_output\u001b[0;34m(self, iterable)\u001b[0m\n\u001b[1;32m   1790\u001b[0m \u001b[38;5;28mself\u001b[39m\u001b[38;5;241m.\u001b[39mn_dispatched_batches \u001b[38;5;241m+\u001b[39m\u001b[38;5;241m=\u001b[39m \u001b[38;5;241m1\u001b[39m\n\u001b[1;32m   1791\u001b[0m \u001b[38;5;28mself\u001b[39m\u001b[38;5;241m.\u001b[39mn_dispatched_tasks \u001b[38;5;241m+\u001b[39m\u001b[38;5;241m=\u001b[39m \u001b[38;5;241m1\u001b[39m\n\u001b[0;32m-> 1792\u001b[0m res \u001b[38;5;241m=\u001b[39m \u001b[43mfunc\u001b[49m\u001b[43m(\u001b[49m\u001b[38;5;241;43m*\u001b[39;49m\u001b[43margs\u001b[49m\u001b[43m,\u001b[49m\u001b[43m \u001b[49m\u001b[38;5;241;43m*\u001b[39;49m\u001b[38;5;241;43m*\u001b[39;49m\u001b[43mkwargs\u001b[49m\u001b[43m)\u001b[49m\n\u001b[1;32m   1793\u001b[0m \u001b[38;5;28mself\u001b[39m\u001b[38;5;241m.\u001b[39mn_completed_tasks \u001b[38;5;241m+\u001b[39m\u001b[38;5;241m=\u001b[39m \u001b[38;5;241m1\u001b[39m\n\u001b[1;32m   1794\u001b[0m \u001b[38;5;28mself\u001b[39m\u001b[38;5;241m.\u001b[39mprint_progress()\n",
      "File \u001b[0;32m~/.local/lib/python3.9/site-packages/sklearn/utils/parallel.py:139\u001b[0m, in \u001b[0;36m_FuncWrapper.__call__\u001b[0;34m(self, *args, **kwargs)\u001b[0m\n\u001b[1;32m    137\u001b[0m     config \u001b[38;5;241m=\u001b[39m {}\n\u001b[1;32m    138\u001b[0m \u001b[38;5;28;01mwith\u001b[39;00m config_context(\u001b[38;5;241m*\u001b[39m\u001b[38;5;241m*\u001b[39mconfig):\n\u001b[0;32m--> 139\u001b[0m     \u001b[38;5;28;01mreturn\u001b[39;00m \u001b[38;5;28;43mself\u001b[39;49m\u001b[38;5;241;43m.\u001b[39;49m\u001b[43mfunction\u001b[49m\u001b[43m(\u001b[49m\u001b[38;5;241;43m*\u001b[39;49m\u001b[43margs\u001b[49m\u001b[43m,\u001b[49m\u001b[43m \u001b[49m\u001b[38;5;241;43m*\u001b[39;49m\u001b[38;5;241;43m*\u001b[39;49m\u001b[43mkwargs\u001b[49m\u001b[43m)\u001b[49m\n",
      "File \u001b[0;32m~/.local/lib/python3.9/site-packages/sklearn/ensemble/_forest.py:734\u001b[0m, in \u001b[0;36m_accumulate_prediction\u001b[0;34m(predict, X, out, lock)\u001b[0m\n\u001b[1;32m    732\u001b[0m \u001b[38;5;28;01mwith\u001b[39;00m lock:\n\u001b[1;32m    733\u001b[0m     \u001b[38;5;28;01mif\u001b[39;00m \u001b[38;5;28mlen\u001b[39m(out) \u001b[38;5;241m==\u001b[39m \u001b[38;5;241m1\u001b[39m:\n\u001b[0;32m--> 734\u001b[0m         out[\u001b[38;5;241m0\u001b[39m] \u001b[38;5;241m+\u001b[39m\u001b[38;5;241m=\u001b[39m prediction\n\u001b[1;32m    735\u001b[0m     \u001b[38;5;28;01melse\u001b[39;00m:\n\u001b[1;32m    736\u001b[0m         \u001b[38;5;28;01mfor\u001b[39;00m i \u001b[38;5;129;01min\u001b[39;00m \u001b[38;5;28mrange\u001b[39m(\u001b[38;5;28mlen\u001b[39m(out)):\n",
      "\u001b[0;31mValueError\u001b[0m: operands could not be broadcast together with shapes (100832,9) (100832,8) (100832,9) "
     ]
    }
   ],
   "source": [
    "# Make predictions using the global model\n",
    "y_pred_global = global_model.predict(X_test_imputed_aligned)\n",
    "y_prob_global = global_model.predict_proba(X_test_imputed_aligned)\n",
    "\n",
    "# Evaluate the model's performance using standard metrics\n",
    "accuracy_global = accuracy_score(y_test, y_pred_global)\n",
    "precision_global = precision_score(y_test, y_pred_global, average=\"weighted\", zero_division=1)\n",
    "recall_global = recall_score(y_test, y_pred_global, average=\"weighted\", zero_division=1)\n",
    "f1_global = f1_score(y_test, y_pred_global, average=\"weighted\", zero_division=1)\n",
    "\n",
    "# Print the evaluation results\n",
    "global_metrics = {\n",
    "    \"Global Accuracy\": accuracy_global * 100,\n",
    "    \"Global Precision (Weighted)\": precision_global,\n",
    "    \"Global Recall (Weighted)\": recall_global,\n",
    "    \"Global F1 Score (Weighted)\": f1_global,\n",
    "}\n",
    "\n",
    "for metric, value in global_metrics.items():\n",
    "    print(f\"{metric}: {value}\")\n",
    "\n",
    "# If you want to show a detailed classification report for each class:\n",
    "print(\"\\nClassification Report:\\n\", classification_report(y_test, y_pred_global, target_names=global_model.classes_))\n",
    "\n",
    "# Example of accessing the `estimators_` to view the individual models (e.g., decision trees in a random forest)\n",
    "print(\"\\nList of Estimators (Individual Models):\")\n",
    "for estimator in global_model.estimators_:\n",
    "    print(estimator)"
   ]
  },
  {
   "cell_type": "code",
   "execution_count": 82,
   "id": "3fb68f97-a60a-40f5-8e0f-fa3de1caa928",
   "metadata": {},
   "outputs": [
    {
     "name": "stdout",
     "output_type": "stream",
     "text": [
      "Model classes: ['DoS' 'DDoS' 'Bot' 'Web Attack' 'Port Scan' 'Heartbleed' 'BENIGN'\n",
      " 'Brute Force' 'Infiltration']\n",
      "Unique classes in y_test: ['BENIGN' 'Bot' 'Brute Force' 'DDoS' 'DoS' 'Heartbleed' 'Infiltration'\n",
      " 'Port Scan' 'Web Attack']\n",
      "Error in predict_proba: operands could not be broadcast together with shapes (100832,9) (100832,8) (100832,9) \n"
     ]
    },
    {
     "ename": "ValueError",
     "evalue": "operands could not be broadcast together with shapes (100832,9) (100832,8) (100832,9) ",
     "output_type": "error",
     "traceback": [
      "\u001b[0;31m---------------------------------------------------------------------------\u001b[0m",
      "\u001b[0;31mValueError\u001b[0m                                Traceback (most recent call last)",
      "Cell \u001b[0;32mIn[82], line 19\u001b[0m\n\u001b[1;32m     16\u001b[0m         y_prob_global \u001b[38;5;241m=\u001b[39m \u001b[38;5;28;01mNone\u001b[39;00m  \u001b[38;5;66;03m# Handle the case where predict_proba fails\u001b[39;00m\n\u001b[1;32m     18\u001b[0m     \u001b[38;5;66;03m# Make predictions using the global model\u001b[39;00m\n\u001b[0;32m---> 19\u001b[0m     y_pred_global \u001b[38;5;241m=\u001b[39m \u001b[43mglobal_model\u001b[49m\u001b[38;5;241;43m.\u001b[39;49m\u001b[43mpredict\u001b[49m\u001b[43m(\u001b[49m\u001b[43mX_test_imputed_aligned\u001b[49m\u001b[43m)\u001b[49m\n\u001b[1;32m     21\u001b[0m \u001b[38;5;66;03m# Evaluate the model's performance using standard metrics\u001b[39;00m\n\u001b[1;32m     22\u001b[0m accuracy_global \u001b[38;5;241m=\u001b[39m accuracy_score(y_test, y_pred_global)\n",
      "File \u001b[0;32m~/.local/lib/python3.9/site-packages/sklearn/ensemble/_forest.py:904\u001b[0m, in \u001b[0;36mForestClassifier.predict\u001b[0;34m(self, X)\u001b[0m\n\u001b[1;32m    883\u001b[0m \u001b[38;5;28;01mdef\u001b[39;00m \u001b[38;5;21mpredict\u001b[39m(\u001b[38;5;28mself\u001b[39m, X):\n\u001b[1;32m    884\u001b[0m \u001b[38;5;250m    \u001b[39m\u001b[38;5;124;03m\"\"\"\u001b[39;00m\n\u001b[1;32m    885\u001b[0m \u001b[38;5;124;03m    Predict class for X.\u001b[39;00m\n\u001b[1;32m    886\u001b[0m \n\u001b[0;32m   (...)\u001b[0m\n\u001b[1;32m    902\u001b[0m \u001b[38;5;124;03m        The predicted classes.\u001b[39;00m\n\u001b[1;32m    903\u001b[0m \u001b[38;5;124;03m    \"\"\"\u001b[39;00m\n\u001b[0;32m--> 904\u001b[0m     proba \u001b[38;5;241m=\u001b[39m \u001b[38;5;28;43mself\u001b[39;49m\u001b[38;5;241;43m.\u001b[39;49m\u001b[43mpredict_proba\u001b[49m\u001b[43m(\u001b[49m\u001b[43mX\u001b[49m\u001b[43m)\u001b[49m\n\u001b[1;32m    906\u001b[0m     \u001b[38;5;28;01mif\u001b[39;00m \u001b[38;5;28mself\u001b[39m\u001b[38;5;241m.\u001b[39mn_outputs_ \u001b[38;5;241m==\u001b[39m \u001b[38;5;241m1\u001b[39m:\n\u001b[1;32m    907\u001b[0m         \u001b[38;5;28;01mreturn\u001b[39;00m \u001b[38;5;28mself\u001b[39m\u001b[38;5;241m.\u001b[39mclasses_\u001b[38;5;241m.\u001b[39mtake(np\u001b[38;5;241m.\u001b[39margmax(proba, axis\u001b[38;5;241m=\u001b[39m\u001b[38;5;241m1\u001b[39m), axis\u001b[38;5;241m=\u001b[39m\u001b[38;5;241m0\u001b[39m)\n",
      "File \u001b[0;32m~/.local/lib/python3.9/site-packages/sklearn/ensemble/_forest.py:957\u001b[0m, in \u001b[0;36mForestClassifier.predict_proba\u001b[0;34m(self, X)\u001b[0m\n\u001b[1;32m    952\u001b[0m all_proba \u001b[38;5;241m=\u001b[39m [\n\u001b[1;32m    953\u001b[0m     np\u001b[38;5;241m.\u001b[39mzeros((X\u001b[38;5;241m.\u001b[39mshape[\u001b[38;5;241m0\u001b[39m], j), dtype\u001b[38;5;241m=\u001b[39mnp\u001b[38;5;241m.\u001b[39mfloat64)\n\u001b[1;32m    954\u001b[0m     \u001b[38;5;28;01mfor\u001b[39;00m j \u001b[38;5;129;01min\u001b[39;00m np\u001b[38;5;241m.\u001b[39matleast_1d(\u001b[38;5;28mself\u001b[39m\u001b[38;5;241m.\u001b[39mn_classes_)\n\u001b[1;32m    955\u001b[0m ]\n\u001b[1;32m    956\u001b[0m lock \u001b[38;5;241m=\u001b[39m threading\u001b[38;5;241m.\u001b[39mLock()\n\u001b[0;32m--> 957\u001b[0m \u001b[43mParallel\u001b[49m\u001b[43m(\u001b[49m\u001b[43mn_jobs\u001b[49m\u001b[38;5;241;43m=\u001b[39;49m\u001b[43mn_jobs\u001b[49m\u001b[43m,\u001b[49m\u001b[43m \u001b[49m\u001b[43mverbose\u001b[49m\u001b[38;5;241;43m=\u001b[39;49m\u001b[38;5;28;43mself\u001b[39;49m\u001b[38;5;241;43m.\u001b[39;49m\u001b[43mverbose\u001b[49m\u001b[43m,\u001b[49m\u001b[43m \u001b[49m\u001b[43mrequire\u001b[49m\u001b[38;5;241;43m=\u001b[39;49m\u001b[38;5;124;43m\"\u001b[39;49m\u001b[38;5;124;43msharedmem\u001b[39;49m\u001b[38;5;124;43m\"\u001b[39;49m\u001b[43m)\u001b[49m\u001b[43m(\u001b[49m\n\u001b[1;32m    958\u001b[0m \u001b[43m    \u001b[49m\u001b[43mdelayed\u001b[49m\u001b[43m(\u001b[49m\u001b[43m_accumulate_prediction\u001b[49m\u001b[43m)\u001b[49m\u001b[43m(\u001b[49m\u001b[43me\u001b[49m\u001b[38;5;241;43m.\u001b[39;49m\u001b[43mpredict_proba\u001b[49m\u001b[43m,\u001b[49m\u001b[43m \u001b[49m\u001b[43mX\u001b[49m\u001b[43m,\u001b[49m\u001b[43m \u001b[49m\u001b[43mall_proba\u001b[49m\u001b[43m,\u001b[49m\u001b[43m \u001b[49m\u001b[43mlock\u001b[49m\u001b[43m)\u001b[49m\n\u001b[1;32m    959\u001b[0m \u001b[43m    \u001b[49m\u001b[38;5;28;43;01mfor\u001b[39;49;00m\u001b[43m \u001b[49m\u001b[43me\u001b[49m\u001b[43m \u001b[49m\u001b[38;5;129;43;01min\u001b[39;49;00m\u001b[43m \u001b[49m\u001b[38;5;28;43mself\u001b[39;49m\u001b[38;5;241;43m.\u001b[39;49m\u001b[43mestimators_\u001b[49m\n\u001b[1;32m    960\u001b[0m \u001b[43m\u001b[49m\u001b[43m)\u001b[49m\n\u001b[1;32m    962\u001b[0m \u001b[38;5;28;01mfor\u001b[39;00m proba \u001b[38;5;129;01min\u001b[39;00m all_proba:\n\u001b[1;32m    963\u001b[0m     proba \u001b[38;5;241m/\u001b[39m\u001b[38;5;241m=\u001b[39m \u001b[38;5;28mlen\u001b[39m(\u001b[38;5;28mself\u001b[39m\u001b[38;5;241m.\u001b[39mestimators_)\n",
      "File \u001b[0;32m~/.local/lib/python3.9/site-packages/sklearn/utils/parallel.py:77\u001b[0m, in \u001b[0;36mParallel.__call__\u001b[0;34m(self, iterable)\u001b[0m\n\u001b[1;32m     72\u001b[0m config \u001b[38;5;241m=\u001b[39m get_config()\n\u001b[1;32m     73\u001b[0m iterable_with_config \u001b[38;5;241m=\u001b[39m (\n\u001b[1;32m     74\u001b[0m     (_with_config(delayed_func, config), args, kwargs)\n\u001b[1;32m     75\u001b[0m     \u001b[38;5;28;01mfor\u001b[39;00m delayed_func, args, kwargs \u001b[38;5;129;01min\u001b[39;00m iterable\n\u001b[1;32m     76\u001b[0m )\n\u001b[0;32m---> 77\u001b[0m \u001b[38;5;28;01mreturn\u001b[39;00m \u001b[38;5;28;43msuper\u001b[39;49m\u001b[43m(\u001b[49m\u001b[43m)\u001b[49m\u001b[38;5;241;43m.\u001b[39;49m\u001b[38;5;21;43m__call__\u001b[39;49m\u001b[43m(\u001b[49m\u001b[43miterable_with_config\u001b[49m\u001b[43m)\u001b[49m\n",
      "File \u001b[0;32m~/.local/lib/python3.9/site-packages/joblib/parallel.py:1863\u001b[0m, in \u001b[0;36mParallel.__call__\u001b[0;34m(self, iterable)\u001b[0m\n\u001b[1;32m   1861\u001b[0m     output \u001b[38;5;241m=\u001b[39m \u001b[38;5;28mself\u001b[39m\u001b[38;5;241m.\u001b[39m_get_sequential_output(iterable)\n\u001b[1;32m   1862\u001b[0m     \u001b[38;5;28mnext\u001b[39m(output)\n\u001b[0;32m-> 1863\u001b[0m     \u001b[38;5;28;01mreturn\u001b[39;00m output \u001b[38;5;28;01mif\u001b[39;00m \u001b[38;5;28mself\u001b[39m\u001b[38;5;241m.\u001b[39mreturn_generator \u001b[38;5;28;01melse\u001b[39;00m \u001b[38;5;28;43mlist\u001b[39;49m\u001b[43m(\u001b[49m\u001b[43moutput\u001b[49m\u001b[43m)\u001b[49m\n\u001b[1;32m   1865\u001b[0m \u001b[38;5;66;03m# Let's create an ID that uniquely identifies the current call. If the\u001b[39;00m\n\u001b[1;32m   1866\u001b[0m \u001b[38;5;66;03m# call is interrupted early and that the same instance is immediately\u001b[39;00m\n\u001b[1;32m   1867\u001b[0m \u001b[38;5;66;03m# re-used, this id will be used to prevent workers that were\u001b[39;00m\n\u001b[1;32m   1868\u001b[0m \u001b[38;5;66;03m# concurrently finalizing a task from the previous call to run the\u001b[39;00m\n\u001b[1;32m   1869\u001b[0m \u001b[38;5;66;03m# callback.\u001b[39;00m\n\u001b[1;32m   1870\u001b[0m \u001b[38;5;28;01mwith\u001b[39;00m \u001b[38;5;28mself\u001b[39m\u001b[38;5;241m.\u001b[39m_lock:\n",
      "File \u001b[0;32m~/.local/lib/python3.9/site-packages/joblib/parallel.py:1792\u001b[0m, in \u001b[0;36mParallel._get_sequential_output\u001b[0;34m(self, iterable)\u001b[0m\n\u001b[1;32m   1790\u001b[0m \u001b[38;5;28mself\u001b[39m\u001b[38;5;241m.\u001b[39mn_dispatched_batches \u001b[38;5;241m+\u001b[39m\u001b[38;5;241m=\u001b[39m \u001b[38;5;241m1\u001b[39m\n\u001b[1;32m   1791\u001b[0m \u001b[38;5;28mself\u001b[39m\u001b[38;5;241m.\u001b[39mn_dispatched_tasks \u001b[38;5;241m+\u001b[39m\u001b[38;5;241m=\u001b[39m \u001b[38;5;241m1\u001b[39m\n\u001b[0;32m-> 1792\u001b[0m res \u001b[38;5;241m=\u001b[39m \u001b[43mfunc\u001b[49m\u001b[43m(\u001b[49m\u001b[38;5;241;43m*\u001b[39;49m\u001b[43margs\u001b[49m\u001b[43m,\u001b[49m\u001b[43m \u001b[49m\u001b[38;5;241;43m*\u001b[39;49m\u001b[38;5;241;43m*\u001b[39;49m\u001b[43mkwargs\u001b[49m\u001b[43m)\u001b[49m\n\u001b[1;32m   1793\u001b[0m \u001b[38;5;28mself\u001b[39m\u001b[38;5;241m.\u001b[39mn_completed_tasks \u001b[38;5;241m+\u001b[39m\u001b[38;5;241m=\u001b[39m \u001b[38;5;241m1\u001b[39m\n\u001b[1;32m   1794\u001b[0m \u001b[38;5;28mself\u001b[39m\u001b[38;5;241m.\u001b[39mprint_progress()\n",
      "File \u001b[0;32m~/.local/lib/python3.9/site-packages/sklearn/utils/parallel.py:139\u001b[0m, in \u001b[0;36m_FuncWrapper.__call__\u001b[0;34m(self, *args, **kwargs)\u001b[0m\n\u001b[1;32m    137\u001b[0m     config \u001b[38;5;241m=\u001b[39m {}\n\u001b[1;32m    138\u001b[0m \u001b[38;5;28;01mwith\u001b[39;00m config_context(\u001b[38;5;241m*\u001b[39m\u001b[38;5;241m*\u001b[39mconfig):\n\u001b[0;32m--> 139\u001b[0m     \u001b[38;5;28;01mreturn\u001b[39;00m \u001b[38;5;28;43mself\u001b[39;49m\u001b[38;5;241;43m.\u001b[39;49m\u001b[43mfunction\u001b[49m\u001b[43m(\u001b[49m\u001b[38;5;241;43m*\u001b[39;49m\u001b[43margs\u001b[49m\u001b[43m,\u001b[49m\u001b[43m \u001b[49m\u001b[38;5;241;43m*\u001b[39;49m\u001b[38;5;241;43m*\u001b[39;49m\u001b[43mkwargs\u001b[49m\u001b[43m)\u001b[49m\n",
      "File \u001b[0;32m~/.local/lib/python3.9/site-packages/sklearn/ensemble/_forest.py:734\u001b[0m, in \u001b[0;36m_accumulate_prediction\u001b[0;34m(predict, X, out, lock)\u001b[0m\n\u001b[1;32m    732\u001b[0m \u001b[38;5;28;01mwith\u001b[39;00m lock:\n\u001b[1;32m    733\u001b[0m     \u001b[38;5;28;01mif\u001b[39;00m \u001b[38;5;28mlen\u001b[39m(out) \u001b[38;5;241m==\u001b[39m \u001b[38;5;241m1\u001b[39m:\n\u001b[0;32m--> 734\u001b[0m         out[\u001b[38;5;241m0\u001b[39m] \u001b[38;5;241m+\u001b[39m\u001b[38;5;241m=\u001b[39m prediction\n\u001b[1;32m    735\u001b[0m     \u001b[38;5;28;01melse\u001b[39;00m:\n\u001b[1;32m    736\u001b[0m         \u001b[38;5;28;01mfor\u001b[39;00m i \u001b[38;5;129;01min\u001b[39;00m \u001b[38;5;28mrange\u001b[39m(\u001b[38;5;28mlen\u001b[39m(out)):\n",
      "\u001b[0;31mValueError\u001b[0m: operands could not be broadcast together with shapes (100832,9) (100832,8) (100832,9) "
     ]
    }
   ],
   "source": [
    "# Check the classes in the model and the test data\n",
    "print(\"Model classes:\", global_model.classes_)\n",
    "print(\"Unique classes in y_test:\", np.unique(y_test))\n",
    "\n",
    "# Ensure the number of classes match between the model and the test data\n",
    "if len(global_model.classes_) != len(np.unique(y_test)):\n",
    "    print(\"Warning: Class mismatch detected. Handling this case by using `predict` instead of `predict_proba`.\")\n",
    "    y_pred_global = global_model.predict(X_test_imputed_aligned)\n",
    "    y_prob_global = None  # Set to None since `predict_proba` is not reliable in this case\n",
    "else:\n",
    "    # If the classes match, use `predict_proba`\n",
    "    try:\n",
    "        y_prob_global = global_model.predict_proba(X_test_imputed_aligned)\n",
    "    except ValueError as e:\n",
    "        print(\"Error in predict_proba:\", e)\n",
    "        y_prob_global = None  # Handle the case where predict_proba fails\n",
    "\n",
    "    # Make predictions using the global model\n",
    "    y_pred_global = global_model.predict(X_test_imputed_aligned)\n",
    "\n",
    "# Evaluate the model's performance using standard metrics\n",
    "accuracy_global = accuracy_score(y_test, y_pred_global)\n",
    "precision_global = precision_score(y_test, y_pred_global, average=\"weighted\", zero_division=1)\n",
    "recall_global = recall_score(y_test, y_pred_global, average=\"weighted\", zero_division=1)\n",
    "f1_global = f1_score(y_test, y_pred_global, average=\"weighted\", zero_division=1)\n",
    "\n",
    "# Print the evaluation results\n",
    "global_metrics = {\n",
    "    \"Global Accuracy\": accuracy_global * 100,\n",
    "    \"Global Precision (Weighted)\": precision_global,\n",
    "    \"Global Recall (Weighted)\": recall_global,\n",
    "    \"Global F1 Score (Weighted)\": f1_global,\n",
    "}\n",
    "\n",
    "for metric, value in global_metrics.items():\n",
    "    print(f\"{metric}: {value}\")\n",
    "\n",
    "# If you want to show a detailed classification report for each class:\n",
    "print(\"\\nClassification Report:\\n\", classification_report(y_test, y_pred_global, target_names=[str(i) for i in global_model.classes_]))\n",
    "\n",
    "# Example of accessing the `estimators_` to view the individual models (e.g., decision trees in a random forest)\n",
    "if hasattr(global_model, \"estimators_\"):\n",
    "    print(\"\\nList of Estimators (Individual Models):\")\n",
    "    for estimator in global_model.estimators_:\n",
    "        print(estimator)\n",
    "else:\n",
    "    print(\"Model does not have estimators_ attribute.\")\n",
    "\n"
   ]
  },
  {
   "cell_type": "code",
   "execution_count": 70,
   "id": "25a9b6cc-2969-471b-9c33-18012e035ed5",
   "metadata": {},
   "outputs": [
    {
     "name": "stdout",
     "output_type": "stream",
     "text": [
      "Model expected classes: ['DoS' 'DDoS' 'Bot' 'Web Attack' 'Port Scan' 'Heartbleed' 'BENIGN'\n",
      " 'Brute Force' 'Infiltration']\n"
     ]
    }
   ],
   "source": [
    "print(\"Model expected classes:\", global_model.classes_)\n"
   ]
  },
  {
   "cell_type": "code",
   "execution_count": 71,
   "id": "b5b308a9-942f-4d29-8fb5-d85b071f2b32",
   "metadata": {},
   "outputs": [
    {
     "name": "stdout",
     "output_type": "stream",
     "text": [
      "Aligned test features shape: (100832, 35)\n"
     ]
    }
   ],
   "source": [
    "# Align the test data with the features the model expects\n",
    "X_test_imputed_aligned = X_test_imputed[global_model.feature_names_in_]\n",
    "print(\"Aligned test features shape:\", X_test_imputed_aligned.shape)\n"
   ]
  },
  {
   "cell_type": "code",
   "execution_count": 72,
   "id": "6b9ca536-de9f-4f22-a0c3-9f7de1dba89a",
   "metadata": {},
   "outputs": [
    {
     "name": "stdout",
     "output_type": "stream",
     "text": [
      "Expected labels: ['DoS' 'DDoS' 'Bot' 'Web Attack' 'Port Scan' 'Heartbleed' 'BENIGN'\n",
      " 'Brute Force' 'Infiltration']\n"
     ]
    }
   ],
   "source": [
    "print(\"Expected labels:\", global_model.classes_)\n"
   ]
  },
  {
   "cell_type": "code",
   "execution_count": 75,
   "id": "07d0afbc-85da-4f27-abac-c0a151dd71f1",
   "metadata": {},
   "outputs": [
    {
     "ename": "ValueError",
     "evalue": "operands could not be broadcast together with shapes (100832,9) (100832,8) (100832,9) ",
     "output_type": "error",
     "traceback": [
      "\u001b[0;31m---------------------------------------------------------------------------\u001b[0m",
      "\u001b[0;31mValueError\u001b[0m                                Traceback (most recent call last)",
      "Cell \u001b[0;32mIn[75], line 1\u001b[0m\n\u001b[0;32m----> 1\u001b[0m y_pred_global \u001b[38;5;241m=\u001b[39m \u001b[43mglobal_model\u001b[49m\u001b[38;5;241;43m.\u001b[39;49m\u001b[43mpredict\u001b[49m\u001b[43m(\u001b[49m\u001b[43mX_test_imputed_aligned\u001b[49m\u001b[43m)\u001b[49m\n",
      "File \u001b[0;32m~/.local/lib/python3.9/site-packages/sklearn/ensemble/_forest.py:904\u001b[0m, in \u001b[0;36mForestClassifier.predict\u001b[0;34m(self, X)\u001b[0m\n\u001b[1;32m    883\u001b[0m \u001b[38;5;28;01mdef\u001b[39;00m \u001b[38;5;21mpredict\u001b[39m(\u001b[38;5;28mself\u001b[39m, X):\n\u001b[1;32m    884\u001b[0m \u001b[38;5;250m    \u001b[39m\u001b[38;5;124;03m\"\"\"\u001b[39;00m\n\u001b[1;32m    885\u001b[0m \u001b[38;5;124;03m    Predict class for X.\u001b[39;00m\n\u001b[1;32m    886\u001b[0m \n\u001b[0;32m   (...)\u001b[0m\n\u001b[1;32m    902\u001b[0m \u001b[38;5;124;03m        The predicted classes.\u001b[39;00m\n\u001b[1;32m    903\u001b[0m \u001b[38;5;124;03m    \"\"\"\u001b[39;00m\n\u001b[0;32m--> 904\u001b[0m     proba \u001b[38;5;241m=\u001b[39m \u001b[38;5;28;43mself\u001b[39;49m\u001b[38;5;241;43m.\u001b[39;49m\u001b[43mpredict_proba\u001b[49m\u001b[43m(\u001b[49m\u001b[43mX\u001b[49m\u001b[43m)\u001b[49m\n\u001b[1;32m    906\u001b[0m     \u001b[38;5;28;01mif\u001b[39;00m \u001b[38;5;28mself\u001b[39m\u001b[38;5;241m.\u001b[39mn_outputs_ \u001b[38;5;241m==\u001b[39m \u001b[38;5;241m1\u001b[39m:\n\u001b[1;32m    907\u001b[0m         \u001b[38;5;28;01mreturn\u001b[39;00m \u001b[38;5;28mself\u001b[39m\u001b[38;5;241m.\u001b[39mclasses_\u001b[38;5;241m.\u001b[39mtake(np\u001b[38;5;241m.\u001b[39margmax(proba, axis\u001b[38;5;241m=\u001b[39m\u001b[38;5;241m1\u001b[39m), axis\u001b[38;5;241m=\u001b[39m\u001b[38;5;241m0\u001b[39m)\n",
      "File \u001b[0;32m~/.local/lib/python3.9/site-packages/sklearn/ensemble/_forest.py:957\u001b[0m, in \u001b[0;36mForestClassifier.predict_proba\u001b[0;34m(self, X)\u001b[0m\n\u001b[1;32m    952\u001b[0m all_proba \u001b[38;5;241m=\u001b[39m [\n\u001b[1;32m    953\u001b[0m     np\u001b[38;5;241m.\u001b[39mzeros((X\u001b[38;5;241m.\u001b[39mshape[\u001b[38;5;241m0\u001b[39m], j), dtype\u001b[38;5;241m=\u001b[39mnp\u001b[38;5;241m.\u001b[39mfloat64)\n\u001b[1;32m    954\u001b[0m     \u001b[38;5;28;01mfor\u001b[39;00m j \u001b[38;5;129;01min\u001b[39;00m np\u001b[38;5;241m.\u001b[39matleast_1d(\u001b[38;5;28mself\u001b[39m\u001b[38;5;241m.\u001b[39mn_classes_)\n\u001b[1;32m    955\u001b[0m ]\n\u001b[1;32m    956\u001b[0m lock \u001b[38;5;241m=\u001b[39m threading\u001b[38;5;241m.\u001b[39mLock()\n\u001b[0;32m--> 957\u001b[0m \u001b[43mParallel\u001b[49m\u001b[43m(\u001b[49m\u001b[43mn_jobs\u001b[49m\u001b[38;5;241;43m=\u001b[39;49m\u001b[43mn_jobs\u001b[49m\u001b[43m,\u001b[49m\u001b[43m \u001b[49m\u001b[43mverbose\u001b[49m\u001b[38;5;241;43m=\u001b[39;49m\u001b[38;5;28;43mself\u001b[39;49m\u001b[38;5;241;43m.\u001b[39;49m\u001b[43mverbose\u001b[49m\u001b[43m,\u001b[49m\u001b[43m \u001b[49m\u001b[43mrequire\u001b[49m\u001b[38;5;241;43m=\u001b[39;49m\u001b[38;5;124;43m\"\u001b[39;49m\u001b[38;5;124;43msharedmem\u001b[39;49m\u001b[38;5;124;43m\"\u001b[39;49m\u001b[43m)\u001b[49m\u001b[43m(\u001b[49m\n\u001b[1;32m    958\u001b[0m \u001b[43m    \u001b[49m\u001b[43mdelayed\u001b[49m\u001b[43m(\u001b[49m\u001b[43m_accumulate_prediction\u001b[49m\u001b[43m)\u001b[49m\u001b[43m(\u001b[49m\u001b[43me\u001b[49m\u001b[38;5;241;43m.\u001b[39;49m\u001b[43mpredict_proba\u001b[49m\u001b[43m,\u001b[49m\u001b[43m \u001b[49m\u001b[43mX\u001b[49m\u001b[43m,\u001b[49m\u001b[43m \u001b[49m\u001b[43mall_proba\u001b[49m\u001b[43m,\u001b[49m\u001b[43m \u001b[49m\u001b[43mlock\u001b[49m\u001b[43m)\u001b[49m\n\u001b[1;32m    959\u001b[0m \u001b[43m    \u001b[49m\u001b[38;5;28;43;01mfor\u001b[39;49;00m\u001b[43m \u001b[49m\u001b[43me\u001b[49m\u001b[43m \u001b[49m\u001b[38;5;129;43;01min\u001b[39;49;00m\u001b[43m \u001b[49m\u001b[38;5;28;43mself\u001b[39;49m\u001b[38;5;241;43m.\u001b[39;49m\u001b[43mestimators_\u001b[49m\n\u001b[1;32m    960\u001b[0m \u001b[43m\u001b[49m\u001b[43m)\u001b[49m\n\u001b[1;32m    962\u001b[0m \u001b[38;5;28;01mfor\u001b[39;00m proba \u001b[38;5;129;01min\u001b[39;00m all_proba:\n\u001b[1;32m    963\u001b[0m     proba \u001b[38;5;241m/\u001b[39m\u001b[38;5;241m=\u001b[39m \u001b[38;5;28mlen\u001b[39m(\u001b[38;5;28mself\u001b[39m\u001b[38;5;241m.\u001b[39mestimators_)\n",
      "File \u001b[0;32m~/.local/lib/python3.9/site-packages/sklearn/utils/parallel.py:77\u001b[0m, in \u001b[0;36mParallel.__call__\u001b[0;34m(self, iterable)\u001b[0m\n\u001b[1;32m     72\u001b[0m config \u001b[38;5;241m=\u001b[39m get_config()\n\u001b[1;32m     73\u001b[0m iterable_with_config \u001b[38;5;241m=\u001b[39m (\n\u001b[1;32m     74\u001b[0m     (_with_config(delayed_func, config), args, kwargs)\n\u001b[1;32m     75\u001b[0m     \u001b[38;5;28;01mfor\u001b[39;00m delayed_func, args, kwargs \u001b[38;5;129;01min\u001b[39;00m iterable\n\u001b[1;32m     76\u001b[0m )\n\u001b[0;32m---> 77\u001b[0m \u001b[38;5;28;01mreturn\u001b[39;00m \u001b[38;5;28;43msuper\u001b[39;49m\u001b[43m(\u001b[49m\u001b[43m)\u001b[49m\u001b[38;5;241;43m.\u001b[39;49m\u001b[38;5;21;43m__call__\u001b[39;49m\u001b[43m(\u001b[49m\u001b[43miterable_with_config\u001b[49m\u001b[43m)\u001b[49m\n",
      "File \u001b[0;32m~/.local/lib/python3.9/site-packages/joblib/parallel.py:1863\u001b[0m, in \u001b[0;36mParallel.__call__\u001b[0;34m(self, iterable)\u001b[0m\n\u001b[1;32m   1861\u001b[0m     output \u001b[38;5;241m=\u001b[39m \u001b[38;5;28mself\u001b[39m\u001b[38;5;241m.\u001b[39m_get_sequential_output(iterable)\n\u001b[1;32m   1862\u001b[0m     \u001b[38;5;28mnext\u001b[39m(output)\n\u001b[0;32m-> 1863\u001b[0m     \u001b[38;5;28;01mreturn\u001b[39;00m output \u001b[38;5;28;01mif\u001b[39;00m \u001b[38;5;28mself\u001b[39m\u001b[38;5;241m.\u001b[39mreturn_generator \u001b[38;5;28;01melse\u001b[39;00m \u001b[38;5;28;43mlist\u001b[39;49m\u001b[43m(\u001b[49m\u001b[43moutput\u001b[49m\u001b[43m)\u001b[49m\n\u001b[1;32m   1865\u001b[0m \u001b[38;5;66;03m# Let's create an ID that uniquely identifies the current call. If the\u001b[39;00m\n\u001b[1;32m   1866\u001b[0m \u001b[38;5;66;03m# call is interrupted early and that the same instance is immediately\u001b[39;00m\n\u001b[1;32m   1867\u001b[0m \u001b[38;5;66;03m# re-used, this id will be used to prevent workers that were\u001b[39;00m\n\u001b[1;32m   1868\u001b[0m \u001b[38;5;66;03m# concurrently finalizing a task from the previous call to run the\u001b[39;00m\n\u001b[1;32m   1869\u001b[0m \u001b[38;5;66;03m# callback.\u001b[39;00m\n\u001b[1;32m   1870\u001b[0m \u001b[38;5;28;01mwith\u001b[39;00m \u001b[38;5;28mself\u001b[39m\u001b[38;5;241m.\u001b[39m_lock:\n",
      "File \u001b[0;32m~/.local/lib/python3.9/site-packages/joblib/parallel.py:1792\u001b[0m, in \u001b[0;36mParallel._get_sequential_output\u001b[0;34m(self, iterable)\u001b[0m\n\u001b[1;32m   1790\u001b[0m \u001b[38;5;28mself\u001b[39m\u001b[38;5;241m.\u001b[39mn_dispatched_batches \u001b[38;5;241m+\u001b[39m\u001b[38;5;241m=\u001b[39m \u001b[38;5;241m1\u001b[39m\n\u001b[1;32m   1791\u001b[0m \u001b[38;5;28mself\u001b[39m\u001b[38;5;241m.\u001b[39mn_dispatched_tasks \u001b[38;5;241m+\u001b[39m\u001b[38;5;241m=\u001b[39m \u001b[38;5;241m1\u001b[39m\n\u001b[0;32m-> 1792\u001b[0m res \u001b[38;5;241m=\u001b[39m \u001b[43mfunc\u001b[49m\u001b[43m(\u001b[49m\u001b[38;5;241;43m*\u001b[39;49m\u001b[43margs\u001b[49m\u001b[43m,\u001b[49m\u001b[43m \u001b[49m\u001b[38;5;241;43m*\u001b[39;49m\u001b[38;5;241;43m*\u001b[39;49m\u001b[43mkwargs\u001b[49m\u001b[43m)\u001b[49m\n\u001b[1;32m   1793\u001b[0m \u001b[38;5;28mself\u001b[39m\u001b[38;5;241m.\u001b[39mn_completed_tasks \u001b[38;5;241m+\u001b[39m\u001b[38;5;241m=\u001b[39m \u001b[38;5;241m1\u001b[39m\n\u001b[1;32m   1794\u001b[0m \u001b[38;5;28mself\u001b[39m\u001b[38;5;241m.\u001b[39mprint_progress()\n",
      "File \u001b[0;32m~/.local/lib/python3.9/site-packages/sklearn/utils/parallel.py:139\u001b[0m, in \u001b[0;36m_FuncWrapper.__call__\u001b[0;34m(self, *args, **kwargs)\u001b[0m\n\u001b[1;32m    137\u001b[0m     config \u001b[38;5;241m=\u001b[39m {}\n\u001b[1;32m    138\u001b[0m \u001b[38;5;28;01mwith\u001b[39;00m config_context(\u001b[38;5;241m*\u001b[39m\u001b[38;5;241m*\u001b[39mconfig):\n\u001b[0;32m--> 139\u001b[0m     \u001b[38;5;28;01mreturn\u001b[39;00m \u001b[38;5;28;43mself\u001b[39;49m\u001b[38;5;241;43m.\u001b[39;49m\u001b[43mfunction\u001b[49m\u001b[43m(\u001b[49m\u001b[38;5;241;43m*\u001b[39;49m\u001b[43margs\u001b[49m\u001b[43m,\u001b[49m\u001b[43m \u001b[49m\u001b[38;5;241;43m*\u001b[39;49m\u001b[38;5;241;43m*\u001b[39;49m\u001b[43mkwargs\u001b[49m\u001b[43m)\u001b[49m\n",
      "File \u001b[0;32m~/.local/lib/python3.9/site-packages/sklearn/ensemble/_forest.py:734\u001b[0m, in \u001b[0;36m_accumulate_prediction\u001b[0;34m(predict, X, out, lock)\u001b[0m\n\u001b[1;32m    732\u001b[0m \u001b[38;5;28;01mwith\u001b[39;00m lock:\n\u001b[1;32m    733\u001b[0m     \u001b[38;5;28;01mif\u001b[39;00m \u001b[38;5;28mlen\u001b[39m(out) \u001b[38;5;241m==\u001b[39m \u001b[38;5;241m1\u001b[39m:\n\u001b[0;32m--> 734\u001b[0m         out[\u001b[38;5;241m0\u001b[39m] \u001b[38;5;241m+\u001b[39m\u001b[38;5;241m=\u001b[39m prediction\n\u001b[1;32m    735\u001b[0m     \u001b[38;5;28;01melse\u001b[39;00m:\n\u001b[1;32m    736\u001b[0m         \u001b[38;5;28;01mfor\u001b[39;00m i \u001b[38;5;129;01min\u001b[39;00m \u001b[38;5;28mrange\u001b[39m(\u001b[38;5;28mlen\u001b[39m(out)):\n",
      "\u001b[0;31mValueError\u001b[0m: operands could not be broadcast together with shapes (100832,9) (100832,8) (100832,9) "
     ]
    }
   ],
   "source": [
    "y_pred_global = global_model.predict(X_test_imputed_aligned)\n"
   ]
  },
  {
   "cell_type": "code",
   "execution_count": 76,
   "id": "5fb9dccd-c90e-4a5c-a57f-20ad937a9622",
   "metadata": {},
   "outputs": [
    {
     "name": "stdout",
     "output_type": "stream",
     "text": [
      "Unique classes in test set: ['BENIGN' 'Bot' 'Brute Force' 'DDoS' 'DoS' 'Heartbleed' 'Infiltration'\n",
      " 'Port Scan' 'Web Attack']\n"
     ]
    }
   ],
   "source": [
    "print(\"Unique classes in test set:\", np.unique(y_test))\n"
   ]
  },
  {
   "cell_type": "code",
   "execution_count": 77,
   "id": "e8f9b355-e477-4d59-a3a9-3660decda954",
   "metadata": {},
   "outputs": [
    {
     "name": "stdout",
     "output_type": "stream",
     "text": [
      "Test features columns: Index(['PC24', 'PC20', 'PC12', 'PC1', 'PC25', 'PC18', 'PC34', 'PC35', 'PC23',\n",
      "       'PC29', 'PC30', 'PC13', 'PC15', 'PC11', 'PC5', 'PC33', 'PC27', 'PC28',\n",
      "       'PC31', 'PC14', 'PC22', 'PC21', 'PC17', 'PC9', 'PC2', 'PC3', 'PC7',\n",
      "       'PC4', 'PC8', 'PC19', 'PC32', 'PC6', 'PC16', 'PC26', 'PC10'],\n",
      "      dtype='object')\n",
      "Expected features: ['PC24' 'PC20' 'PC12' 'PC1' 'PC25' 'PC18' 'PC34' 'PC35' 'PC23' 'PC29'\n",
      " 'PC30' 'PC13' 'PC15' 'PC11' 'PC5' 'PC33' 'PC27' 'PC28' 'PC31' 'PC14'\n",
      " 'PC22' 'PC21' 'PC17' 'PC9' 'PC2' 'PC3' 'PC7' 'PC4' 'PC8' 'PC19' 'PC32'\n",
      " 'PC6' 'PC16' 'PC26' 'PC10']\n"
     ]
    }
   ],
   "source": [
    "print(\"Test features columns:\", X_test_imputed_aligned.columns)\n",
    "print(\"Expected features:\", global_model.feature_names_in_)\n"
   ]
  },
  {
   "cell_type": "code",
   "execution_count": 78,
   "id": "25664445-1377-4c75-81ba-f28dec5ed003",
   "metadata": {},
   "outputs": [
    {
     "name": "stdout",
     "output_type": "stream",
     "text": [
      "Class distribution in test set: (array(['BENIGN', 'Bot', 'Brute Force', 'DDoS', 'DoS', 'Heartbleed',\n",
      "       'Infiltration', 'Port Scan', 'Web Attack'], dtype=object), array([83668,    77,   395,  5136,  7819,     2,     1,  3652,    82]))\n"
     ]
    }
   ],
   "source": [
    "print(\"Class distribution in test set:\", np.unique(y_test, return_counts=True))\n"
   ]
  },
  {
   "cell_type": "code",
   "execution_count": 80,
   "id": "ce4b8424-158a-4ea2-a5d0-66876e321046",
   "metadata": {},
   "outputs": [
    {
     "ename": "ValueError",
     "evalue": "operands could not be broadcast together with shapes (100832,9) (100832,8) (100832,9) ",
     "output_type": "error",
     "traceback": [
      "\u001b[0;31m---------------------------------------------------------------------------\u001b[0m",
      "\u001b[0;31mValueError\u001b[0m                                Traceback (most recent call last)",
      "Cell \u001b[0;32mIn[80], line 4\u001b[0m\n\u001b[1;32m      1\u001b[0m \u001b[38;5;28;01mfrom\u001b[39;00m \u001b[38;5;21;01msklearn\u001b[39;00m\u001b[38;5;21;01m.\u001b[39;00m\u001b[38;5;21;01mmetrics\u001b[39;00m \u001b[38;5;28;01mimport\u001b[39;00m classification_report, confusion_matrix, accuracy_score\n\u001b[1;32m      3\u001b[0m \u001b[38;5;66;03m# Make predictions on the test set\u001b[39;00m\n\u001b[0;32m----> 4\u001b[0m y_pred_global \u001b[38;5;241m=\u001b[39m \u001b[43mglobal_model\u001b[49m\u001b[38;5;241;43m.\u001b[39;49m\u001b[43mpredict\u001b[49m\u001b[43m(\u001b[49m\u001b[43mX_test_imputed_aligned\u001b[49m\u001b[43m)\u001b[49m\n",
      "File \u001b[0;32m~/.local/lib/python3.9/site-packages/sklearn/ensemble/_forest.py:904\u001b[0m, in \u001b[0;36mForestClassifier.predict\u001b[0;34m(self, X)\u001b[0m\n\u001b[1;32m    883\u001b[0m \u001b[38;5;28;01mdef\u001b[39;00m \u001b[38;5;21mpredict\u001b[39m(\u001b[38;5;28mself\u001b[39m, X):\n\u001b[1;32m    884\u001b[0m \u001b[38;5;250m    \u001b[39m\u001b[38;5;124;03m\"\"\"\u001b[39;00m\n\u001b[1;32m    885\u001b[0m \u001b[38;5;124;03m    Predict class for X.\u001b[39;00m\n\u001b[1;32m    886\u001b[0m \n\u001b[0;32m   (...)\u001b[0m\n\u001b[1;32m    902\u001b[0m \u001b[38;5;124;03m        The predicted classes.\u001b[39;00m\n\u001b[1;32m    903\u001b[0m \u001b[38;5;124;03m    \"\"\"\u001b[39;00m\n\u001b[0;32m--> 904\u001b[0m     proba \u001b[38;5;241m=\u001b[39m \u001b[38;5;28;43mself\u001b[39;49m\u001b[38;5;241;43m.\u001b[39;49m\u001b[43mpredict_proba\u001b[49m\u001b[43m(\u001b[49m\u001b[43mX\u001b[49m\u001b[43m)\u001b[49m\n\u001b[1;32m    906\u001b[0m     \u001b[38;5;28;01mif\u001b[39;00m \u001b[38;5;28mself\u001b[39m\u001b[38;5;241m.\u001b[39mn_outputs_ \u001b[38;5;241m==\u001b[39m \u001b[38;5;241m1\u001b[39m:\n\u001b[1;32m    907\u001b[0m         \u001b[38;5;28;01mreturn\u001b[39;00m \u001b[38;5;28mself\u001b[39m\u001b[38;5;241m.\u001b[39mclasses_\u001b[38;5;241m.\u001b[39mtake(np\u001b[38;5;241m.\u001b[39margmax(proba, axis\u001b[38;5;241m=\u001b[39m\u001b[38;5;241m1\u001b[39m), axis\u001b[38;5;241m=\u001b[39m\u001b[38;5;241m0\u001b[39m)\n",
      "File \u001b[0;32m~/.local/lib/python3.9/site-packages/sklearn/ensemble/_forest.py:957\u001b[0m, in \u001b[0;36mForestClassifier.predict_proba\u001b[0;34m(self, X)\u001b[0m\n\u001b[1;32m    952\u001b[0m all_proba \u001b[38;5;241m=\u001b[39m [\n\u001b[1;32m    953\u001b[0m     np\u001b[38;5;241m.\u001b[39mzeros((X\u001b[38;5;241m.\u001b[39mshape[\u001b[38;5;241m0\u001b[39m], j), dtype\u001b[38;5;241m=\u001b[39mnp\u001b[38;5;241m.\u001b[39mfloat64)\n\u001b[1;32m    954\u001b[0m     \u001b[38;5;28;01mfor\u001b[39;00m j \u001b[38;5;129;01min\u001b[39;00m np\u001b[38;5;241m.\u001b[39matleast_1d(\u001b[38;5;28mself\u001b[39m\u001b[38;5;241m.\u001b[39mn_classes_)\n\u001b[1;32m    955\u001b[0m ]\n\u001b[1;32m    956\u001b[0m lock \u001b[38;5;241m=\u001b[39m threading\u001b[38;5;241m.\u001b[39mLock()\n\u001b[0;32m--> 957\u001b[0m \u001b[43mParallel\u001b[49m\u001b[43m(\u001b[49m\u001b[43mn_jobs\u001b[49m\u001b[38;5;241;43m=\u001b[39;49m\u001b[43mn_jobs\u001b[49m\u001b[43m,\u001b[49m\u001b[43m \u001b[49m\u001b[43mverbose\u001b[49m\u001b[38;5;241;43m=\u001b[39;49m\u001b[38;5;28;43mself\u001b[39;49m\u001b[38;5;241;43m.\u001b[39;49m\u001b[43mverbose\u001b[49m\u001b[43m,\u001b[49m\u001b[43m \u001b[49m\u001b[43mrequire\u001b[49m\u001b[38;5;241;43m=\u001b[39;49m\u001b[38;5;124;43m\"\u001b[39;49m\u001b[38;5;124;43msharedmem\u001b[39;49m\u001b[38;5;124;43m\"\u001b[39;49m\u001b[43m)\u001b[49m\u001b[43m(\u001b[49m\n\u001b[1;32m    958\u001b[0m \u001b[43m    \u001b[49m\u001b[43mdelayed\u001b[49m\u001b[43m(\u001b[49m\u001b[43m_accumulate_prediction\u001b[49m\u001b[43m)\u001b[49m\u001b[43m(\u001b[49m\u001b[43me\u001b[49m\u001b[38;5;241;43m.\u001b[39;49m\u001b[43mpredict_proba\u001b[49m\u001b[43m,\u001b[49m\u001b[43m \u001b[49m\u001b[43mX\u001b[49m\u001b[43m,\u001b[49m\u001b[43m \u001b[49m\u001b[43mall_proba\u001b[49m\u001b[43m,\u001b[49m\u001b[43m \u001b[49m\u001b[43mlock\u001b[49m\u001b[43m)\u001b[49m\n\u001b[1;32m    959\u001b[0m \u001b[43m    \u001b[49m\u001b[38;5;28;43;01mfor\u001b[39;49;00m\u001b[43m \u001b[49m\u001b[43me\u001b[49m\u001b[43m \u001b[49m\u001b[38;5;129;43;01min\u001b[39;49;00m\u001b[43m \u001b[49m\u001b[38;5;28;43mself\u001b[39;49m\u001b[38;5;241;43m.\u001b[39;49m\u001b[43mestimators_\u001b[49m\n\u001b[1;32m    960\u001b[0m \u001b[43m\u001b[49m\u001b[43m)\u001b[49m\n\u001b[1;32m    962\u001b[0m \u001b[38;5;28;01mfor\u001b[39;00m proba \u001b[38;5;129;01min\u001b[39;00m all_proba:\n\u001b[1;32m    963\u001b[0m     proba \u001b[38;5;241m/\u001b[39m\u001b[38;5;241m=\u001b[39m \u001b[38;5;28mlen\u001b[39m(\u001b[38;5;28mself\u001b[39m\u001b[38;5;241m.\u001b[39mestimators_)\n",
      "File \u001b[0;32m~/.local/lib/python3.9/site-packages/sklearn/utils/parallel.py:77\u001b[0m, in \u001b[0;36mParallel.__call__\u001b[0;34m(self, iterable)\u001b[0m\n\u001b[1;32m     72\u001b[0m config \u001b[38;5;241m=\u001b[39m get_config()\n\u001b[1;32m     73\u001b[0m iterable_with_config \u001b[38;5;241m=\u001b[39m (\n\u001b[1;32m     74\u001b[0m     (_with_config(delayed_func, config), args, kwargs)\n\u001b[1;32m     75\u001b[0m     \u001b[38;5;28;01mfor\u001b[39;00m delayed_func, args, kwargs \u001b[38;5;129;01min\u001b[39;00m iterable\n\u001b[1;32m     76\u001b[0m )\n\u001b[0;32m---> 77\u001b[0m \u001b[38;5;28;01mreturn\u001b[39;00m \u001b[38;5;28;43msuper\u001b[39;49m\u001b[43m(\u001b[49m\u001b[43m)\u001b[49m\u001b[38;5;241;43m.\u001b[39;49m\u001b[38;5;21;43m__call__\u001b[39;49m\u001b[43m(\u001b[49m\u001b[43miterable_with_config\u001b[49m\u001b[43m)\u001b[49m\n",
      "File \u001b[0;32m~/.local/lib/python3.9/site-packages/joblib/parallel.py:1863\u001b[0m, in \u001b[0;36mParallel.__call__\u001b[0;34m(self, iterable)\u001b[0m\n\u001b[1;32m   1861\u001b[0m     output \u001b[38;5;241m=\u001b[39m \u001b[38;5;28mself\u001b[39m\u001b[38;5;241m.\u001b[39m_get_sequential_output(iterable)\n\u001b[1;32m   1862\u001b[0m     \u001b[38;5;28mnext\u001b[39m(output)\n\u001b[0;32m-> 1863\u001b[0m     \u001b[38;5;28;01mreturn\u001b[39;00m output \u001b[38;5;28;01mif\u001b[39;00m \u001b[38;5;28mself\u001b[39m\u001b[38;5;241m.\u001b[39mreturn_generator \u001b[38;5;28;01melse\u001b[39;00m \u001b[38;5;28;43mlist\u001b[39;49m\u001b[43m(\u001b[49m\u001b[43moutput\u001b[49m\u001b[43m)\u001b[49m\n\u001b[1;32m   1865\u001b[0m \u001b[38;5;66;03m# Let's create an ID that uniquely identifies the current call. If the\u001b[39;00m\n\u001b[1;32m   1866\u001b[0m \u001b[38;5;66;03m# call is interrupted early and that the same instance is immediately\u001b[39;00m\n\u001b[1;32m   1867\u001b[0m \u001b[38;5;66;03m# re-used, this id will be used to prevent workers that were\u001b[39;00m\n\u001b[1;32m   1868\u001b[0m \u001b[38;5;66;03m# concurrently finalizing a task from the previous call to run the\u001b[39;00m\n\u001b[1;32m   1869\u001b[0m \u001b[38;5;66;03m# callback.\u001b[39;00m\n\u001b[1;32m   1870\u001b[0m \u001b[38;5;28;01mwith\u001b[39;00m \u001b[38;5;28mself\u001b[39m\u001b[38;5;241m.\u001b[39m_lock:\n",
      "File \u001b[0;32m~/.local/lib/python3.9/site-packages/joblib/parallel.py:1792\u001b[0m, in \u001b[0;36mParallel._get_sequential_output\u001b[0;34m(self, iterable)\u001b[0m\n\u001b[1;32m   1790\u001b[0m \u001b[38;5;28mself\u001b[39m\u001b[38;5;241m.\u001b[39mn_dispatched_batches \u001b[38;5;241m+\u001b[39m\u001b[38;5;241m=\u001b[39m \u001b[38;5;241m1\u001b[39m\n\u001b[1;32m   1791\u001b[0m \u001b[38;5;28mself\u001b[39m\u001b[38;5;241m.\u001b[39mn_dispatched_tasks \u001b[38;5;241m+\u001b[39m\u001b[38;5;241m=\u001b[39m \u001b[38;5;241m1\u001b[39m\n\u001b[0;32m-> 1792\u001b[0m res \u001b[38;5;241m=\u001b[39m \u001b[43mfunc\u001b[49m\u001b[43m(\u001b[49m\u001b[38;5;241;43m*\u001b[39;49m\u001b[43margs\u001b[49m\u001b[43m,\u001b[49m\u001b[43m \u001b[49m\u001b[38;5;241;43m*\u001b[39;49m\u001b[38;5;241;43m*\u001b[39;49m\u001b[43mkwargs\u001b[49m\u001b[43m)\u001b[49m\n\u001b[1;32m   1793\u001b[0m \u001b[38;5;28mself\u001b[39m\u001b[38;5;241m.\u001b[39mn_completed_tasks \u001b[38;5;241m+\u001b[39m\u001b[38;5;241m=\u001b[39m \u001b[38;5;241m1\u001b[39m\n\u001b[1;32m   1794\u001b[0m \u001b[38;5;28mself\u001b[39m\u001b[38;5;241m.\u001b[39mprint_progress()\n",
      "File \u001b[0;32m~/.local/lib/python3.9/site-packages/sklearn/utils/parallel.py:139\u001b[0m, in \u001b[0;36m_FuncWrapper.__call__\u001b[0;34m(self, *args, **kwargs)\u001b[0m\n\u001b[1;32m    137\u001b[0m     config \u001b[38;5;241m=\u001b[39m {}\n\u001b[1;32m    138\u001b[0m \u001b[38;5;28;01mwith\u001b[39;00m config_context(\u001b[38;5;241m*\u001b[39m\u001b[38;5;241m*\u001b[39mconfig):\n\u001b[0;32m--> 139\u001b[0m     \u001b[38;5;28;01mreturn\u001b[39;00m \u001b[38;5;28;43mself\u001b[39;49m\u001b[38;5;241;43m.\u001b[39;49m\u001b[43mfunction\u001b[49m\u001b[43m(\u001b[49m\u001b[38;5;241;43m*\u001b[39;49m\u001b[43margs\u001b[49m\u001b[43m,\u001b[49m\u001b[43m \u001b[49m\u001b[38;5;241;43m*\u001b[39;49m\u001b[38;5;241;43m*\u001b[39;49m\u001b[43mkwargs\u001b[49m\u001b[43m)\u001b[49m\n",
      "File \u001b[0;32m~/.local/lib/python3.9/site-packages/sklearn/ensemble/_forest.py:734\u001b[0m, in \u001b[0;36m_accumulate_prediction\u001b[0;34m(predict, X, out, lock)\u001b[0m\n\u001b[1;32m    732\u001b[0m \u001b[38;5;28;01mwith\u001b[39;00m lock:\n\u001b[1;32m    733\u001b[0m     \u001b[38;5;28;01mif\u001b[39;00m \u001b[38;5;28mlen\u001b[39m(out) \u001b[38;5;241m==\u001b[39m \u001b[38;5;241m1\u001b[39m:\n\u001b[0;32m--> 734\u001b[0m         out[\u001b[38;5;241m0\u001b[39m] \u001b[38;5;241m+\u001b[39m\u001b[38;5;241m=\u001b[39m prediction\n\u001b[1;32m    735\u001b[0m     \u001b[38;5;28;01melse\u001b[39;00m:\n\u001b[1;32m    736\u001b[0m         \u001b[38;5;28;01mfor\u001b[39;00m i \u001b[38;5;129;01min\u001b[39;00m \u001b[38;5;28mrange\u001b[39m(\u001b[38;5;28mlen\u001b[39m(out)):\n",
      "\u001b[0;31mValueError\u001b[0m: operands could not be broadcast together with shapes (100832,9) (100832,8) (100832,9) "
     ]
    }
   ],
   "source": [
    "from sklearn.metrics import classification_report, confusion_matrix, accuracy_score\n",
    "\n",
    "# Make predictions on the test set\n",
    "y_pred_global = global_model.predict(X_test_imputed_aligned)\n",
    "\n",
    "\n"
   ]
  },
  {
   "cell_type": "code",
   "execution_count": null,
   "id": "e825050d-d9c8-434e-9725-ca8d5223dd1f",
   "metadata": {},
   "outputs": [],
   "source": []
  }
 ],
 "metadata": {
  "kernelspec": {
   "display_name": "Python 3",
   "language": "python",
   "name": "python3"
  },
  "language_info": {
   "codemirror_mode": {
    "name": "ipython",
    "version": 3
   },
   "file_extension": ".py",
   "mimetype": "text/x-python",
   "name": "python",
   "nbconvert_exporter": "python",
   "pygments_lexer": "ipython3",
   "version": "3.9.16"
  }
 },
 "nbformat": 4,
 "nbformat_minor": 5
}
